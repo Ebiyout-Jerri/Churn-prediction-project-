{
 "cells": [
  {
   "cell_type": "code",
   "execution_count": 1,
   "metadata": {
    "executionInfo": {
     "elapsed": 271,
     "status": "ok",
     "timestamp": 1745851331296,
     "user": {
      "displayName": "Ebiyout Jerri",
      "userId": "17044078967953802273"
     },
     "user_tz": -330
    },
    "id": "-sfi-ha86ckG"
   },
   "outputs": [],
   "source": [
    "#Importing the libraries\n",
    "import pandas as pd\n",
    "import numpy as np\n",
    "import matplotlib.pyplot as plt\n",
    "import seaborn as sns"
   ]
  },
  {
   "cell_type": "code",
   "execution_count": 2,
   "metadata": {
    "colab": {
     "base_uri": "https://localhost:8080/",
     "height": 226
    },
    "executionInfo": {
     "elapsed": 547,
     "status": "ok",
     "timestamp": 1745851331878,
     "user": {
      "displayName": "Ebiyout Jerri",
      "userId": "17044078967953802273"
     },
     "user_tz": -330
    },
    "id": "zyvb5qno6ckH",
    "outputId": "50f6b8ee-45ec-4a69-ee2a-09cf8449114a"
   },
   "outputs": [
    {
     "data": {
      "text/html": [
       "<div>\n",
       "<style scoped>\n",
       "    .dataframe tbody tr th:only-of-type {\n",
       "        vertical-align: middle;\n",
       "    }\n",
       "\n",
       "    .dataframe tbody tr th {\n",
       "        vertical-align: top;\n",
       "    }\n",
       "\n",
       "    .dataframe thead th {\n",
       "        text-align: right;\n",
       "    }\n",
       "</style>\n",
       "<table border=\"1\" class=\"dataframe\">\n",
       "  <thead>\n",
       "    <tr style=\"text-align: right;\">\n",
       "      <th></th>\n",
       "      <th>RowNumber</th>\n",
       "      <th>CustomerId</th>\n",
       "      <th>Surname</th>\n",
       "      <th>CreditScore</th>\n",
       "      <th>Geography</th>\n",
       "      <th>Gender</th>\n",
       "      <th>Age</th>\n",
       "      <th>Tenure</th>\n",
       "      <th>Balance</th>\n",
       "      <th>NumOfProducts</th>\n",
       "      <th>HasCrCard</th>\n",
       "      <th>IsActiveMember</th>\n",
       "      <th>EstimatedSalary</th>\n",
       "      <th>Exited</th>\n",
       "    </tr>\n",
       "  </thead>\n",
       "  <tbody>\n",
       "    <tr>\n",
       "      <th>0</th>\n",
       "      <td>1</td>\n",
       "      <td>15634602</td>\n",
       "      <td>Hargrave</td>\n",
       "      <td>619</td>\n",
       "      <td>France</td>\n",
       "      <td>Female</td>\n",
       "      <td>42.0</td>\n",
       "      <td>2.0</td>\n",
       "      <td>0.00</td>\n",
       "      <td>1</td>\n",
       "      <td>1</td>\n",
       "      <td>1.0</td>\n",
       "      <td>101348.88</td>\n",
       "      <td>1</td>\n",
       "    </tr>\n",
       "    <tr>\n",
       "      <th>1</th>\n",
       "      <td>2</td>\n",
       "      <td>15647311</td>\n",
       "      <td>Hill</td>\n",
       "      <td>608</td>\n",
       "      <td>Spain</td>\n",
       "      <td>Female</td>\n",
       "      <td>41.0</td>\n",
       "      <td>1.0</td>\n",
       "      <td>83807.86</td>\n",
       "      <td>1</td>\n",
       "      <td>0</td>\n",
       "      <td>1.0</td>\n",
       "      <td>112542.58</td>\n",
       "      <td>0</td>\n",
       "    </tr>\n",
       "    <tr>\n",
       "      <th>2</th>\n",
       "      <td>3</td>\n",
       "      <td>15619304</td>\n",
       "      <td>Onio</td>\n",
       "      <td>502</td>\n",
       "      <td>France</td>\n",
       "      <td>Female</td>\n",
       "      <td>42.0</td>\n",
       "      <td>8.0</td>\n",
       "      <td>159660.80</td>\n",
       "      <td>3</td>\n",
       "      <td>1</td>\n",
       "      <td>0.0</td>\n",
       "      <td>113931.57</td>\n",
       "      <td>1</td>\n",
       "    </tr>\n",
       "    <tr>\n",
       "      <th>3</th>\n",
       "      <td>4</td>\n",
       "      <td>15701354</td>\n",
       "      <td>Boni</td>\n",
       "      <td>699</td>\n",
       "      <td>France</td>\n",
       "      <td>Female</td>\n",
       "      <td>39.0</td>\n",
       "      <td>1.0</td>\n",
       "      <td>0.00</td>\n",
       "      <td>2</td>\n",
       "      <td>0</td>\n",
       "      <td>0.0</td>\n",
       "      <td>93826.63</td>\n",
       "      <td>0</td>\n",
       "    </tr>\n",
       "    <tr>\n",
       "      <th>4</th>\n",
       "      <td>5</td>\n",
       "      <td>15737888</td>\n",
       "      <td>Mitchell</td>\n",
       "      <td>850</td>\n",
       "      <td>Spain</td>\n",
       "      <td>Female</td>\n",
       "      <td>43.0</td>\n",
       "      <td>2.0</td>\n",
       "      <td>125510.82</td>\n",
       "      <td>1</td>\n",
       "      <td>1</td>\n",
       "      <td>1.0</td>\n",
       "      <td>79084.10</td>\n",
       "      <td>0</td>\n",
       "    </tr>\n",
       "  </tbody>\n",
       "</table>\n",
       "</div>"
      ],
      "text/plain": [
       "   RowNumber  CustomerId   Surname  CreditScore Geography  Gender   Age  \\\n",
       "0          1    15634602  Hargrave          619    France  Female  42.0   \n",
       "1          2    15647311      Hill          608     Spain  Female  41.0   \n",
       "2          3    15619304      Onio          502    France  Female  42.0   \n",
       "3          4    15701354      Boni          699    France  Female  39.0   \n",
       "4          5    15737888  Mitchell          850     Spain  Female  43.0   \n",
       "\n",
       "   Tenure    Balance  NumOfProducts  HasCrCard  IsActiveMember  \\\n",
       "0     2.0       0.00              1          1             1.0   \n",
       "1     1.0   83807.86              1          0             1.0   \n",
       "2     8.0  159660.80              3          1             0.0   \n",
       "3     1.0       0.00              2          0             0.0   \n",
       "4     2.0  125510.82              1          1             1.0   \n",
       "\n",
       "   EstimatedSalary  Exited  \n",
       "0        101348.88       1  \n",
       "1        112542.58       0  \n",
       "2        113931.57       1  \n",
       "3         93826.63       0  \n",
       "4         79084.10       0  "
      ]
     },
     "execution_count": 2,
     "metadata": {},
     "output_type": "execute_result"
    }
   ],
   "source": [
    "df=pd.read_csv(r'C:\\Users\\suriy\\Documents\\DS_project\\Churn_Modelling.csv')\n",
    "df.head()"
   ]
  },
  {
   "cell_type": "markdown",
   "metadata": {
    "id": "54QfiAAo6ckI"
   },
   "source": [
    "# Exploratory Data Analysis"
   ]
  },
  {
   "cell_type": "code",
   "execution_count": 3,
   "metadata": {
    "colab": {
     "base_uri": "https://localhost:8080/",
     "height": 382
    },
    "executionInfo": {
     "elapsed": 260,
     "status": "ok",
     "timestamp": 1745851332070,
     "user": {
      "displayName": "Ebiyout Jerri",
      "userId": "17044078967953802273"
     },
     "user_tz": -330
    },
    "id": "WGbk9Pes6ckJ",
    "outputId": "a8bea16a-ecbc-407e-b867-177136ec4758"
   },
   "outputs": [
    {
     "data": {
      "text/html": [
       "<div>\n",
       "<style scoped>\n",
       "    .dataframe tbody tr th:only-of-type {\n",
       "        vertical-align: middle;\n",
       "    }\n",
       "\n",
       "    .dataframe tbody tr th {\n",
       "        vertical-align: top;\n",
       "    }\n",
       "\n",
       "    .dataframe thead th {\n",
       "        text-align: right;\n",
       "    }\n",
       "</style>\n",
       "<table border=\"1\" class=\"dataframe\">\n",
       "  <thead>\n",
       "    <tr style=\"text-align: right;\">\n",
       "      <th></th>\n",
       "      <th>RowNumber</th>\n",
       "      <th>CustomerId</th>\n",
       "      <th>Surname</th>\n",
       "      <th>CreditScore</th>\n",
       "      <th>Geography</th>\n",
       "      <th>Gender</th>\n",
       "      <th>Age</th>\n",
       "      <th>Tenure</th>\n",
       "      <th>Balance</th>\n",
       "      <th>NumOfProducts</th>\n",
       "      <th>HasCrCard</th>\n",
       "      <th>IsActiveMember</th>\n",
       "      <th>EstimatedSalary</th>\n",
       "      <th>Exited</th>\n",
       "    </tr>\n",
       "  </thead>\n",
       "  <tbody>\n",
       "    <tr>\n",
       "      <th>7238</th>\n",
       "      <td>7238</td>\n",
       "      <td>15753550</td>\n",
       "      <td>Levien</td>\n",
       "      <td>684</td>\n",
       "      <td>France</td>\n",
       "      <td>Female</td>\n",
       "      <td>43.0</td>\n",
       "      <td>7.0</td>\n",
       "      <td>0.00</td>\n",
       "      <td>2</td>\n",
       "      <td>1</td>\n",
       "      <td>0.0</td>\n",
       "      <td>131093.99</td>\n",
       "      <td>0</td>\n",
       "    </tr>\n",
       "    <tr>\n",
       "      <th>7381</th>\n",
       "      <td>7381</td>\n",
       "      <td>15625311</td>\n",
       "      <td>Dickinson</td>\n",
       "      <td>589</td>\n",
       "      <td>Germany</td>\n",
       "      <td>Female</td>\n",
       "      <td>41.0</td>\n",
       "      <td>7.0</td>\n",
       "      <td>92618.62</td>\n",
       "      <td>1</td>\n",
       "      <td>1</td>\n",
       "      <td>1.0</td>\n",
       "      <td>101178.85</td>\n",
       "      <td>0</td>\n",
       "    </tr>\n",
       "    <tr>\n",
       "      <th>6563</th>\n",
       "      <td>6563</td>\n",
       "      <td>15797475</td>\n",
       "      <td>Brennan</td>\n",
       "      <td>720</td>\n",
       "      <td>France</td>\n",
       "      <td>Male</td>\n",
       "      <td>44.0</td>\n",
       "      <td>3.0</td>\n",
       "      <td>86102.27</td>\n",
       "      <td>1</td>\n",
       "      <td>1</td>\n",
       "      <td>0.0</td>\n",
       "      <td>180134.88</td>\n",
       "      <td>1</td>\n",
       "    </tr>\n",
       "    <tr>\n",
       "      <th>2043</th>\n",
       "      <td>2043</td>\n",
       "      <td>15635459</td>\n",
       "      <td>Shih</td>\n",
       "      <td>667</td>\n",
       "      <td>Germany</td>\n",
       "      <td>Female</td>\n",
       "      <td>27.0</td>\n",
       "      <td>3.0</td>\n",
       "      <td>106116.50</td>\n",
       "      <td>2</td>\n",
       "      <td>1</td>\n",
       "      <td>0.0</td>\n",
       "      <td>3674.71</td>\n",
       "      <td>0</td>\n",
       "    </tr>\n",
       "    <tr>\n",
       "      <th>5332</th>\n",
       "      <td>5332</td>\n",
       "      <td>15700627</td>\n",
       "      <td>Y?</td>\n",
       "      <td>637</td>\n",
       "      <td>Germany</td>\n",
       "      <td>Female</td>\n",
       "      <td>46.0</td>\n",
       "      <td>2.0</td>\n",
       "      <td>143500.82</td>\n",
       "      <td>1</td>\n",
       "      <td>1</td>\n",
       "      <td>0.0</td>\n",
       "      <td>166996.46</td>\n",
       "      <td>1</td>\n",
       "    </tr>\n",
       "    <tr>\n",
       "      <th>9249</th>\n",
       "      <td>9249</td>\n",
       "      <td>15648638</td>\n",
       "      <td>Chia</td>\n",
       "      <td>629</td>\n",
       "      <td>Spain</td>\n",
       "      <td>Male</td>\n",
       "      <td>34.0</td>\n",
       "      <td>6.0</td>\n",
       "      <td>0.00</td>\n",
       "      <td>2</td>\n",
       "      <td>1</td>\n",
       "      <td>0.0</td>\n",
       "      <td>190347.72</td>\n",
       "      <td>0</td>\n",
       "    </tr>\n",
       "    <tr>\n",
       "      <th>3355</th>\n",
       "      <td>3355</td>\n",
       "      <td>15751333</td>\n",
       "      <td>Atkinson</td>\n",
       "      <td>695</td>\n",
       "      <td>France</td>\n",
       "      <td>Female</td>\n",
       "      <td>36.0</td>\n",
       "      <td>2.0</td>\n",
       "      <td>0.00</td>\n",
       "      <td>2</td>\n",
       "      <td>0</td>\n",
       "      <td>1.0</td>\n",
       "      <td>167749.54</td>\n",
       "      <td>0</td>\n",
       "    </tr>\n",
       "    <tr>\n",
       "      <th>8105</th>\n",
       "      <td>8105</td>\n",
       "      <td>15805413</td>\n",
       "      <td>Chiang</td>\n",
       "      <td>769</td>\n",
       "      <td>France</td>\n",
       "      <td>Female</td>\n",
       "      <td>31.0</td>\n",
       "      <td>6.0</td>\n",
       "      <td>117852.26</td>\n",
       "      <td>2</td>\n",
       "      <td>1</td>\n",
       "      <td>0.0</td>\n",
       "      <td>147668.64</td>\n",
       "      <td>0</td>\n",
       "    </tr>\n",
       "    <tr>\n",
       "      <th>2527</th>\n",
       "      <td>2527</td>\n",
       "      <td>15727919</td>\n",
       "      <td>Chukwuemeka</td>\n",
       "      <td>671</td>\n",
       "      <td>Spain</td>\n",
       "      <td>Female</td>\n",
       "      <td>29.0</td>\n",
       "      <td>6.0</td>\n",
       "      <td>0.00</td>\n",
       "      <td>2</td>\n",
       "      <td>0</td>\n",
       "      <td>0.0</td>\n",
       "      <td>12048.67</td>\n",
       "      <td>0</td>\n",
       "    </tr>\n",
       "    <tr>\n",
       "      <th>2462</th>\n",
       "      <td>2462</td>\n",
       "      <td>15592765</td>\n",
       "      <td>Marks</td>\n",
       "      <td>637</td>\n",
       "      <td>France</td>\n",
       "      <td>Male</td>\n",
       "      <td>40.0</td>\n",
       "      <td>8.0</td>\n",
       "      <td>125470.81</td>\n",
       "      <td>1</td>\n",
       "      <td>1</td>\n",
       "      <td>1.0</td>\n",
       "      <td>174536.17</td>\n",
       "      <td>0</td>\n",
       "    </tr>\n",
       "  </tbody>\n",
       "</table>\n",
       "</div>"
      ],
      "text/plain": [
       "      RowNumber  CustomerId      Surname  CreditScore Geography  Gender   Age  \\\n",
       "7238       7238    15753550       Levien          684    France  Female  43.0   \n",
       "7381       7381    15625311    Dickinson          589   Germany  Female  41.0   \n",
       "6563       6563    15797475      Brennan          720    France    Male  44.0   \n",
       "2043       2043    15635459         Shih          667   Germany  Female  27.0   \n",
       "5332       5332    15700627           Y?          637   Germany  Female  46.0   \n",
       "9249       9249    15648638         Chia          629     Spain    Male  34.0   \n",
       "3355       3355    15751333     Atkinson          695    France  Female  36.0   \n",
       "8105       8105    15805413       Chiang          769    France  Female  31.0   \n",
       "2527       2527    15727919  Chukwuemeka          671     Spain  Female  29.0   \n",
       "2462       2462    15592765        Marks          637    France    Male  40.0   \n",
       "\n",
       "      Tenure    Balance  NumOfProducts  HasCrCard  IsActiveMember  \\\n",
       "7238     7.0       0.00              2          1             0.0   \n",
       "7381     7.0   92618.62              1          1             1.0   \n",
       "6563     3.0   86102.27              1          1             0.0   \n",
       "2043     3.0  106116.50              2          1             0.0   \n",
       "5332     2.0  143500.82              1          1             0.0   \n",
       "9249     6.0       0.00              2          1             0.0   \n",
       "3355     2.0       0.00              2          0             1.0   \n",
       "8105     6.0  117852.26              2          1             0.0   \n",
       "2527     6.0       0.00              2          0             0.0   \n",
       "2462     8.0  125470.81              1          1             1.0   \n",
       "\n",
       "      EstimatedSalary  Exited  \n",
       "7238        131093.99       0  \n",
       "7381        101178.85       0  \n",
       "6563        180134.88       1  \n",
       "2043          3674.71       0  \n",
       "5332        166996.46       1  \n",
       "9249        190347.72       0  \n",
       "3355        167749.54       0  \n",
       "8105        147668.64       0  \n",
       "2527         12048.67       0  \n",
       "2462        174536.17       0  "
      ]
     },
     "execution_count": 3,
     "metadata": {},
     "output_type": "execute_result"
    }
   ],
   "source": [
    "df.sample(10)"
   ]
  },
  {
   "cell_type": "code",
   "execution_count": 4,
   "metadata": {
    "colab": {
     "base_uri": "https://localhost:8080/"
    },
    "executionInfo": {
     "elapsed": 169,
     "status": "ok",
     "timestamp": 1745851332075,
     "user": {
      "displayName": "Ebiyout Jerri",
      "userId": "17044078967953802273"
     },
     "user_tz": -330
    },
    "id": "ll6VeCMX6ckJ",
    "outputId": "70e92ce0-5146-4bc5-b706-a964f3c69d26"
   },
   "outputs": [
    {
     "data": {
      "text/plain": [
       "(10003, 14)"
      ]
     },
     "execution_count": 4,
     "metadata": {},
     "output_type": "execute_result"
    }
   ],
   "source": [
    "df.shape"
   ]
  },
  {
   "cell_type": "code",
   "execution_count": 5,
   "metadata": {
    "colab": {
     "base_uri": "https://localhost:8080/"
    },
    "executionInfo": {
     "elapsed": 140,
     "status": "ok",
     "timestamp": 1745851332080,
     "user": {
      "displayName": "Ebiyout Jerri",
      "userId": "17044078967953802273"
     },
     "user_tz": -330
    },
    "id": "xKiHz0sw6ckJ",
    "outputId": "224dda26-ebfc-4aa2-de0f-f11e2f7d15e5"
   },
   "outputs": [
    {
     "data": {
      "text/plain": [
       "Index(['RowNumber', 'CustomerId', 'Surname', 'CreditScore', 'Geography',\n",
       "       'Gender', 'Age', 'Tenure', 'Balance', 'NumOfProducts', 'HasCrCard',\n",
       "       'IsActiveMember', 'EstimatedSalary', 'Exited'],\n",
       "      dtype='object')"
      ]
     },
     "execution_count": 5,
     "metadata": {},
     "output_type": "execute_result"
    }
   ],
   "source": [
    "df.columns"
   ]
  },
  {
   "cell_type": "code",
   "execution_count": 6,
   "metadata": {
    "colab": {
     "base_uri": "https://localhost:8080/"
    },
    "executionInfo": {
     "elapsed": 47,
     "status": "ok",
     "timestamp": 1745851332131,
     "user": {
      "displayName": "Ebiyout Jerri",
      "userId": "17044078967953802273"
     },
     "user_tz": -330
    },
    "id": "ZbucWAfh6ckK",
    "outputId": "e5f1f902-2fc0-4f8d-84c8-73222d52f5e6"
   },
   "outputs": [
    {
     "name": "stdout",
     "output_type": "stream",
     "text": [
      "<class 'pandas.core.frame.DataFrame'>\n",
      "RangeIndex: 10003 entries, 0 to 10002\n",
      "Data columns (total 14 columns):\n",
      " #   Column           Non-Null Count  Dtype  \n",
      "---  ------           --------------  -----  \n",
      " 0   RowNumber        10003 non-null  int64  \n",
      " 1   CustomerId       10003 non-null  int64  \n",
      " 2   Surname          10003 non-null  object \n",
      " 3   CreditScore      10003 non-null  int64  \n",
      " 4   Geography        10002 non-null  object \n",
      " 5   Gender           10001 non-null  object \n",
      " 6   Age              10001 non-null  float64\n",
      " 7   Tenure           10002 non-null  float64\n",
      " 8   Balance          10000 non-null  float64\n",
      " 9   NumOfProducts    10003 non-null  int64  \n",
      " 10  HasCrCard        10003 non-null  int64  \n",
      " 11  IsActiveMember   10002 non-null  float64\n",
      " 12  EstimatedSalary  9998 non-null   float64\n",
      " 13  Exited           10003 non-null  int64  \n",
      "dtypes: float64(5), int64(6), object(3)\n",
      "memory usage: 1.1+ MB\n"
     ]
    }
   ],
   "source": [
    "df.info()"
   ]
  },
  {
   "cell_type": "code",
   "execution_count": 7,
   "metadata": {
    "colab": {
     "base_uri": "https://localhost:8080/",
     "height": 523
    },
    "executionInfo": {
     "elapsed": 39,
     "status": "ok",
     "timestamp": 1745851332161,
     "user": {
      "displayName": "Ebiyout Jerri",
      "userId": "17044078967953802273"
     },
     "user_tz": -330
    },
    "id": "FbW_BVpC6ckK",
    "outputId": "53298f64-5fe4-4a06-e9e3-3e423a2def28"
   },
   "outputs": [
    {
     "data": {
      "text/plain": [
       "RowNumber          0\n",
       "CustomerId         0\n",
       "Surname            0\n",
       "CreditScore        0\n",
       "Geography          1\n",
       "Gender             2\n",
       "Age                2\n",
       "Tenure             1\n",
       "Balance            3\n",
       "NumOfProducts      0\n",
       "HasCrCard          0\n",
       "IsActiveMember     1\n",
       "EstimatedSalary    5\n",
       "Exited             0\n",
       "dtype: int64"
      ]
     },
     "execution_count": 7,
     "metadata": {},
     "output_type": "execute_result"
    }
   ],
   "source": [
    "df.isna().sum()"
   ]
  },
  {
   "cell_type": "code",
   "execution_count": 8,
   "metadata": {
    "executionInfo": {
     "elapsed": 19,
     "status": "ok",
     "timestamp": 1745851332166,
     "user": {
      "displayName": "Ebiyout Jerri",
      "userId": "17044078967953802273"
     },
     "user_tz": -330
    },
    "id": "GXgx-dhX6ckK"
   },
   "outputs": [],
   "source": [
    "df=df.dropna()"
   ]
  },
  {
   "cell_type": "code",
   "execution_count": 9,
   "metadata": {
    "colab": {
     "base_uri": "https://localhost:8080/",
     "height": 523
    },
    "executionInfo": {
     "elapsed": 116,
     "status": "ok",
     "timestamp": 1745851332272,
     "user": {
      "displayName": "Ebiyout Jerri",
      "userId": "17044078967953802273"
     },
     "user_tz": -330
    },
    "id": "P7T9LxFt6ckK",
    "outputId": "728d2e56-08ae-47ec-a8d6-b077f941c6a8"
   },
   "outputs": [
    {
     "data": {
      "text/plain": [
       "RowNumber          0\n",
       "CustomerId         0\n",
       "Surname            0\n",
       "CreditScore        0\n",
       "Geography          0\n",
       "Gender             0\n",
       "Age                0\n",
       "Tenure             0\n",
       "Balance            0\n",
       "NumOfProducts      0\n",
       "HasCrCard          0\n",
       "IsActiveMember     0\n",
       "EstimatedSalary    0\n",
       "Exited             0\n",
       "dtype: int64"
      ]
     },
     "execution_count": 9,
     "metadata": {},
     "output_type": "execute_result"
    }
   ],
   "source": [
    "df.isnull().sum()"
   ]
  },
  {
   "cell_type": "markdown",
   "metadata": {
    "id": "yZQ7kusM6ckL"
   },
   "source": [
    "All the null values are now dropped and there is no null values in the variable"
   ]
  },
  {
   "cell_type": "code",
   "execution_count": 10,
   "metadata": {
    "colab": {
     "base_uri": "https://localhost:8080/"
    },
    "executionInfo": {
     "elapsed": 41,
     "status": "ok",
     "timestamp": 1745851332317,
     "user": {
      "displayName": "Ebiyout Jerri",
      "userId": "17044078967953802273"
     },
     "user_tz": -330
    },
    "id": "1Vwsoa8x6ckL",
    "outputId": "41c4e208-c9e0-492f-b35f-eb402fee19d8"
   },
   "outputs": [
    {
     "name": "stdout",
     "output_type": "stream",
     "text": [
      "The duplicated values are:\n",
      "15681068\n",
      "15779423\n",
      "15594612\n"
     ]
    }
   ],
   "source": [
    "dup=[]\n",
    "print(\"The duplicated values are:\")\n",
    "for i in df['CustomerId']:\n",
    "    if i in dup:\n",
    "        print(i)\n",
    "    else:\n",
    "        dup.append(i)"
   ]
  },
  {
   "cell_type": "code",
   "execution_count": 11,
   "metadata": {
    "executionInfo": {
     "elapsed": 9,
     "status": "ok",
     "timestamp": 1745851332331,
     "user": {
      "displayName": "Ebiyout Jerri",
      "userId": "17044078967953802273"
     },
     "user_tz": -330
    },
    "id": "gL1hRURI6ckL"
   },
   "outputs": [],
   "source": [
    "df=df.drop_duplicates()"
   ]
  },
  {
   "cell_type": "code",
   "execution_count": 12,
   "metadata": {
    "colab": {
     "base_uri": "https://localhost:8080/"
    },
    "executionInfo": {
     "elapsed": 138,
     "status": "ok",
     "timestamp": 1745851332476,
     "user": {
      "displayName": "Ebiyout Jerri",
      "userId": "17044078967953802273"
     },
     "user_tz": -330
    },
    "id": "MoaM9lQo6ckL",
    "outputId": "d4928702-1977-45c8-8d70-11a55e81a157"
   },
   "outputs": [
    {
     "data": {
      "text/plain": [
       "0"
      ]
     },
     "execution_count": 12,
     "metadata": {},
     "output_type": "execute_result"
    }
   ],
   "source": [
    "df.duplicated().sum()"
   ]
  },
  {
   "cell_type": "code",
   "execution_count": 13,
   "metadata": {
    "colab": {
     "base_uri": "https://localhost:8080/"
    },
    "executionInfo": {
     "elapsed": 50,
     "status": "ok",
     "timestamp": 1745851332530,
     "user": {
      "displayName": "Ebiyout Jerri",
      "userId": "17044078967953802273"
     },
     "user_tz": -330
    },
    "id": "Ft-ZsZ3n6ckM",
    "outputId": "0da52cde-c173-4fee-9ca6-c8de2585a7bc"
   },
   "outputs": [
    {
     "data": {
      "text/plain": [
       "(9994, 14)"
      ]
     },
     "execution_count": 13,
     "metadata": {},
     "output_type": "execute_result"
    }
   ],
   "source": [
    "df.shape"
   ]
  },
  {
   "cell_type": "markdown",
   "metadata": {
    "id": "vhuLRkwz6ckM"
   },
   "source": [
    "the duplicate values are dropped and the dataset is cleared."
   ]
  },
  {
   "cell_type": "code",
   "execution_count": 14,
   "metadata": {
    "colab": {
     "base_uri": "https://localhost:8080/",
     "height": 320
    },
    "executionInfo": {
     "elapsed": 47,
     "status": "ok",
     "timestamp": 1745851332569,
     "user": {
      "displayName": "Ebiyout Jerri",
      "userId": "17044078967953802273"
     },
     "user_tz": -330
    },
    "id": "-vZtIRr86ckM",
    "outputId": "ba94a726-3407-4842-8906-7eb2f2d8dbd8"
   },
   "outputs": [
    {
     "data": {
      "text/html": [
       "<div>\n",
       "<style scoped>\n",
       "    .dataframe tbody tr th:only-of-type {\n",
       "        vertical-align: middle;\n",
       "    }\n",
       "\n",
       "    .dataframe tbody tr th {\n",
       "        vertical-align: top;\n",
       "    }\n",
       "\n",
       "    .dataframe thead th {\n",
       "        text-align: right;\n",
       "    }\n",
       "</style>\n",
       "<table border=\"1\" class=\"dataframe\">\n",
       "  <thead>\n",
       "    <tr style=\"text-align: right;\">\n",
       "      <th></th>\n",
       "      <th>RowNumber</th>\n",
       "      <th>CustomerId</th>\n",
       "      <th>Surname</th>\n",
       "      <th>CreditScore</th>\n",
       "      <th>Geography</th>\n",
       "      <th>Gender</th>\n",
       "      <th>Age</th>\n",
       "      <th>Tenure</th>\n",
       "      <th>Balance</th>\n",
       "      <th>NumOfProducts</th>\n",
       "      <th>HasCrCard</th>\n",
       "      <th>IsActiveMember</th>\n",
       "      <th>EstimatedSalary</th>\n",
       "      <th>Exited</th>\n",
       "    </tr>\n",
       "  </thead>\n",
       "  <tbody>\n",
       "    <tr>\n",
       "      <th>8115</th>\n",
       "      <td>8115</td>\n",
       "      <td>15607269</td>\n",
       "      <td>Costa</td>\n",
       "      <td>492</td>\n",
       "      <td>Germany</td>\n",
       "      <td>Female</td>\n",
       "      <td>49.0</td>\n",
       "      <td>2.0</td>\n",
       "      <td>151249.45</td>\n",
       "      <td>2</td>\n",
       "      <td>1</td>\n",
       "      <td>1.0</td>\n",
       "      <td>167237.94</td>\n",
       "      <td>0</td>\n",
       "    </tr>\n",
       "    <tr>\n",
       "      <th>2189</th>\n",
       "      <td>2189</td>\n",
       "      <td>15799211</td>\n",
       "      <td>Anenechi</td>\n",
       "      <td>708</td>\n",
       "      <td>Spain</td>\n",
       "      <td>Female</td>\n",
       "      <td>32.0</td>\n",
       "      <td>8.0</td>\n",
       "      <td>187487.63</td>\n",
       "      <td>1</td>\n",
       "      <td>1</td>\n",
       "      <td>1.0</td>\n",
       "      <td>120115.50</td>\n",
       "      <td>0</td>\n",
       "    </tr>\n",
       "    <tr>\n",
       "      <th>8040</th>\n",
       "      <td>8040</td>\n",
       "      <td>15773520</td>\n",
       "      <td>Begg</td>\n",
       "      <td>672</td>\n",
       "      <td>France</td>\n",
       "      <td>Female</td>\n",
       "      <td>43.0</td>\n",
       "      <td>4.0</td>\n",
       "      <td>92599.55</td>\n",
       "      <td>2</td>\n",
       "      <td>1</td>\n",
       "      <td>1.0</td>\n",
       "      <td>167336.78</td>\n",
       "      <td>0</td>\n",
       "    </tr>\n",
       "    <tr>\n",
       "      <th>9237</th>\n",
       "      <td>9237</td>\n",
       "      <td>15635388</td>\n",
       "      <td>Austin</td>\n",
       "      <td>640</td>\n",
       "      <td>Spain</td>\n",
       "      <td>Male</td>\n",
       "      <td>47.0</td>\n",
       "      <td>6.0</td>\n",
       "      <td>89047.14</td>\n",
       "      <td>1</td>\n",
       "      <td>1</td>\n",
       "      <td>0.0</td>\n",
       "      <td>116286.25</td>\n",
       "      <td>0</td>\n",
       "    </tr>\n",
       "    <tr>\n",
       "      <th>2428</th>\n",
       "      <td>2428</td>\n",
       "      <td>15661821</td>\n",
       "      <td>Johnstone</td>\n",
       "      <td>798</td>\n",
       "      <td>Germany</td>\n",
       "      <td>Female</td>\n",
       "      <td>49.0</td>\n",
       "      <td>5.0</td>\n",
       "      <td>132571.67</td>\n",
       "      <td>1</td>\n",
       "      <td>1</td>\n",
       "      <td>1.0</td>\n",
       "      <td>31686.33</td>\n",
       "      <td>1</td>\n",
       "    </tr>\n",
       "    <tr>\n",
       "      <th>5242</th>\n",
       "      <td>5242</td>\n",
       "      <td>15581526</td>\n",
       "      <td>Iweobiegbulam</td>\n",
       "      <td>574</td>\n",
       "      <td>France</td>\n",
       "      <td>Male</td>\n",
       "      <td>41.0</td>\n",
       "      <td>1.0</td>\n",
       "      <td>0.00</td>\n",
       "      <td>2</td>\n",
       "      <td>0</td>\n",
       "      <td>0.0</td>\n",
       "      <td>70550.00</td>\n",
       "      <td>0</td>\n",
       "    </tr>\n",
       "    <tr>\n",
       "      <th>3759</th>\n",
       "      <td>3759</td>\n",
       "      <td>15582910</td>\n",
       "      <td>Turnbull</td>\n",
       "      <td>514</td>\n",
       "      <td>France</td>\n",
       "      <td>Male</td>\n",
       "      <td>38.0</td>\n",
       "      <td>4.0</td>\n",
       "      <td>112230.38</td>\n",
       "      <td>1</td>\n",
       "      <td>1</td>\n",
       "      <td>0.0</td>\n",
       "      <td>16717.11</td>\n",
       "      <td>1</td>\n",
       "    </tr>\n",
       "    <tr>\n",
       "      <th>2444</th>\n",
       "      <td>2444</td>\n",
       "      <td>15706587</td>\n",
       "      <td>Johnston</td>\n",
       "      <td>560</td>\n",
       "      <td>France</td>\n",
       "      <td>Male</td>\n",
       "      <td>57.0</td>\n",
       "      <td>0.0</td>\n",
       "      <td>0.00</td>\n",
       "      <td>2</td>\n",
       "      <td>0</td>\n",
       "      <td>1.0</td>\n",
       "      <td>116781.71</td>\n",
       "      <td>0</td>\n",
       "    </tr>\n",
       "  </tbody>\n",
       "</table>\n",
       "</div>"
      ],
      "text/plain": [
       "      RowNumber  CustomerId        Surname  CreditScore Geography  Gender  \\\n",
       "8115       8115    15607269          Costa          492   Germany  Female   \n",
       "2189       2189    15799211       Anenechi          708     Spain  Female   \n",
       "8040       8040    15773520           Begg          672    France  Female   \n",
       "9237       9237    15635388         Austin          640     Spain    Male   \n",
       "2428       2428    15661821      Johnstone          798   Germany  Female   \n",
       "5242       5242    15581526  Iweobiegbulam          574    France    Male   \n",
       "3759       3759    15582910       Turnbull          514    France    Male   \n",
       "2444       2444    15706587       Johnston          560    France    Male   \n",
       "\n",
       "       Age  Tenure    Balance  NumOfProducts  HasCrCard  IsActiveMember  \\\n",
       "8115  49.0     2.0  151249.45              2          1             1.0   \n",
       "2189  32.0     8.0  187487.63              1          1             1.0   \n",
       "8040  43.0     4.0   92599.55              2          1             1.0   \n",
       "9237  47.0     6.0   89047.14              1          1             0.0   \n",
       "2428  49.0     5.0  132571.67              1          1             1.0   \n",
       "5242  41.0     1.0       0.00              2          0             0.0   \n",
       "3759  38.0     4.0  112230.38              1          1             0.0   \n",
       "2444  57.0     0.0       0.00              2          0             1.0   \n",
       "\n",
       "      EstimatedSalary  Exited  \n",
       "8115        167237.94       0  \n",
       "2189        120115.50       0  \n",
       "8040        167336.78       0  \n",
       "9237        116286.25       0  \n",
       "2428         31686.33       1  \n",
       "5242         70550.00       0  \n",
       "3759         16717.11       1  \n",
       "2444        116781.71       0  "
      ]
     },
     "execution_count": 14,
     "metadata": {},
     "output_type": "execute_result"
    }
   ],
   "source": [
    "df.sample(8)"
   ]
  },
  {
   "cell_type": "code",
   "execution_count": 15,
   "metadata": {
    "executionInfo": {
     "elapsed": 127,
     "status": "ok",
     "timestamp": 1745851332700,
     "user": {
      "displayName": "Ebiyout Jerri",
      "userId": "17044078967953802273"
     },
     "user_tz": -330
    },
    "id": "9_W-SobZ6ckM"
   },
   "outputs": [],
   "source": [
    "df=df.drop('RowNumber',axis=1)"
   ]
  },
  {
   "cell_type": "code",
   "execution_count": 16,
   "metadata": {
    "executionInfo": {
     "elapsed": 8,
     "status": "ok",
     "timestamp": 1745851332715,
     "user": {
      "displayName": "Ebiyout Jerri",
      "userId": "17044078967953802273"
     },
     "user_tz": -330
    },
    "id": "qrSnzaQ_6ckN"
   },
   "outputs": [],
   "source": [
    "df=df.drop('CustomerId',axis=1)"
   ]
  },
  {
   "cell_type": "code",
   "execution_count": 17,
   "metadata": {
    "executionInfo": {
     "elapsed": 367,
     "status": "ok",
     "timestamp": 1745851333091,
     "user": {
      "displayName": "Ebiyout Jerri",
      "userId": "17044078967953802273"
     },
     "user_tz": -330
    },
    "id": "CkXTmCsi6ckN"
   },
   "outputs": [],
   "source": [
    "df=df.drop('Surname',axis=1)"
   ]
  },
  {
   "cell_type": "code",
   "execution_count": 18,
   "metadata": {
    "executionInfo": {
     "elapsed": 367,
     "status": "ok",
     "timestamp": 1745851333099,
     "user": {
      "displayName": "Ebiyout Jerri",
      "userId": "17044078967953802273"
     },
     "user_tz": -330
    },
    "id": "tA4kUNGP6ckN"
   },
   "outputs": [],
   "source": [
    "df=df.rename(columns={'Exited':'Churn'})\n",
    "df=df.rename(columns={'Geography':'Location'})"
   ]
  },
  {
   "cell_type": "code",
   "execution_count": 19,
   "metadata": {
    "colab": {
     "base_uri": "https://localhost:8080/",
     "height": 320
    },
    "executionInfo": {
     "elapsed": 366,
     "status": "ok",
     "timestamp": 1745851333107,
     "user": {
      "displayName": "Ebiyout Jerri",
      "userId": "17044078967953802273"
     },
     "user_tz": -330
    },
    "id": "kz4kuJzO6ckN",
    "outputId": "29c46a60-c99f-43f2-ba38-b1626728688f"
   },
   "outputs": [
    {
     "data": {
      "text/html": [
       "<div>\n",
       "<style scoped>\n",
       "    .dataframe tbody tr th:only-of-type {\n",
       "        vertical-align: middle;\n",
       "    }\n",
       "\n",
       "    .dataframe tbody tr th {\n",
       "        vertical-align: top;\n",
       "    }\n",
       "\n",
       "    .dataframe thead th {\n",
       "        text-align: right;\n",
       "    }\n",
       "</style>\n",
       "<table border=\"1\" class=\"dataframe\">\n",
       "  <thead>\n",
       "    <tr style=\"text-align: right;\">\n",
       "      <th></th>\n",
       "      <th>CreditScore</th>\n",
       "      <th>Location</th>\n",
       "      <th>Gender</th>\n",
       "      <th>Age</th>\n",
       "      <th>Tenure</th>\n",
       "      <th>Balance</th>\n",
       "      <th>NumOfProducts</th>\n",
       "      <th>HasCrCard</th>\n",
       "      <th>IsActiveMember</th>\n",
       "      <th>EstimatedSalary</th>\n",
       "      <th>Churn</th>\n",
       "    </tr>\n",
       "  </thead>\n",
       "  <tbody>\n",
       "    <tr>\n",
       "      <th>6118</th>\n",
       "      <td>850</td>\n",
       "      <td>Spain</td>\n",
       "      <td>Male</td>\n",
       "      <td>37.0</td>\n",
       "      <td>2.0</td>\n",
       "      <td>0.00</td>\n",
       "      <td>2</td>\n",
       "      <td>1</td>\n",
       "      <td>0.0</td>\n",
       "      <td>119969.99</td>\n",
       "      <td>0</td>\n",
       "    </tr>\n",
       "    <tr>\n",
       "      <th>999</th>\n",
       "      <td>811</td>\n",
       "      <td>Germany</td>\n",
       "      <td>Female</td>\n",
       "      <td>28.0</td>\n",
       "      <td>4.0</td>\n",
       "      <td>167738.82</td>\n",
       "      <td>2</td>\n",
       "      <td>1</td>\n",
       "      <td>1.0</td>\n",
       "      <td>9903.42</td>\n",
       "      <td>0</td>\n",
       "    </tr>\n",
       "    <tr>\n",
       "      <th>8176</th>\n",
       "      <td>561</td>\n",
       "      <td>France</td>\n",
       "      <td>Female</td>\n",
       "      <td>22.0</td>\n",
       "      <td>6.0</td>\n",
       "      <td>186788.96</td>\n",
       "      <td>2</td>\n",
       "      <td>1</td>\n",
       "      <td>0.0</td>\n",
       "      <td>73286.80</td>\n",
       "      <td>0</td>\n",
       "    </tr>\n",
       "    <tr>\n",
       "      <th>9510</th>\n",
       "      <td>688</td>\n",
       "      <td>France</td>\n",
       "      <td>Male</td>\n",
       "      <td>29.0</td>\n",
       "      <td>1.0</td>\n",
       "      <td>0.00</td>\n",
       "      <td>2</td>\n",
       "      <td>1</td>\n",
       "      <td>0.0</td>\n",
       "      <td>154695.57</td>\n",
       "      <td>0</td>\n",
       "    </tr>\n",
       "    <tr>\n",
       "      <th>3629</th>\n",
       "      <td>493</td>\n",
       "      <td>Germany</td>\n",
       "      <td>Female</td>\n",
       "      <td>35.0</td>\n",
       "      <td>8.0</td>\n",
       "      <td>178317.60</td>\n",
       "      <td>1</td>\n",
       "      <td>0</td>\n",
       "      <td>0.0</td>\n",
       "      <td>197428.64</td>\n",
       "      <td>0</td>\n",
       "    </tr>\n",
       "    <tr>\n",
       "      <th>8414</th>\n",
       "      <td>749</td>\n",
       "      <td>Spain</td>\n",
       "      <td>Male</td>\n",
       "      <td>36.0</td>\n",
       "      <td>7.0</td>\n",
       "      <td>0.00</td>\n",
       "      <td>2</td>\n",
       "      <td>0</td>\n",
       "      <td>0.0</td>\n",
       "      <td>80134.65</td>\n",
       "      <td>0</td>\n",
       "    </tr>\n",
       "    <tr>\n",
       "      <th>3507</th>\n",
       "      <td>445</td>\n",
       "      <td>Spain</td>\n",
       "      <td>Male</td>\n",
       "      <td>45.0</td>\n",
       "      <td>10.0</td>\n",
       "      <td>0.00</td>\n",
       "      <td>2</td>\n",
       "      <td>0</td>\n",
       "      <td>1.0</td>\n",
       "      <td>90977.48</td>\n",
       "      <td>0</td>\n",
       "    </tr>\n",
       "    <tr>\n",
       "      <th>3790</th>\n",
       "      <td>609</td>\n",
       "      <td>Spain</td>\n",
       "      <td>Female</td>\n",
       "      <td>45.0</td>\n",
       "      <td>4.0</td>\n",
       "      <td>89122.30</td>\n",
       "      <td>1</td>\n",
       "      <td>1</td>\n",
       "      <td>1.0</td>\n",
       "      <td>199256.98</td>\n",
       "      <td>0</td>\n",
       "    </tr>\n",
       "  </tbody>\n",
       "</table>\n",
       "</div>"
      ],
      "text/plain": [
       "      CreditScore Location  Gender   Age  Tenure    Balance  NumOfProducts  \\\n",
       "6118          850    Spain    Male  37.0     2.0       0.00              2   \n",
       "999           811  Germany  Female  28.0     4.0  167738.82              2   \n",
       "8176          561   France  Female  22.0     6.0  186788.96              2   \n",
       "9510          688   France    Male  29.0     1.0       0.00              2   \n",
       "3629          493  Germany  Female  35.0     8.0  178317.60              1   \n",
       "8414          749    Spain    Male  36.0     7.0       0.00              2   \n",
       "3507          445    Spain    Male  45.0    10.0       0.00              2   \n",
       "3790          609    Spain  Female  45.0     4.0   89122.30              1   \n",
       "\n",
       "      HasCrCard  IsActiveMember  EstimatedSalary  Churn  \n",
       "6118          1             0.0        119969.99      0  \n",
       "999           1             1.0          9903.42      0  \n",
       "8176          1             0.0         73286.80      0  \n",
       "9510          1             0.0        154695.57      0  \n",
       "3629          0             0.0        197428.64      0  \n",
       "8414          0             0.0         80134.65      0  \n",
       "3507          0             1.0         90977.48      0  \n",
       "3790          1             1.0        199256.98      0  "
      ]
     },
     "execution_count": 19,
     "metadata": {},
     "output_type": "execute_result"
    }
   ],
   "source": [
    "df.sample(8)"
   ]
  },
  {
   "cell_type": "markdown",
   "metadata": {
    "id": "2Xaw3LRg6ckN"
   },
   "source": [
    "Removed the unwanted columns and renamed the 'Exited' column to 'Churn' and 'Geography' column to 'Location'."
   ]
  },
  {
   "cell_type": "code",
   "execution_count": 20,
   "metadata": {
    "colab": {
     "base_uri": "https://localhost:8080/",
     "height": 320
    },
    "executionInfo": {
     "elapsed": 153,
     "status": "ok",
     "timestamp": 1745851333265,
     "user": {
      "displayName": "Ebiyout Jerri",
      "userId": "17044078967953802273"
     },
     "user_tz": -330
    },
    "id": "ikl6Lgoz6ckN",
    "outputId": "d23bf834-ccbb-4f63-a797-e45f1466cfcc"
   },
   "outputs": [
    {
     "data": {
      "text/html": [
       "<div>\n",
       "<style scoped>\n",
       "    .dataframe tbody tr th:only-of-type {\n",
       "        vertical-align: middle;\n",
       "    }\n",
       "\n",
       "    .dataframe tbody tr th {\n",
       "        vertical-align: top;\n",
       "    }\n",
       "\n",
       "    .dataframe thead th {\n",
       "        text-align: right;\n",
       "    }\n",
       "</style>\n",
       "<table border=\"1\" class=\"dataframe\">\n",
       "  <thead>\n",
       "    <tr style=\"text-align: right;\">\n",
       "      <th></th>\n",
       "      <th>CreditScore</th>\n",
       "      <th>Age</th>\n",
       "      <th>Tenure</th>\n",
       "      <th>Balance</th>\n",
       "      <th>NumOfProducts</th>\n",
       "      <th>HasCrCard</th>\n",
       "      <th>IsActiveMember</th>\n",
       "      <th>EstimatedSalary</th>\n",
       "      <th>Churn</th>\n",
       "    </tr>\n",
       "  </thead>\n",
       "  <tbody>\n",
       "    <tr>\n",
       "      <th>count</th>\n",
       "      <td>9994.000000</td>\n",
       "      <td>9994.000000</td>\n",
       "      <td>9994.000000</td>\n",
       "      <td>9994.000000</td>\n",
       "      <td>9994.000000</td>\n",
       "      <td>9994.000000</td>\n",
       "      <td>9994.000000</td>\n",
       "      <td>9994.000000</td>\n",
       "      <td>9994.000000</td>\n",
       "    </tr>\n",
       "    <tr>\n",
       "      <th>mean</th>\n",
       "      <td>650.493496</td>\n",
       "      <td>38.893936</td>\n",
       "      <td>5.013208</td>\n",
       "      <td>76467.353780</td>\n",
       "      <td>1.530418</td>\n",
       "      <td>0.705623</td>\n",
       "      <td>0.515009</td>\n",
       "      <td>99732.224397</td>\n",
       "      <td>0.203622</td>\n",
       "    </tr>\n",
       "    <tr>\n",
       "      <th>std</th>\n",
       "      <td>96.652318</td>\n",
       "      <td>10.587361</td>\n",
       "      <td>2.892522</td>\n",
       "      <td>62408.634646</td>\n",
       "      <td>0.581689</td>\n",
       "      <td>0.455785</td>\n",
       "      <td>0.499800</td>\n",
       "      <td>57664.752505</td>\n",
       "      <td>0.402711</td>\n",
       "    </tr>\n",
       "    <tr>\n",
       "      <th>min</th>\n",
       "      <td>350.000000</td>\n",
       "      <td>-56.000000</td>\n",
       "      <td>0.000000</td>\n",
       "      <td>0.000000</td>\n",
       "      <td>1.000000</td>\n",
       "      <td>0.000000</td>\n",
       "      <td>0.000000</td>\n",
       "      <td>11.580000</td>\n",
       "      <td>0.000000</td>\n",
       "    </tr>\n",
       "    <tr>\n",
       "      <th>25%</th>\n",
       "      <td>584.000000</td>\n",
       "      <td>32.000000</td>\n",
       "      <td>3.000000</td>\n",
       "      <td>0.000000</td>\n",
       "      <td>1.000000</td>\n",
       "      <td>0.000000</td>\n",
       "      <td>0.000000</td>\n",
       "      <td>50401.420000</td>\n",
       "      <td>0.000000</td>\n",
       "    </tr>\n",
       "    <tr>\n",
       "      <th>50%</th>\n",
       "      <td>652.000000</td>\n",
       "      <td>37.000000</td>\n",
       "      <td>5.000000</td>\n",
       "      <td>97198.540000</td>\n",
       "      <td>1.000000</td>\n",
       "      <td>1.000000</td>\n",
       "      <td>1.000000</td>\n",
       "      <td>99823.380000</td>\n",
       "      <td>0.000000</td>\n",
       "    </tr>\n",
       "    <tr>\n",
       "      <th>75%</th>\n",
       "      <td>717.000000</td>\n",
       "      <td>44.000000</td>\n",
       "      <td>7.750000</td>\n",
       "      <td>127641.417500</td>\n",
       "      <td>2.000000</td>\n",
       "      <td>1.000000</td>\n",
       "      <td>1.000000</td>\n",
       "      <td>149128.692500</td>\n",
       "      <td>0.000000</td>\n",
       "    </tr>\n",
       "    <tr>\n",
       "      <th>max</th>\n",
       "      <td>850.000000</td>\n",
       "      <td>92.000000</td>\n",
       "      <td>10.000000</td>\n",
       "      <td>250898.090000</td>\n",
       "      <td>4.000000</td>\n",
       "      <td>1.000000</td>\n",
       "      <td>1.000000</td>\n",
       "      <td>199992.480000</td>\n",
       "      <td>1.000000</td>\n",
       "    </tr>\n",
       "  </tbody>\n",
       "</table>\n",
       "</div>"
      ],
      "text/plain": [
       "       CreditScore          Age       Tenure        Balance  NumOfProducts  \\\n",
       "count  9994.000000  9994.000000  9994.000000    9994.000000    9994.000000   \n",
       "mean    650.493496    38.893936     5.013208   76467.353780       1.530418   \n",
       "std      96.652318    10.587361     2.892522   62408.634646       0.581689   \n",
       "min     350.000000   -56.000000     0.000000       0.000000       1.000000   \n",
       "25%     584.000000    32.000000     3.000000       0.000000       1.000000   \n",
       "50%     652.000000    37.000000     5.000000   97198.540000       1.000000   \n",
       "75%     717.000000    44.000000     7.750000  127641.417500       2.000000   \n",
       "max     850.000000    92.000000    10.000000  250898.090000       4.000000   \n",
       "\n",
       "         HasCrCard  IsActiveMember  EstimatedSalary        Churn  \n",
       "count  9994.000000     9994.000000      9994.000000  9994.000000  \n",
       "mean      0.705623        0.515009     99732.224397     0.203622  \n",
       "std       0.455785        0.499800     57664.752505     0.402711  \n",
       "min       0.000000        0.000000        11.580000     0.000000  \n",
       "25%       0.000000        0.000000     50401.420000     0.000000  \n",
       "50%       1.000000        1.000000     99823.380000     0.000000  \n",
       "75%       1.000000        1.000000    149128.692500     0.000000  \n",
       "max       1.000000        1.000000    199992.480000     1.000000  "
      ]
     },
     "execution_count": 20,
     "metadata": {},
     "output_type": "execute_result"
    }
   ],
   "source": [
    "#statistical summary of the numerical variables\n",
    "df.describe()"
   ]
  },
  {
   "cell_type": "code",
   "execution_count": 21,
   "metadata": {
    "executionInfo": {
     "elapsed": 12,
     "status": "ok",
     "timestamp": 1745851333283,
     "user": {
      "displayName": "Ebiyout Jerri",
      "userId": "17044078967953802273"
     },
     "user_tz": -330
    },
    "id": "2Wc6J64V6ckO"
   },
   "outputs": [],
   "source": [
    "df=df[df['Age']>0]"
   ]
  },
  {
   "cell_type": "code",
   "execution_count": 22,
   "metadata": {
    "colab": {
     "base_uri": "https://localhost:8080/",
     "height": 320
    },
    "executionInfo": {
     "elapsed": 130,
     "status": "ok",
     "timestamp": 1745851333423,
     "user": {
      "displayName": "Ebiyout Jerri",
      "userId": "17044078967953802273"
     },
     "user_tz": -330
    },
    "id": "FMlJ64Cb6ckO",
    "outputId": "939a918b-ad5a-408e-ac2a-a4832485f0c3"
   },
   "outputs": [
    {
     "data": {
      "text/html": [
       "<div>\n",
       "<style scoped>\n",
       "    .dataframe tbody tr th:only-of-type {\n",
       "        vertical-align: middle;\n",
       "    }\n",
       "\n",
       "    .dataframe tbody tr th {\n",
       "        vertical-align: top;\n",
       "    }\n",
       "\n",
       "    .dataframe thead th {\n",
       "        text-align: right;\n",
       "    }\n",
       "</style>\n",
       "<table border=\"1\" class=\"dataframe\">\n",
       "  <thead>\n",
       "    <tr style=\"text-align: right;\">\n",
       "      <th></th>\n",
       "      <th>CreditScore</th>\n",
       "      <th>Age</th>\n",
       "      <th>Tenure</th>\n",
       "      <th>Balance</th>\n",
       "      <th>NumOfProducts</th>\n",
       "      <th>HasCrCard</th>\n",
       "      <th>IsActiveMember</th>\n",
       "      <th>EstimatedSalary</th>\n",
       "      <th>Churn</th>\n",
       "    </tr>\n",
       "  </thead>\n",
       "  <tbody>\n",
       "    <tr>\n",
       "      <th>count</th>\n",
       "      <td>9991.000000</td>\n",
       "      <td>9991.000000</td>\n",
       "      <td>9991.000000</td>\n",
       "      <td>9991.000000</td>\n",
       "      <td>9991.000000</td>\n",
       "      <td>9991.000000</td>\n",
       "      <td>9991.000000</td>\n",
       "      <td>9991.000000</td>\n",
       "      <td>9991.000000</td>\n",
       "    </tr>\n",
       "    <tr>\n",
       "      <th>mean</th>\n",
       "      <td>650.482835</td>\n",
       "      <td>38.919027</td>\n",
       "      <td>5.013412</td>\n",
       "      <td>76459.585177</td>\n",
       "      <td>1.530477</td>\n",
       "      <td>0.705635</td>\n",
       "      <td>0.514963</td>\n",
       "      <td>99734.110820</td>\n",
       "      <td>0.203483</td>\n",
       "    </tr>\n",
       "    <tr>\n",
       "      <th>std</th>\n",
       "      <td>96.651448</td>\n",
       "      <td>10.486082</td>\n",
       "      <td>2.892090</td>\n",
       "      <td>62415.853244</td>\n",
       "      <td>0.581709</td>\n",
       "      <td>0.455780</td>\n",
       "      <td>0.499801</td>\n",
       "      <td>57671.879883</td>\n",
       "      <td>0.402609</td>\n",
       "    </tr>\n",
       "    <tr>\n",
       "      <th>min</th>\n",
       "      <td>350.000000</td>\n",
       "      <td>18.000000</td>\n",
       "      <td>0.000000</td>\n",
       "      <td>0.000000</td>\n",
       "      <td>1.000000</td>\n",
       "      <td>0.000000</td>\n",
       "      <td>0.000000</td>\n",
       "      <td>11.580000</td>\n",
       "      <td>0.000000</td>\n",
       "    </tr>\n",
       "    <tr>\n",
       "      <th>25%</th>\n",
       "      <td>584.000000</td>\n",
       "      <td>32.000000</td>\n",
       "      <td>3.000000</td>\n",
       "      <td>0.000000</td>\n",
       "      <td>1.000000</td>\n",
       "      <td>0.000000</td>\n",
       "      <td>0.000000</td>\n",
       "      <td>50395.650000</td>\n",
       "      <td>0.000000</td>\n",
       "    </tr>\n",
       "    <tr>\n",
       "      <th>50%</th>\n",
       "      <td>652.000000</td>\n",
       "      <td>37.000000</td>\n",
       "      <td>5.000000</td>\n",
       "      <td>97188.620000</td>\n",
       "      <td>1.000000</td>\n",
       "      <td>1.000000</td>\n",
       "      <td>1.000000</td>\n",
       "      <td>99828.450000</td>\n",
       "      <td>0.000000</td>\n",
       "    </tr>\n",
       "    <tr>\n",
       "      <th>75%</th>\n",
       "      <td>717.000000</td>\n",
       "      <td>44.000000</td>\n",
       "      <td>7.500000</td>\n",
       "      <td>127646.040000</td>\n",
       "      <td>2.000000</td>\n",
       "      <td>1.000000</td>\n",
       "      <td>1.000000</td>\n",
       "      <td>149154.690000</td>\n",
       "      <td>0.000000</td>\n",
       "    </tr>\n",
       "    <tr>\n",
       "      <th>max</th>\n",
       "      <td>850.000000</td>\n",
       "      <td>92.000000</td>\n",
       "      <td>10.000000</td>\n",
       "      <td>250898.090000</td>\n",
       "      <td>4.000000</td>\n",
       "      <td>1.000000</td>\n",
       "      <td>1.000000</td>\n",
       "      <td>199992.480000</td>\n",
       "      <td>1.000000</td>\n",
       "    </tr>\n",
       "  </tbody>\n",
       "</table>\n",
       "</div>"
      ],
      "text/plain": [
       "       CreditScore          Age       Tenure        Balance  NumOfProducts  \\\n",
       "count  9991.000000  9991.000000  9991.000000    9991.000000    9991.000000   \n",
       "mean    650.482835    38.919027     5.013412   76459.585177       1.530477   \n",
       "std      96.651448    10.486082     2.892090   62415.853244       0.581709   \n",
       "min     350.000000    18.000000     0.000000       0.000000       1.000000   \n",
       "25%     584.000000    32.000000     3.000000       0.000000       1.000000   \n",
       "50%     652.000000    37.000000     5.000000   97188.620000       1.000000   \n",
       "75%     717.000000    44.000000     7.500000  127646.040000       2.000000   \n",
       "max     850.000000    92.000000    10.000000  250898.090000       4.000000   \n",
       "\n",
       "         HasCrCard  IsActiveMember  EstimatedSalary        Churn  \n",
       "count  9991.000000     9991.000000      9991.000000  9991.000000  \n",
       "mean      0.705635        0.514963     99734.110820     0.203483  \n",
       "std       0.455780        0.499801     57671.879883     0.402609  \n",
       "min       0.000000        0.000000        11.580000     0.000000  \n",
       "25%       0.000000        0.000000     50395.650000     0.000000  \n",
       "50%       1.000000        1.000000     99828.450000     0.000000  \n",
       "75%       1.000000        1.000000    149154.690000     0.000000  \n",
       "max       1.000000        1.000000    199992.480000     1.000000  "
      ]
     },
     "execution_count": 22,
     "metadata": {},
     "output_type": "execute_result"
    }
   ],
   "source": [
    "df.describe()"
   ]
  },
  {
   "cell_type": "code",
   "execution_count": 23,
   "metadata": {
    "colab": {
     "base_uri": "https://localhost:8080/",
     "height": 174
    },
    "executionInfo": {
     "elapsed": 40,
     "status": "ok",
     "timestamp": 1745851333458,
     "user": {
      "displayName": "Ebiyout Jerri",
      "userId": "17044078967953802273"
     },
     "user_tz": -330
    },
    "id": "sRR2gKI76ckO",
    "outputId": "7fb27e63-d4d5-4d91-c050-8add4a0eeaab"
   },
   "outputs": [
    {
     "data": {
      "text/html": [
       "<div>\n",
       "<style scoped>\n",
       "    .dataframe tbody tr th:only-of-type {\n",
       "        vertical-align: middle;\n",
       "    }\n",
       "\n",
       "    .dataframe tbody tr th {\n",
       "        vertical-align: top;\n",
       "    }\n",
       "\n",
       "    .dataframe thead th {\n",
       "        text-align: right;\n",
       "    }\n",
       "</style>\n",
       "<table border=\"1\" class=\"dataframe\">\n",
       "  <thead>\n",
       "    <tr style=\"text-align: right;\">\n",
       "      <th></th>\n",
       "      <th>Location</th>\n",
       "      <th>Gender</th>\n",
       "    </tr>\n",
       "  </thead>\n",
       "  <tbody>\n",
       "    <tr>\n",
       "      <th>count</th>\n",
       "      <td>9991</td>\n",
       "      <td>9991</td>\n",
       "    </tr>\n",
       "    <tr>\n",
       "      <th>unique</th>\n",
       "      <td>3</td>\n",
       "      <td>2</td>\n",
       "    </tr>\n",
       "    <tr>\n",
       "      <th>top</th>\n",
       "      <td>France</td>\n",
       "      <td>Male</td>\n",
       "    </tr>\n",
       "    <tr>\n",
       "      <th>freq</th>\n",
       "      <td>5009</td>\n",
       "      <td>5452</td>\n",
       "    </tr>\n",
       "  </tbody>\n",
       "</table>\n",
       "</div>"
      ],
      "text/plain": [
       "       Location Gender\n",
       "count      9991   9991\n",
       "unique        3      2\n",
       "top      France   Male\n",
       "freq       5009   5452"
      ]
     },
     "execution_count": 23,
     "metadata": {},
     "output_type": "execute_result"
    }
   ],
   "source": [
    "#statistical summary of categorial varibales\n",
    "df.describe(include=[object])"
   ]
  },
  {
   "cell_type": "code",
   "execution_count": 24,
   "metadata": {
    "colab": {
     "base_uri": "https://localhost:8080/",
     "height": 209
    },
    "executionInfo": {
     "elapsed": 327,
     "status": "ok",
     "timestamp": 1745851333790,
     "user": {
      "displayName": "Ebiyout Jerri",
      "userId": "17044078967953802273"
     },
     "user_tz": -330
    },
    "id": "cFdHFdw06ckO",
    "outputId": "2b25bed8-e313-4b93-d916-8f90a92da85e"
   },
   "outputs": [
    {
     "data": {
      "text/plain": [
       "Location\n",
       "France     5009\n",
       "Germany    2506\n",
       "Spain      2476\n",
       "Name: count, dtype: int64"
      ]
     },
     "execution_count": 24,
     "metadata": {},
     "output_type": "execute_result"
    }
   ],
   "source": [
    "df['Location'].value_counts()"
   ]
  },
  {
   "cell_type": "code",
   "execution_count": 25,
   "metadata": {
    "colab": {
     "base_uri": "https://localhost:8080/",
     "height": 178
    },
    "executionInfo": {
     "elapsed": 309,
     "status": "ok",
     "timestamp": 1745851333798,
     "user": {
      "displayName": "Ebiyout Jerri",
      "userId": "17044078967953802273"
     },
     "user_tz": -330
    },
    "id": "bTcOV7EC6ckP",
    "outputId": "e7d332d9-b39b-4e70-da76-38d98381e061"
   },
   "outputs": [
    {
     "data": {
      "text/plain": [
       "Gender\n",
       "Male      5452\n",
       "Female    4539\n",
       "Name: count, dtype: int64"
      ]
     },
     "execution_count": 25,
     "metadata": {},
     "output_type": "execute_result"
    }
   ],
   "source": [
    "df['Gender'].value_counts()"
   ]
  },
  {
   "cell_type": "code",
   "execution_count": 26,
   "metadata": {
    "colab": {
     "base_uri": "https://localhost:8080/",
     "height": 429
    },
    "executionInfo": {
     "elapsed": 166,
     "status": "ok",
     "timestamp": 1745851333802,
     "user": {
      "displayName": "Ebiyout Jerri",
      "userId": "17044078967953802273"
     },
     "user_tz": -330
    },
    "id": "AelNwfgx6ckQ",
    "outputId": "c51fe7fc-7b12-4d79-c4ca-fc17cd688467"
   },
   "outputs": [
    {
     "data": {
      "text/plain": [
       "CreditScore          int64\n",
       "Location            object\n",
       "Gender              object\n",
       "Age                float64\n",
       "Tenure             float64\n",
       "Balance            float64\n",
       "NumOfProducts        int64\n",
       "HasCrCard            int64\n",
       "IsActiveMember     float64\n",
       "EstimatedSalary    float64\n",
       "Churn                int64\n",
       "dtype: object"
      ]
     },
     "execution_count": 26,
     "metadata": {},
     "output_type": "execute_result"
    }
   ],
   "source": [
    "df.dtypes"
   ]
  },
  {
   "cell_type": "code",
   "execution_count": 27,
   "metadata": {
    "colab": {
     "base_uri": "https://localhost:8080/"
    },
    "executionInfo": {
     "elapsed": 144,
     "status": "ok",
     "timestamp": 1745851333806,
     "user": {
      "displayName": "Ebiyout Jerri",
      "userId": "17044078967953802273"
     },
     "user_tz": -330
    },
    "id": "ewH0zBwa7WjK",
    "outputId": "6b50d96d-ef13-4713-e20d-b3a0d66f3fe0"
   },
   "outputs": [
    {
     "data": {
      "text/plain": [
       "array([1., 0.])"
      ]
     },
     "execution_count": 27,
     "metadata": {},
     "output_type": "execute_result"
    }
   ],
   "source": [
    "df['IsActiveMember'].unique()"
   ]
  },
  {
   "cell_type": "code",
   "execution_count": 28,
   "metadata": {
    "colab": {
     "base_uri": "https://localhost:8080/"
    },
    "executionInfo": {
     "elapsed": 58,
     "status": "ok",
     "timestamp": 1745851333843,
     "user": {
      "displayName": "Ebiyout Jerri",
      "userId": "17044078967953802273"
     },
     "user_tz": -330
    },
    "id": "NlT7K7lX6ckR",
    "outputId": "7db68a0b-f78f-4a85-d55c-a0fae8756fe3"
   },
   "outputs": [],
   "source": [
    "df['Age']=df['Age'].astype(int)\n",
    "df['Tenure']=df['Tenure'].astype(int)\n",
    "df['IsActiveMember']=df['IsActiveMember'].astype(int)"
   ]
  },
  {
   "cell_type": "code",
   "execution_count": 29,
   "metadata": {
    "colab": {
     "base_uri": "https://localhost:8080/"
    },
    "executionInfo": {
     "elapsed": 132,
     "status": "ok",
     "timestamp": 1745851333979,
     "user": {
      "displayName": "Ebiyout Jerri",
      "userId": "17044078967953802273"
     },
     "user_tz": -330
    },
    "id": "BoSciRdy6ckR",
    "outputId": "d3c395f5-463c-43ed-992e-d629959fd1f0"
   },
   "outputs": [],
   "source": [
    "df['Balance']=df['Balance'].apply(lambda x: int(x))\n",
    "df['EstimatedSalary']=df['EstimatedSalary'].apply(lambda x: int(x))"
   ]
  },
  {
   "cell_type": "code",
   "execution_count": 30,
   "metadata": {
    "colab": {
     "base_uri": "https://localhost:8080/",
     "height": 429
    },
    "executionInfo": {
     "elapsed": 38,
     "status": "ok",
     "timestamp": 1745851334020,
     "user": {
      "displayName": "Ebiyout Jerri",
      "userId": "17044078967953802273"
     },
     "user_tz": -330
    },
    "id": "yRxroNq0VZxo",
    "outputId": "646315ab-40e5-4365-f0f9-a0b8e3b764fb"
   },
   "outputs": [
    {
     "data": {
      "text/plain": [
       "CreditScore         int64\n",
       "Location           object\n",
       "Gender             object\n",
       "Age                 int32\n",
       "Tenure              int32\n",
       "Balance             int64\n",
       "NumOfProducts       int64\n",
       "HasCrCard           int64\n",
       "IsActiveMember      int32\n",
       "EstimatedSalary     int64\n",
       "Churn               int64\n",
       "dtype: object"
      ]
     },
     "execution_count": 30,
     "metadata": {},
     "output_type": "execute_result"
    }
   ],
   "source": [
    "df.dtypes"
   ]
  },
  {
   "cell_type": "code",
   "execution_count": 31,
   "metadata": {
    "colab": {
     "base_uri": "https://localhost:8080/",
     "height": 226
    },
    "executionInfo": {
     "elapsed": 174,
     "status": "ok",
     "timestamp": 1745851334185,
     "user": {
      "displayName": "Ebiyout Jerri",
      "userId": "17044078967953802273"
     },
     "user_tz": -330
    },
    "id": "Q0t0xk6o6ckR",
    "outputId": "d0d49afe-4bb2-4363-f359-add820538f47"
   },
   "outputs": [
    {
     "data": {
      "text/html": [
       "<div>\n",
       "<style scoped>\n",
       "    .dataframe tbody tr th:only-of-type {\n",
       "        vertical-align: middle;\n",
       "    }\n",
       "\n",
       "    .dataframe tbody tr th {\n",
       "        vertical-align: top;\n",
       "    }\n",
       "\n",
       "    .dataframe thead th {\n",
       "        text-align: right;\n",
       "    }\n",
       "</style>\n",
       "<table border=\"1\" class=\"dataframe\">\n",
       "  <thead>\n",
       "    <tr style=\"text-align: right;\">\n",
       "      <th></th>\n",
       "      <th>CreditScore</th>\n",
       "      <th>Location</th>\n",
       "      <th>Gender</th>\n",
       "      <th>Age</th>\n",
       "      <th>Tenure</th>\n",
       "      <th>Balance</th>\n",
       "      <th>NumOfProducts</th>\n",
       "      <th>HasCrCard</th>\n",
       "      <th>IsActiveMember</th>\n",
       "      <th>EstimatedSalary</th>\n",
       "      <th>Churn</th>\n",
       "    </tr>\n",
       "  </thead>\n",
       "  <tbody>\n",
       "    <tr>\n",
       "      <th>0</th>\n",
       "      <td>619</td>\n",
       "      <td>France</td>\n",
       "      <td>Female</td>\n",
       "      <td>42</td>\n",
       "      <td>2</td>\n",
       "      <td>0</td>\n",
       "      <td>1</td>\n",
       "      <td>1</td>\n",
       "      <td>1</td>\n",
       "      <td>101348</td>\n",
       "      <td>1</td>\n",
       "    </tr>\n",
       "    <tr>\n",
       "      <th>1</th>\n",
       "      <td>608</td>\n",
       "      <td>Spain</td>\n",
       "      <td>Female</td>\n",
       "      <td>41</td>\n",
       "      <td>1</td>\n",
       "      <td>83807</td>\n",
       "      <td>1</td>\n",
       "      <td>0</td>\n",
       "      <td>1</td>\n",
       "      <td>112542</td>\n",
       "      <td>0</td>\n",
       "    </tr>\n",
       "    <tr>\n",
       "      <th>2</th>\n",
       "      <td>502</td>\n",
       "      <td>France</td>\n",
       "      <td>Female</td>\n",
       "      <td>42</td>\n",
       "      <td>8</td>\n",
       "      <td>159660</td>\n",
       "      <td>3</td>\n",
       "      <td>1</td>\n",
       "      <td>0</td>\n",
       "      <td>113931</td>\n",
       "      <td>1</td>\n",
       "    </tr>\n",
       "    <tr>\n",
       "      <th>3</th>\n",
       "      <td>699</td>\n",
       "      <td>France</td>\n",
       "      <td>Female</td>\n",
       "      <td>39</td>\n",
       "      <td>1</td>\n",
       "      <td>0</td>\n",
       "      <td>2</td>\n",
       "      <td>0</td>\n",
       "      <td>0</td>\n",
       "      <td>93826</td>\n",
       "      <td>0</td>\n",
       "    </tr>\n",
       "    <tr>\n",
       "      <th>4</th>\n",
       "      <td>850</td>\n",
       "      <td>Spain</td>\n",
       "      <td>Female</td>\n",
       "      <td>43</td>\n",
       "      <td>2</td>\n",
       "      <td>125510</td>\n",
       "      <td>1</td>\n",
       "      <td>1</td>\n",
       "      <td>1</td>\n",
       "      <td>79084</td>\n",
       "      <td>0</td>\n",
       "    </tr>\n",
       "  </tbody>\n",
       "</table>\n",
       "</div>"
      ],
      "text/plain": [
       "   CreditScore Location  Gender  Age  Tenure  Balance  NumOfProducts  \\\n",
       "0          619   France  Female   42       2        0              1   \n",
       "1          608    Spain  Female   41       1    83807              1   \n",
       "2          502   France  Female   42       8   159660              3   \n",
       "3          699   France  Female   39       1        0              2   \n",
       "4          850    Spain  Female   43       2   125510              1   \n",
       "\n",
       "   HasCrCard  IsActiveMember  EstimatedSalary  Churn  \n",
       "0          1               1           101348      1  \n",
       "1          0               1           112542      0  \n",
       "2          1               0           113931      1  \n",
       "3          0               0            93826      0  \n",
       "4          1               1            79084      0  "
      ]
     },
     "execution_count": 31,
     "metadata": {},
     "output_type": "execute_result"
    }
   ],
   "source": [
    "df.head()"
   ]
  },
  {
   "cell_type": "code",
   "execution_count": 32,
   "metadata": {
    "colab": {
     "base_uri": "https://localhost:8080/",
     "height": 226
    },
    "executionInfo": {
     "elapsed": 34,
     "status": "ok",
     "timestamp": 1745851334224,
     "user": {
      "displayName": "Ebiyout Jerri",
      "userId": "17044078967953802273"
     },
     "user_tz": -330
    },
    "id": "LFt3ljuC6ckS",
    "outputId": "62126446-5ca2-452b-92e5-c0122524cdc0"
   },
   "outputs": [
    {
     "data": {
      "text/html": [
       "<div>\n",
       "<style scoped>\n",
       "    .dataframe tbody tr th:only-of-type {\n",
       "        vertical-align: middle;\n",
       "    }\n",
       "\n",
       "    .dataframe tbody tr th {\n",
       "        vertical-align: top;\n",
       "    }\n",
       "\n",
       "    .dataframe thead th {\n",
       "        text-align: right;\n",
       "    }\n",
       "</style>\n",
       "<table border=\"1\" class=\"dataframe\">\n",
       "  <thead>\n",
       "    <tr style=\"text-align: right;\">\n",
       "      <th></th>\n",
       "      <th>CreditScore</th>\n",
       "      <th>Location</th>\n",
       "      <th>Gender</th>\n",
       "      <th>Age</th>\n",
       "      <th>Tenure</th>\n",
       "      <th>Balance</th>\n",
       "      <th>NumOfProducts</th>\n",
       "      <th>HasCrCard</th>\n",
       "      <th>IsActiveMember</th>\n",
       "      <th>EstimatedSalary</th>\n",
       "      <th>Churn</th>\n",
       "    </tr>\n",
       "  </thead>\n",
       "  <tbody>\n",
       "    <tr>\n",
       "      <th>9998</th>\n",
       "      <td>771</td>\n",
       "      <td>France</td>\n",
       "      <td>Male</td>\n",
       "      <td>39</td>\n",
       "      <td>5</td>\n",
       "      <td>0</td>\n",
       "      <td>2</td>\n",
       "      <td>1</td>\n",
       "      <td>0</td>\n",
       "      <td>96270</td>\n",
       "      <td>0</td>\n",
       "    </tr>\n",
       "    <tr>\n",
       "      <th>9999</th>\n",
       "      <td>516</td>\n",
       "      <td>France</td>\n",
       "      <td>Male</td>\n",
       "      <td>35</td>\n",
       "      <td>10</td>\n",
       "      <td>57369</td>\n",
       "      <td>1</td>\n",
       "      <td>1</td>\n",
       "      <td>1</td>\n",
       "      <td>101699</td>\n",
       "      <td>0</td>\n",
       "    </tr>\n",
       "    <tr>\n",
       "      <th>10000</th>\n",
       "      <td>709</td>\n",
       "      <td>France</td>\n",
       "      <td>Female</td>\n",
       "      <td>36</td>\n",
       "      <td>7</td>\n",
       "      <td>0</td>\n",
       "      <td>1</td>\n",
       "      <td>0</td>\n",
       "      <td>1</td>\n",
       "      <td>42085</td>\n",
       "      <td>1</td>\n",
       "    </tr>\n",
       "    <tr>\n",
       "      <th>10001</th>\n",
       "      <td>772</td>\n",
       "      <td>Germany</td>\n",
       "      <td>Male</td>\n",
       "      <td>42</td>\n",
       "      <td>3</td>\n",
       "      <td>75075</td>\n",
       "      <td>2</td>\n",
       "      <td>1</td>\n",
       "      <td>0</td>\n",
       "      <td>92888</td>\n",
       "      <td>1</td>\n",
       "    </tr>\n",
       "    <tr>\n",
       "      <th>10002</th>\n",
       "      <td>792</td>\n",
       "      <td>France</td>\n",
       "      <td>Female</td>\n",
       "      <td>28</td>\n",
       "      <td>4</td>\n",
       "      <td>130142</td>\n",
       "      <td>1</td>\n",
       "      <td>1</td>\n",
       "      <td>0</td>\n",
       "      <td>38190</td>\n",
       "      <td>0</td>\n",
       "    </tr>\n",
       "  </tbody>\n",
       "</table>\n",
       "</div>"
      ],
      "text/plain": [
       "       CreditScore Location  Gender  Age  Tenure  Balance  NumOfProducts  \\\n",
       "9998           771   France    Male   39       5        0              2   \n",
       "9999           516   France    Male   35      10    57369              1   \n",
       "10000          709   France  Female   36       7        0              1   \n",
       "10001          772  Germany    Male   42       3    75075              2   \n",
       "10002          792   France  Female   28       4   130142              1   \n",
       "\n",
       "       HasCrCard  IsActiveMember  EstimatedSalary  Churn  \n",
       "9998           1               0            96270      0  \n",
       "9999           1               1           101699      0  \n",
       "10000          0               1            42085      1  \n",
       "10001          1               0            92888      1  \n",
       "10002          1               0            38190      0  "
      ]
     },
     "execution_count": 32,
     "metadata": {},
     "output_type": "execute_result"
    }
   ],
   "source": [
    "df.tail()"
   ]
  },
  {
   "cell_type": "code",
   "execution_count": 33,
   "metadata": {
    "colab": {
     "base_uri": "https://localhost:8080/",
     "height": 320
    },
    "executionInfo": {
     "elapsed": 197,
     "status": "ok",
     "timestamp": 1745851334410,
     "user": {
      "displayName": "Ebiyout Jerri",
      "userId": "17044078967953802273"
     },
     "user_tz": -330
    },
    "id": "pJuOytM66ckS",
    "outputId": "dce8586d-96b5-4693-d354-2906518de122"
   },
   "outputs": [
    {
     "data": {
      "text/html": [
       "<div>\n",
       "<style scoped>\n",
       "    .dataframe tbody tr th:only-of-type {\n",
       "        vertical-align: middle;\n",
       "    }\n",
       "\n",
       "    .dataframe tbody tr th {\n",
       "        vertical-align: top;\n",
       "    }\n",
       "\n",
       "    .dataframe thead th {\n",
       "        text-align: right;\n",
       "    }\n",
       "</style>\n",
       "<table border=\"1\" class=\"dataframe\">\n",
       "  <thead>\n",
       "    <tr style=\"text-align: right;\">\n",
       "      <th></th>\n",
       "      <th>CreditScore</th>\n",
       "      <th>Age</th>\n",
       "      <th>Tenure</th>\n",
       "      <th>Balance</th>\n",
       "      <th>NumOfProducts</th>\n",
       "      <th>HasCrCard</th>\n",
       "      <th>IsActiveMember</th>\n",
       "      <th>EstimatedSalary</th>\n",
       "      <th>Churn</th>\n",
       "    </tr>\n",
       "  </thead>\n",
       "  <tbody>\n",
       "    <tr>\n",
       "      <th>count</th>\n",
       "      <td>9991.000000</td>\n",
       "      <td>9991.000000</td>\n",
       "      <td>9991.000000</td>\n",
       "      <td>9991.000000</td>\n",
       "      <td>9991.000000</td>\n",
       "      <td>9991.000000</td>\n",
       "      <td>9991.000000</td>\n",
       "      <td>9991.000000</td>\n",
       "      <td>9991.000000</td>\n",
       "    </tr>\n",
       "    <tr>\n",
       "      <th>mean</th>\n",
       "      <td>650.482835</td>\n",
       "      <td>38.919027</td>\n",
       "      <td>5.013412</td>\n",
       "      <td>76459.267641</td>\n",
       "      <td>1.530477</td>\n",
       "      <td>0.705635</td>\n",
       "      <td>0.514963</td>\n",
       "      <td>99733.618056</td>\n",
       "      <td>0.203483</td>\n",
       "    </tr>\n",
       "    <tr>\n",
       "      <th>std</th>\n",
       "      <td>96.651448</td>\n",
       "      <td>10.486082</td>\n",
       "      <td>2.892090</td>\n",
       "      <td>62415.633104</td>\n",
       "      <td>0.581709</td>\n",
       "      <td>0.455780</td>\n",
       "      <td>0.499801</td>\n",
       "      <td>57671.880029</td>\n",
       "      <td>0.402609</td>\n",
       "    </tr>\n",
       "    <tr>\n",
       "      <th>min</th>\n",
       "      <td>350.000000</td>\n",
       "      <td>18.000000</td>\n",
       "      <td>0.000000</td>\n",
       "      <td>0.000000</td>\n",
       "      <td>1.000000</td>\n",
       "      <td>0.000000</td>\n",
       "      <td>0.000000</td>\n",
       "      <td>11.000000</td>\n",
       "      <td>0.000000</td>\n",
       "    </tr>\n",
       "    <tr>\n",
       "      <th>25%</th>\n",
       "      <td>584.000000</td>\n",
       "      <td>32.000000</td>\n",
       "      <td>3.000000</td>\n",
       "      <td>0.000000</td>\n",
       "      <td>1.000000</td>\n",
       "      <td>0.000000</td>\n",
       "      <td>0.000000</td>\n",
       "      <td>50395.000000</td>\n",
       "      <td>0.000000</td>\n",
       "    </tr>\n",
       "    <tr>\n",
       "      <th>50%</th>\n",
       "      <td>652.000000</td>\n",
       "      <td>37.000000</td>\n",
       "      <td>5.000000</td>\n",
       "      <td>97188.000000</td>\n",
       "      <td>1.000000</td>\n",
       "      <td>1.000000</td>\n",
       "      <td>1.000000</td>\n",
       "      <td>99828.000000</td>\n",
       "      <td>0.000000</td>\n",
       "    </tr>\n",
       "    <tr>\n",
       "      <th>75%</th>\n",
       "      <td>717.000000</td>\n",
       "      <td>44.000000</td>\n",
       "      <td>7.500000</td>\n",
       "      <td>127645.500000</td>\n",
       "      <td>2.000000</td>\n",
       "      <td>1.000000</td>\n",
       "      <td>1.000000</td>\n",
       "      <td>149154.500000</td>\n",
       "      <td>0.000000</td>\n",
       "    </tr>\n",
       "    <tr>\n",
       "      <th>max</th>\n",
       "      <td>850.000000</td>\n",
       "      <td>92.000000</td>\n",
       "      <td>10.000000</td>\n",
       "      <td>250898.000000</td>\n",
       "      <td>4.000000</td>\n",
       "      <td>1.000000</td>\n",
       "      <td>1.000000</td>\n",
       "      <td>199992.000000</td>\n",
       "      <td>1.000000</td>\n",
       "    </tr>\n",
       "  </tbody>\n",
       "</table>\n",
       "</div>"
      ],
      "text/plain": [
       "       CreditScore          Age       Tenure        Balance  NumOfProducts  \\\n",
       "count  9991.000000  9991.000000  9991.000000    9991.000000    9991.000000   \n",
       "mean    650.482835    38.919027     5.013412   76459.267641       1.530477   \n",
       "std      96.651448    10.486082     2.892090   62415.633104       0.581709   \n",
       "min     350.000000    18.000000     0.000000       0.000000       1.000000   \n",
       "25%     584.000000    32.000000     3.000000       0.000000       1.000000   \n",
       "50%     652.000000    37.000000     5.000000   97188.000000       1.000000   \n",
       "75%     717.000000    44.000000     7.500000  127645.500000       2.000000   \n",
       "max     850.000000    92.000000    10.000000  250898.000000       4.000000   \n",
       "\n",
       "         HasCrCard  IsActiveMember  EstimatedSalary        Churn  \n",
       "count  9991.000000     9991.000000      9991.000000  9991.000000  \n",
       "mean      0.705635        0.514963     99733.618056     0.203483  \n",
       "std       0.455780        0.499801     57671.880029     0.402609  \n",
       "min       0.000000        0.000000        11.000000     0.000000  \n",
       "25%       0.000000        0.000000     50395.000000     0.000000  \n",
       "50%       1.000000        1.000000     99828.000000     0.000000  \n",
       "75%       1.000000        1.000000    149154.500000     0.000000  \n",
       "max       1.000000        1.000000    199992.000000     1.000000  "
      ]
     },
     "execution_count": 33,
     "metadata": {},
     "output_type": "execute_result"
    }
   ],
   "source": [
    "df.describe()"
   ]
  },
  {
   "cell_type": "code",
   "execution_count": 34,
   "metadata": {
    "colab": {
     "base_uri": "https://localhost:8080/",
     "height": 174
    },
    "executionInfo": {
     "elapsed": 331,
     "status": "ok",
     "timestamp": 1745851334751,
     "user": {
      "displayName": "Ebiyout Jerri",
      "userId": "17044078967953802273"
     },
     "user_tz": -330
    },
    "id": "j2qbiNCb6ckS",
    "outputId": "2bb03110-e256-4408-fe9e-16d99a9fb949"
   },
   "outputs": [
    {
     "data": {
      "image/png": "[encoded data removed]",
      "text/plain": [
       "<Figure size 1000x500 with 2 Axes>"
      ]
     },
     "metadata": {},
     "output_type": "display_data"
    }
   ],
   "source": [
    "#checking the correlation matrix between the numerical variables\n",
    "plt.figure(figsize=(10,5))\n",
    "sns.heatmap(df[['EstimatedSalary','Age','Tenure','NumOfProducts','CreditScore']].corr(),annot=True,cmap=\"coolwarm\",fmt=\".2f\")\n",
    "plt.title(\"Correlation Matrix\")\n",
    "plt.show()"
   ]
  },
  {
   "cell_type": "code",
   "execution_count": 35,
   "metadata": {
    "colab": {
     "base_uri": "https://localhost:8080/"
    },
    "executionInfo": {
     "elapsed": 48,
     "status": "ok",
     "timestamp": 1745851334758,
     "user": {
      "displayName": "Ebiyout Jerri",
      "userId": "17044078967953802273"
     },
     "user_tz": -330
    },
    "id": "uYLEwkSx6ckS",
    "outputId": "b8500f19-af29-407b-b72d-5a7b61ce6ff9"
   },
   "outputs": [
    {
     "data": {
      "text/plain": [
       "Index(['CreditScore', 'Location', 'Gender', 'Age', 'Tenure', 'Balance',\n",
       "       'NumOfProducts', 'HasCrCard', 'IsActiveMember', 'EstimatedSalary',\n",
       "       'Churn'],\n",
       "      dtype='object')"
      ]
     },
     "execution_count": 35,
     "metadata": {},
     "output_type": "execute_result"
    }
   ],
   "source": [
    "df.columns"
   ]
  },
  {
   "cell_type": "code",
   "execution_count": 36,
   "metadata": {
    "colab": {
     "base_uri": "https://localhost:8080/"
    },
    "executionInfo": {
     "elapsed": 136,
     "status": "ok",
     "timestamp": 1745851334898,
     "user": {
      "displayName": "Ebiyout Jerri",
      "userId": "17044078967953802273"
     },
     "user_tz": -330
    },
    "id": "sZ9LQUD_6ckY",
    "outputId": "b6b44b4a-49ad-477b-d92f-63b575f802b2"
   },
   "outputs": [
    {
     "name": "stdout",
     "output_type": "stream",
     "text": [
      "Unique values in 'CreditScore': [619 608 502 699 850 645 822 376 501 684 528 497 476 549 635 616 653 587\n",
      " 726 732 636 510 669 846 577 756 571 574 411 591 533 553 520 722 475 490\n",
      " 804 582 472 465 556 834 660 776 829 637 550 698 585 788 655 601 656 725\n",
      " 511 614 742 687 555 603 751 581 735 661 675 738 813 657 604 519 664 678\n",
      " 757 416 665 777 543 506 493 652 750 729 646 647 808 524 769 730 515 773\n",
      " 814 710 413 623 670 622 785 605 479 685 538 562 721 628 668 828 674 625\n",
      " 432 770 758 795 686 789 589 461 584 579 663 682 793 691 485 650 754 535\n",
      " 716 539 706 586 631 717 800 683 704 615 667 484 480 578 512 606 597 778\n",
      " 514 525 715 580 807 521 759 516 711 618 643 671 689 620 676 572 695 592\n",
      " 567 694 547 594 673 610 767 763 712 703 662 659 523 772 545 634 739 771\n",
      " 681 544 696 766 727 693 557 531 498 651 791 733 811 707 714 782 775 799\n",
      " 602 744 588 747 583 627 731 629 438 642 806 474 559 429 680 749 734 644\n",
      " 626 649 805 718 840 630 654 762 568 613 522 737 648 443 640 540 460 593\n",
      " 801 611 802 745 483 690 492 709 705 560 752 701 537 487 596 702 486 724\n",
      " 548 464 790 534 748 494 590 468 509 818 816 536 753 774 621 569 658 798\n",
      " 641 542 692 639 765 570 638 599 632 779 527 564 833 504 842 508 417 598\n",
      " 741 607 761 848 546 439 755 760 526 713 700 666 566 495 688 612 477 427\n",
      " 839 819 720 459 503 624 529 563 482 796 445 746 786 554 672 787 499 844\n",
      " 450 815 838 803 736 633 600 679 517 792 743 488 421 841 708 507 505 456\n",
      " 435 561 518 565 728 784 552 609 764 697 723 551 444 719 496 541 830 812\n",
      " 677 420 595 617 809 500 826 434 513 478 797 363 399 463 780 452 575 837\n",
      " 794 824 428 823 781 849 489 431 457 768 831 359 820 573 576 558 449 440\n",
      " 415 821 530 350 446 425 740 481 783 358 845 451 458 469 423 404 836 473\n",
      " 835 466 491 351 827 843 365 532 414 453 471 401 810 817 832 470 447 422\n",
      " 825 430 436 426 408 847 418 437 410 454 407 455 462 386 405 383 395 467\n",
      " 433 442 424 448 441 367 412 382 373 419]\n",
      "\n",
      "Unique values in 'Location': ['France' 'Spain' 'Germany']\n",
      "\n",
      "Unique values in 'Gender': ['Female' 'Male']\n",
      "\n",
      "Unique values in 'Age': [42 41 39 43 44 50 29 27 31 24 34 25 35 45 58 32 38 46 36 33 40 51 61 49\n",
      " 37 19 66 56 26 21 55 75 22 30 28 65 48 52 57 73 47 54 72 20 67 79 62 53\n",
      " 80 59 68 23 60 70 63 64 18 82 69 74 71 76 77 88 85 84 78 81 92 83]\n",
      "\n",
      "Unique values in 'Tenure': [ 2  1  8  7  4  6  3 10  5  9  0]\n",
      "\n",
      "Unique values in 'Balance': [     0  83807 159660 ... 155060  57369 130142]\n",
      "\n",
      "Unique values in 'NumOfProducts': [1 3 2 4]\n",
      "\n",
      "Unique values in 'HasCrCard': [1 0]\n",
      "\n",
      "Unique values in 'IsActiveMember': [1 0]\n",
      "\n",
      "Unique values in 'EstimatedSalary': [101348 112542 113931 ...  42085  92888  38190]\n",
      "\n",
      "Unique values in 'Churn': [1 0]\n",
      "\n",
      "--------------------------------------------------\n",
      "Missing values:\n",
      "CreditScore        0\n",
      "Location           0\n",
      "Gender             0\n",
      "Age                0\n",
      "Tenure             0\n",
      "Balance            0\n",
      "NumOfProducts      0\n",
      "HasCrCard          0\n",
      "IsActiveMember     0\n",
      "EstimatedSalary    0\n",
      "Churn              0\n",
      "dtype: int64\n",
      "\n",
      "--------------------------------------------------\n",
      "Duplicate values: 0\n",
      "\n",
      "--------------------------------------------------\n",
      "Shape of Dataset: (9991, 11)\n",
      "\n",
      "--------------------------------------------------\n",
      "Columns of Datset: Index(['CreditScore', 'Location', 'Gender', 'Age', 'Tenure', 'Balance',\n",
      "       'NumOfProducts', 'HasCrCard', 'IsActiveMember', 'EstimatedSalary',\n",
      "       'Churn'],\n",
      "      dtype='object')\n",
      "\n",
      "--------------------------------------------------\n",
      "\n",
      "Data types:\n",
      "CreditScore         int64\n",
      "Location           object\n",
      "Gender             object\n",
      "Age                 int32\n",
      "Tenure              int32\n",
      "Balance             int64\n",
      "NumOfProducts       int64\n",
      "HasCrCard           int64\n",
      "IsActiveMember      int32\n",
      "EstimatedSalary     int64\n",
      "Churn               int64\n",
      "dtype: object\n",
      "\n"
     ]
    }
   ],
   "source": [
    "# Check for typo's & suspicious values and rechecking dataset\n",
    "\n",
    "for column in df.columns:\n",
    "    unique_values = df[column].unique()\n",
    "    print(f\"Unique values in '{column}': {unique_values}\")\n",
    "    print()\n",
    "\n",
    "missing_values = df.isnull().sum()\n",
    "data_types = df.dtypes\n",
    "\n",
    "print('-'*50)\n",
    "print(\"Missing values:\")\n",
    "print(missing_values)\n",
    "print()\n",
    "\n",
    "x = df.duplicated().sum()\n",
    "print('-'*50)\n",
    "print(\"Duplicate values:\", x)\n",
    "print()\n",
    "\n",
    "\n",
    "y = df.shape\n",
    "print('-'*50)\n",
    "print(\"Shape of Dataset:\", y)\n",
    "print()\n",
    "\n",
    "z = df.columns\n",
    "print('-'*50)\n",
    "print(\"Columns of Datset:\", z)\n",
    "print()\n",
    "\n",
    "print('-'*50)\n",
    "print(\"\\nData types:\")\n",
    "print(data_types)\n",
    "print()"
   ]
  },
  {
   "cell_type": "markdown",
   "metadata": {
    "id": "BWUU9waO6ckZ"
   },
   "source": [
    "The dataset has been cleaned and no suspicious values or typos have been found."
   ]
  },
  {
   "cell_type": "markdown",
   "metadata": {
    "id": "RgERYSp96ckZ"
   },
   "source": [
    "# Outliers Treatment"
   ]
  },
  {
   "cell_type": "code",
   "execution_count": 37,
   "metadata": {
    "colab": {
     "base_uri": "https://localhost:8080/",
     "height": 218
    },
    "executionInfo": {
     "elapsed": 398,
     "status": "ok",
     "timestamp": 1745851335300,
     "user": {
      "displayName": "Ebiyout Jerri",
      "userId": "17044078967953802273"
     },
     "user_tz": -330
    },
    "id": "SYoKvNdn6ckZ",
    "outputId": "6f700a6b-388e-4eb4-a683-628b5a61674f"
   },
   "outputs": [
    {
     "data": {
      "image/png": "[encoded data removed]",
      "text/plain": [
       "<Figure size 1100x600 with 1 Axes>"
      ]
     },
     "metadata": {},
     "output_type": "display_data"
    }
   ],
   "source": [
    "# Adjust figure size based on the number of columns\n",
    "num_columns = len(df.columns)\n",
    "fig, ax = plt.subplots(figsize=(10, 6))\n",
    "fig.set_size_inches(num_columns, 6)\n",
    "\n",
    "# Create a boxplot for each column\n",
    "df.boxplot(ax=ax)\n",
    "\n",
    "# Set the title and labels\n",
    "plt.title(\"Boxplot of Columns\")\n",
    "plt.xlabel(\"Columns\")\n",
    "plt.ylabel(\"Values\")\n",
    "\n",
    "# Rotate the x-axis labels for better readability (optional)\n",
    "plt.xticks(rotation=90)\n",
    "\n",
    "# Show the plot\n",
    "plt.show()"
   ]
  },
  {
   "cell_type": "code",
   "execution_count": 38,
   "metadata": {
    "colab": {
     "base_uri": "https://localhost:8080/"
    },
    "executionInfo": {
     "elapsed": 142,
     "status": "ok",
     "timestamp": 1745851335446,
     "user": {
      "displayName": "Ebiyout Jerri",
      "userId": "17044078967953802273"
     },
     "user_tz": -330
    },
    "id": "j7e5W_iG6ckZ",
    "outputId": "fa9153a4-fce6-471f-eb29-589d514ba261"
   },
   "outputs": [
    {
     "name": "stdout",
     "output_type": "stream",
     "text": [
      "Shape of DataFrame before removing outliers: (9991, 11)\n",
      "Shape of DataFrame after removing outliers: (9558, 11)\n"
     ]
    }
   ],
   "source": [
    "#removing the outliers\n",
    "columns_to_check = ['CreditScore', 'Age', 'Tenure', 'Balance', 'NumOfProducts', 'EstimatedSalary']\n",
    "\n",
    "def remove_outliers_iqr(df, columns):\n",
    "    for col in columns:\n",
    "        # Calculating the Q1 (25th percentile) and Q3 (75th percentile)\n",
    "        Q1 = df[col].quantile(0.25)\n",
    "        Q3 = df[col].quantile(0.75)\n",
    "        IQR = Q3 - Q1\n",
    "\n",
    "        # Defining the bounds for non-outliers\n",
    "        lower_bound = Q1 - 1.5 * IQR\n",
    "        upper_bound = Q3 + 1.5 * IQR\n",
    "\n",
    "        # Filtering the df to include only non-outlier rows\n",
    "        df = df[(df[col] >= lower_bound) & (df[col] <= upper_bound)]\n",
    "    return df\n",
    "\n",
    "# Apply the function to remove outliers\n",
    "df_cleaned = remove_outliers_iqr(df, columns_to_check)\n",
    "\n",
    "print(f\"Shape of DataFrame before removing outliers: {df.shape}\")\n",
    "print(f\"Shape of DataFrame after removing outliers: {df_cleaned.shape}\")"
   ]
  },
  {
   "cell_type": "code",
   "execution_count": 39,
   "metadata": {
    "colab": {
     "base_uri": "https://localhost:8080/",
     "height": 226
    },
    "executionInfo": {
     "elapsed": 297,
     "status": "ok",
     "timestamp": 1745851335747,
     "user": {
      "displayName": "Ebiyout Jerri",
      "userId": "17044078967953802273"
     },
     "user_tz": -330
    },
    "id": "rXvRwCFk81od",
    "outputId": "73416f42-6c41-432b-c3df-c3c7a9931b40"
   },
   "outputs": [
    {
     "data": {
      "text/html": [
       "<div>\n",
       "<style scoped>\n",
       "    .dataframe tbody tr th:only-of-type {\n",
       "        vertical-align: middle;\n",
       "    }\n",
       "\n",
       "    .dataframe tbody tr th {\n",
       "        vertical-align: top;\n",
       "    }\n",
       "\n",
       "    .dataframe thead th {\n",
       "        text-align: right;\n",
       "    }\n",
       "</style>\n",
       "<table border=\"1\" class=\"dataframe\">\n",
       "  <thead>\n",
       "    <tr style=\"text-align: right;\">\n",
       "      <th></th>\n",
       "      <th>CreditScore</th>\n",
       "      <th>Location</th>\n",
       "      <th>Gender</th>\n",
       "      <th>Age</th>\n",
       "      <th>Tenure</th>\n",
       "      <th>Balance</th>\n",
       "      <th>NumOfProducts</th>\n",
       "      <th>HasCrCard</th>\n",
       "      <th>IsActiveMember</th>\n",
       "      <th>EstimatedSalary</th>\n",
       "      <th>Churn</th>\n",
       "    </tr>\n",
       "  </thead>\n",
       "  <tbody>\n",
       "    <tr>\n",
       "      <th>0</th>\n",
       "      <td>619</td>\n",
       "      <td>France</td>\n",
       "      <td>Female</td>\n",
       "      <td>42</td>\n",
       "      <td>2</td>\n",
       "      <td>0</td>\n",
       "      <td>1</td>\n",
       "      <td>1</td>\n",
       "      <td>1</td>\n",
       "      <td>101348</td>\n",
       "      <td>1</td>\n",
       "    </tr>\n",
       "    <tr>\n",
       "      <th>1</th>\n",
       "      <td>608</td>\n",
       "      <td>Spain</td>\n",
       "      <td>Female</td>\n",
       "      <td>41</td>\n",
       "      <td>1</td>\n",
       "      <td>83807</td>\n",
       "      <td>1</td>\n",
       "      <td>0</td>\n",
       "      <td>1</td>\n",
       "      <td>112542</td>\n",
       "      <td>0</td>\n",
       "    </tr>\n",
       "    <tr>\n",
       "      <th>2</th>\n",
       "      <td>502</td>\n",
       "      <td>France</td>\n",
       "      <td>Female</td>\n",
       "      <td>42</td>\n",
       "      <td>8</td>\n",
       "      <td>159660</td>\n",
       "      <td>3</td>\n",
       "      <td>1</td>\n",
       "      <td>0</td>\n",
       "      <td>113931</td>\n",
       "      <td>1</td>\n",
       "    </tr>\n",
       "    <tr>\n",
       "      <th>3</th>\n",
       "      <td>699</td>\n",
       "      <td>France</td>\n",
       "      <td>Female</td>\n",
       "      <td>39</td>\n",
       "      <td>1</td>\n",
       "      <td>0</td>\n",
       "      <td>2</td>\n",
       "      <td>0</td>\n",
       "      <td>0</td>\n",
       "      <td>93826</td>\n",
       "      <td>0</td>\n",
       "    </tr>\n",
       "    <tr>\n",
       "      <th>4</th>\n",
       "      <td>850</td>\n",
       "      <td>Spain</td>\n",
       "      <td>Female</td>\n",
       "      <td>43</td>\n",
       "      <td>2</td>\n",
       "      <td>125510</td>\n",
       "      <td>1</td>\n",
       "      <td>1</td>\n",
       "      <td>1</td>\n",
       "      <td>79084</td>\n",
       "      <td>0</td>\n",
       "    </tr>\n",
       "  </tbody>\n",
       "</table>\n",
       "</div>"
      ],
      "text/plain": [
       "   CreditScore Location  Gender  Age  Tenure  Balance  NumOfProducts  \\\n",
       "0          619   France  Female   42       2        0              1   \n",
       "1          608    Spain  Female   41       1    83807              1   \n",
       "2          502   France  Female   42       8   159660              3   \n",
       "3          699   France  Female   39       1        0              2   \n",
       "4          850    Spain  Female   43       2   125510              1   \n",
       "\n",
       "   HasCrCard  IsActiveMember  EstimatedSalary  Churn  \n",
       "0          1               1           101348      1  \n",
       "1          0               1           112542      0  \n",
       "2          1               0           113931      1  \n",
       "3          0               0            93826      0  \n",
       "4          1               1            79084      0  "
      ]
     },
     "execution_count": 39,
     "metadata": {},
     "output_type": "execute_result"
    }
   ],
   "source": [
    "df.head()"
   ]
  },
  {
   "cell_type": "markdown",
   "metadata": {
    "id": "Mwiopi2G6cka"
   },
   "source": [
    "Therefore, the outliers are cleared and There is no more outliers present in any of the variable."
   ]
  },
  {
   "cell_type": "markdown",
   "metadata": {
    "id": "m8B97tw76cka"
   },
   "source": [
    "# Feature Encoding"
   ]
  },
  {
   "cell_type": "markdown",
   "metadata": {
    "id": "nbornggA6cka"
   },
   "source": [
    "- Applying one hot encoding because both variables have less number of categories."
   ]
  },
  {
   "cell_type": "code",
   "execution_count": 40,
   "metadata": {
    "colab": {
     "base_uri": "https://localhost:8080/"
    },
    "executionInfo": {
     "elapsed": 41,
     "status": "ok",
     "timestamp": 1745851335792,
     "user": {
      "displayName": "Ebiyout Jerri",
      "userId": "17044078967953802273"
     },
     "user_tz": -330
    },
    "id": "ffkowtGY6cka",
    "outputId": "2950e050-da3a-46d3-c840-61f7d35d4eb1"
   },
   "outputs": [
    {
     "data": {
      "text/plain": [
       "Index(['Location', 'Gender'], dtype='object')"
      ]
     },
     "execution_count": 40,
     "metadata": {},
     "output_type": "execute_result"
    }
   ],
   "source": [
    "categorical_columns = df.select_dtypes(include=['object']).columns\n",
    "categorical_columns"
   ]
  },
  {
   "cell_type": "code",
   "execution_count": 41,
   "metadata": {
    "colab": {
     "base_uri": "https://localhost:8080/",
     "height": 226
    },
    "executionInfo": {
     "elapsed": 722,
     "status": "ok",
     "timestamp": 1745851336517,
     "user": {
      "displayName": "Ebiyout Jerri",
      "userId": "17044078967953802273"
     },
     "user_tz": -330
    },
    "id": "Zf8EDZS36ckb",
    "outputId": "0d37189c-bbaa-4b99-8dd3-617ff516e09e"
   },
   "outputs": [
    {
     "data": {
      "text/html": [
       "<div>\n",
       "<style scoped>\n",
       "    .dataframe tbody tr th:only-of-type {\n",
       "        vertical-align: middle;\n",
       "    }\n",
       "\n",
       "    .dataframe tbody tr th {\n",
       "        vertical-align: top;\n",
       "    }\n",
       "\n",
       "    .dataframe thead th {\n",
       "        text-align: right;\n",
       "    }\n",
       "</style>\n",
       "<table border=\"1\" class=\"dataframe\">\n",
       "  <thead>\n",
       "    <tr style=\"text-align: right;\">\n",
       "      <th></th>\n",
       "      <th>CreditScore</th>\n",
       "      <th>Age</th>\n",
       "      <th>Tenure</th>\n",
       "      <th>Balance</th>\n",
       "      <th>NumOfProducts</th>\n",
       "      <th>HasCrCard</th>\n",
       "      <th>IsActiveMember</th>\n",
       "      <th>EstimatedSalary</th>\n",
       "      <th>Churn</th>\n",
       "      <th>Gender_Female</th>\n",
       "      <th>Gender_Male</th>\n",
       "      <th>Location_France</th>\n",
       "      <th>Location_Germany</th>\n",
       "      <th>Location_Spain</th>\n",
       "    </tr>\n",
       "  </thead>\n",
       "  <tbody>\n",
       "    <tr>\n",
       "      <th>0</th>\n",
       "      <td>619</td>\n",
       "      <td>42</td>\n",
       "      <td>2</td>\n",
       "      <td>0</td>\n",
       "      <td>1</td>\n",
       "      <td>1</td>\n",
       "      <td>1</td>\n",
       "      <td>101348</td>\n",
       "      <td>1</td>\n",
       "      <td>True</td>\n",
       "      <td>False</td>\n",
       "      <td>True</td>\n",
       "      <td>False</td>\n",
       "      <td>False</td>\n",
       "    </tr>\n",
       "    <tr>\n",
       "      <th>1</th>\n",
       "      <td>608</td>\n",
       "      <td>41</td>\n",
       "      <td>1</td>\n",
       "      <td>83807</td>\n",
       "      <td>1</td>\n",
       "      <td>0</td>\n",
       "      <td>1</td>\n",
       "      <td>112542</td>\n",
       "      <td>0</td>\n",
       "      <td>True</td>\n",
       "      <td>False</td>\n",
       "      <td>False</td>\n",
       "      <td>False</td>\n",
       "      <td>True</td>\n",
       "    </tr>\n",
       "    <tr>\n",
       "      <th>2</th>\n",
       "      <td>502</td>\n",
       "      <td>42</td>\n",
       "      <td>8</td>\n",
       "      <td>159660</td>\n",
       "      <td>3</td>\n",
       "      <td>1</td>\n",
       "      <td>0</td>\n",
       "      <td>113931</td>\n",
       "      <td>1</td>\n",
       "      <td>True</td>\n",
       "      <td>False</td>\n",
       "      <td>True</td>\n",
       "      <td>False</td>\n",
       "      <td>False</td>\n",
       "    </tr>\n",
       "    <tr>\n",
       "      <th>3</th>\n",
       "      <td>699</td>\n",
       "      <td>39</td>\n",
       "      <td>1</td>\n",
       "      <td>0</td>\n",
       "      <td>2</td>\n",
       "      <td>0</td>\n",
       "      <td>0</td>\n",
       "      <td>93826</td>\n",
       "      <td>0</td>\n",
       "      <td>True</td>\n",
       "      <td>False</td>\n",
       "      <td>True</td>\n",
       "      <td>False</td>\n",
       "      <td>False</td>\n",
       "    </tr>\n",
       "    <tr>\n",
       "      <th>4</th>\n",
       "      <td>850</td>\n",
       "      <td>43</td>\n",
       "      <td>2</td>\n",
       "      <td>125510</td>\n",
       "      <td>1</td>\n",
       "      <td>1</td>\n",
       "      <td>1</td>\n",
       "      <td>79084</td>\n",
       "      <td>0</td>\n",
       "      <td>True</td>\n",
       "      <td>False</td>\n",
       "      <td>False</td>\n",
       "      <td>False</td>\n",
       "      <td>True</td>\n",
       "    </tr>\n",
       "  </tbody>\n",
       "</table>\n",
       "</div>"
      ],
      "text/plain": [
       "   CreditScore  Age  Tenure  Balance  NumOfProducts  HasCrCard  \\\n",
       "0          619   42       2        0              1          1   \n",
       "1          608   41       1    83807              1          0   \n",
       "2          502   42       8   159660              3          1   \n",
       "3          699   39       1        0              2          0   \n",
       "4          850   43       2   125510              1          1   \n",
       "\n",
       "   IsActiveMember  EstimatedSalary  Churn  Gender_Female  Gender_Male  \\\n",
       "0               1           101348      1           True        False   \n",
       "1               1           112542      0           True        False   \n",
       "2               0           113931      1           True        False   \n",
       "3               0            93826      0           True        False   \n",
       "4               1            79084      0           True        False   \n",
       "\n",
       "   Location_France  Location_Germany  Location_Spain  \n",
       "0             True             False           False  \n",
       "1            False             False            True  \n",
       "2             True             False           False  \n",
       "3             True             False           False  \n",
       "4            False             False            True  "
      ]
     },
     "execution_count": 41,
     "metadata": {},
     "output_type": "execute_result"
    }
   ],
   "source": [
    "df = pd.get_dummies(df, columns=['Gender', 'Location'], prefix=['Gender', 'Location'])\n",
    "df.head()"
   ]
  },
  {
   "cell_type": "code",
   "execution_count": 42,
   "metadata": {
    "colab": {
     "base_uri": "https://localhost:8080/"
    },
    "executionInfo": {
     "elapsed": 36,
     "status": "ok",
     "timestamp": 1745851336548,
     "user": {
      "displayName": "Ebiyout Jerri",
      "userId": "17044078967953802273"
     },
     "user_tz": -330
    },
    "id": "DNrlGFZy6ckb",
    "outputId": "89f5e3e3-67e4-407f-dd06-6fbe5956c58f"
   },
   "outputs": [
    {
     "name": "stdout",
     "output_type": "stream",
     "text": [
      "<class 'pandas.core.frame.DataFrame'>\n",
      "Index: 9991 entries, 0 to 10002\n",
      "Data columns (total 14 columns):\n",
      " #   Column            Non-Null Count  Dtype\n",
      "---  ------            --------------  -----\n",
      " 0   CreditScore       9991 non-null   int64\n",
      " 1   Age               9991 non-null   int32\n",
      " 2   Tenure            9991 non-null   int32\n",
      " 3   Balance           9991 non-null   int64\n",
      " 4   NumOfProducts     9991 non-null   int64\n",
      " 5   HasCrCard         9991 non-null   int64\n",
      " 6   IsActiveMember    9991 non-null   int32\n",
      " 7   EstimatedSalary   9991 non-null   int64\n",
      " 8   Churn             9991 non-null   int64\n",
      " 9   Gender_Female     9991 non-null   bool \n",
      " 10  Gender_Male       9991 non-null   bool \n",
      " 11  Location_France   9991 non-null   bool \n",
      " 12  Location_Germany  9991 non-null   bool \n",
      " 13  Location_Spain    9991 non-null   bool \n",
      "dtypes: bool(5), int32(3), int64(6)\n",
      "memory usage: 712.2 KB\n"
     ]
    }
   ],
   "source": [
    "df.info()"
   ]
  },
  {
   "cell_type": "code",
   "execution_count": 43,
   "metadata": {
    "colab": {
     "base_uri": "https://localhost:8080/",
     "height": 523
    },
    "executionInfo": {
     "elapsed": 284,
     "status": "ok",
     "timestamp": 1745851336835,
     "user": {
      "displayName": "Ebiyout Jerri",
      "userId": "17044078967953802273"
     },
     "user_tz": -330
    },
    "id": "udS_KbU_6ckb",
    "outputId": "8ec38a0a-0063-42f7-95d3-ab408c07763b"
   },
   "outputs": [
    {
     "data": {
      "text/plain": [
       "CreditScore         int64\n",
       "Age                 int32\n",
       "Tenure              int32\n",
       "Balance             int64\n",
       "NumOfProducts       int64\n",
       "HasCrCard           int64\n",
       "IsActiveMember      int32\n",
       "EstimatedSalary     int64\n",
       "Churn               int64\n",
       "Gender_Female        bool\n",
       "Gender_Male          bool\n",
       "Location_France      bool\n",
       "Location_Germany     bool\n",
       "Location_Spain       bool\n",
       "dtype: object"
      ]
     },
     "execution_count": 43,
     "metadata": {},
     "output_type": "execute_result"
    }
   ],
   "source": [
    "df.dtypes"
   ]
  },
  {
   "cell_type": "markdown",
   "metadata": {
    "id": "rTxjXT226ckc"
   },
   "source": [
    "# Distribution of Data\n"
   ]
  },
  {
   "cell_type": "code",
   "execution_count": 44,
   "metadata": {
    "colab": {
     "base_uri": "https://localhost:8080/"
    },
    "executionInfo": {
     "elapsed": 272,
     "status": "ok",
     "timestamp": 1745851336840,
     "user": {
      "displayName": "Ebiyout Jerri",
      "userId": "17044078967953802273"
     },
     "user_tz": -330
    },
    "id": "hDCe7kyK6ckc",
    "outputId": "5de303b8-9d6d-4f1e-b56c-e6ad55497893"
   },
   "outputs": [
    {
     "name": "stdout",
     "output_type": "stream",
     "text": [
      "Number of bins according to Sturges rule: 15\n"
     ]
    }
   ],
   "source": [
    "#Using the Sturges’ Rule for a reasonable automatic bin count\n",
    "\n",
    "import numpy as np\n",
    "\n",
    "# Assuming 'data' is your dataset, a NumPy array or a pandas Series\n",
    "def calculate_bins_sturges(df):\n",
    "    n = len(df)  # Number of data points\n",
    "    bins = int(np.ceil(1 + np.log2(n)))  # Sturges' formula\n",
    "    return bins\n",
    "\n",
    "# Example usage\n",
    "bins = calculate_bins_sturges(df)\n",
    "\n",
    "print(f\"Number of bins according to Sturges rule: {bins}\")"
   ]
  },
  {
   "cell_type": "code",
   "execution_count": 45,
   "metadata": {
    "colab": {
     "base_uri": "https://localhost:8080/",
     "height": 1000
    },
    "executionInfo": {
     "elapsed": 3607,
     "status": "ok",
     "timestamp": 1745851340435,
     "user": {
      "displayName": "Ebiyout Jerri",
      "userId": "17044078967953802273"
     },
     "user_tz": -330
    },
    "id": "gmdt_1-m6ckc",
    "outputId": "00778759-52f6-4da3-a4b3-c7ac69067862"
   },
   "outputs": [
    {
     "data": {
      "image/png": "[encoded data removed]",
      "text/plain": [
       "<Figure size 600x400 with 1 Axes>"
      ]
     },
     "metadata": {},
     "output_type": "display_data"
    },
    {
     "data": {
      "image/png": "[encoded data removed]",
      "text/plain": [
       "<Figure size 600x400 with 1 Axes>"
      ]
     },
     "metadata": {},
     "output_type": "display_data"
    },
    {
     "data": {
      "image/png": "[encoded data removed]",
      "text/plain": [
       "<Figure size 600x400 with 1 Axes>"
      ]
     },
     "metadata": {},
     "output_type": "display_data"
    },
    {
     "data": {
      "image/png": "[encoded data removed]",
      "text/plain": [
       "<Figure size 600x400 with 1 Axes>"
      ]
     },
     "metadata": {},
     "output_type": "display_data"
    }
   ],
   "source": [
    "# check distribution of all continuous variables\n",
    "continuous_vars = df.select_dtypes(include=['float64', 'int64']).columns\n",
    "\n",
    "# Exclude binary variables from the list\n",
    "binary_vars = [var for var in continuous_vars if df[var].nunique() == 2]\n",
    "\n",
    "# Exclude binary variables from the continuous variables\n",
    "continuous_vars = [var for var in continuous_vars if var not in binary_vars]\n",
    "\n",
    "# Plot the distribution of each continuous variable\n",
    "for var in continuous_vars:\n",
    "    plt.figure(figsize=(6, 4))\n",
    "    sns.histplot(data=df, x=var, bins=15, kde=True)\n",
    "    plt.xlabel(var)\n",
    "    plt.ylabel('Frequency')\n",
    "    plt.title(f'Distribution of {var}')\n",
    "    plt.show()"
   ]
  },
  {
   "cell_type": "code",
   "execution_count": 46,
   "metadata": {
    "colab": {
     "base_uri": "https://localhost:8080/",
     "height": 272
    },
    "executionInfo": {
     "elapsed": 37,
     "status": "ok",
     "timestamp": 1745851340443,
     "user": {
      "displayName": "Ebiyout Jerri",
      "userId": "17044078967953802273"
     },
     "user_tz": -330
    },
    "id": "NEK9jTEb6ckc",
    "outputId": "e9caf1be-f62d-4736-e577-c031716c61a6"
   },
   "outputs": [
    {
     "data": {
      "text/plain": [
       "CreditScore       -0.071486\n",
       "Balance           -0.140100\n",
       "NumOfProducts      0.745024\n",
       "EstimatedSalary    0.004648\n",
       "dtype: float64"
      ]
     },
     "execution_count": 46,
     "metadata": {},
     "output_type": "execute_result"
    }
   ],
   "source": [
    "#checking for skewness in the continuous variables\n",
    "df[continuous_vars].skew()"
   ]
  },
  {
   "cell_type": "code",
   "execution_count": 47,
   "metadata": {
    "colab": {
     "base_uri": "https://localhost:8080/",
     "height": 284
    },
    "executionInfo": {
     "elapsed": 291,
     "status": "ok",
     "timestamp": 1745851340718,
     "user": {
      "displayName": "Ebiyout Jerri",
      "userId": "17044078967953802273"
     },
     "user_tz": -330
    },
    "id": "Bn14Hdsi6ckd",
    "outputId": "d618c3ab-2116-4eef-fede-260416ec001a"
   },
   "outputs": [
    {
     "name": "stdout",
     "output_type": "stream",
     "text": [
      "Original Skewness of NumOfProducts: 0.7450236110716022\n",
      "Transformed Skewness of NumOfProducts: 0.35042012984200777\n"
     ]
    },
    {
     "data": {
      "image/png": "[encoded data removed]",
      "text/plain": [
       "<Figure size 600x400 with 1 Axes>"
      ]
     },
     "metadata": {},
     "output_type": "display_data"
    }
   ],
   "source": [
    "#Applying log tranformation on the NoofProducts  to reduce the skewness\n",
    "\n",
    "df['NumOfProducts_log'] = np.log1p(df['NumOfProducts'])  # np.log1p handles zero values (log(1 + x))\n",
    "\n",
    "print(f\"Original Skewness of NumOfProducts: {df['NumOfProducts'].skew()}\")\n",
    "print(f\"Transformed Skewness of NumOfProducts: {df['NumOfProducts_log'].skew()}\")\n",
    "\n",
    "#plot distribution after log transformation\n",
    "plt.figure(figsize=(6, 4))\n",
    "sns.histplot(df['NumOfProducts_log'], bins=15, kde=True)\n",
    "plt.title('Distribution of NumOfProducts after Log Transformation')\n",
    "plt.xlabel('NumOfProducts (Log)')\n",
    "plt.ylabel('Frequency')\n",
    "plt.show()"
   ]
  },
  {
   "cell_type": "code",
   "execution_count": 48,
   "metadata": {
    "colab": {
     "base_uri": "https://localhost:8080/",
     "height": 281
    },
    "executionInfo": {
     "elapsed": 408,
     "status": "ok",
     "timestamp": 1745851341131,
     "user": {
      "displayName": "Ebiyout Jerri",
      "userId": "17044078967953802273"
     },
     "user_tz": -330
    },
    "id": "5TGF7jPN6ckd",
    "outputId": "efe26905-a415-4360-fe54-32c86f8ecb90"
   },
   "outputs": [
    {
     "name": "stdout",
     "output_type": "stream",
     "text": [
      "Original Skewness of Age: 1.0127570385407858\n",
      "Transformed Skewness of Age: 0.20424057089730266\n"
     ]
    },
    {
     "data": {
      "image/png": "[encoded data removed]",
      "text/plain": [
       "<Figure size 600x400 with 1 Axes>"
      ]
     },
     "metadata": {},
     "output_type": "display_data"
    }
   ],
   "source": [
    "#Applying the log transformation on the Age column to reduce the skewness\n",
    "\n",
    "df['Age_log'] = np.log1p(df['Age'])   # np.log1p handles zero values (log(1 + x))\n",
    "\n",
    "print(f\"Original Skewness of Age: {df['Age'].skew()}\")\n",
    "print(f\"Transformed Skewness of Age: {df['Age_log'].skew()}\")\n",
    "\n",
    "#plot distribution after log transformation\n",
    "plt.figure(figsize=(6, 4))\n",
    "sns.histplot(df['Age_log'], bins=15, kde=True)\n",
    "plt.title('Distribution of Age after Log Transformation')\n",
    "plt.xlabel('Age (Log)')\n",
    "plt.ylabel('Frequency')\n",
    "plt.show()"
   ]
  },
  {
   "cell_type": "code",
   "execution_count": 49,
   "metadata": {},
   "outputs": [
    {
     "data": {
      "image/png": "[encoded data removed]",
      "text/plain": [
       "<Figure size 1000x600 with 1 Axes>"
      ]
     },
     "metadata": {},
     "output_type": "display_data"
    }
   ],
   "source": [
    "plt.figure(figsize=(10, 6))\n",
    "sns.lineplot(x='Tenure', y='Churn', data=df_cleaned)\n",
    "plt.title('Churn trend based on the Customer association')\n",
    "plt.xlabel('Customer association towards company over time (Years)')\n",
    "plt.ylabel('Churn')\n",
    "plt.grid(True)\n",
    "plt.show()"
   ]
  },
  {
   "cell_type": "code",
   "execution_count": 50,
   "metadata": {
    "colab": {
     "base_uri": "https://localhost:8080/"
    },
    "executionInfo": {
     "elapsed": 108,
     "status": "ok",
     "timestamp": 1745851341134,
     "user": {
      "displayName": "Ebiyout Jerri",
      "userId": "17044078967953802273"
     },
     "user_tz": -330
    },
    "id": "1_HVfP5k6ckd",
    "outputId": "c8e5bcc2-908b-4422-fe83-ff94937cd7b4"
   },
   "outputs": [
    {
     "data": {
      "text/plain": [
       "Index(['CreditScore', 'Age', 'Tenure', 'Balance', 'NumOfProducts', 'HasCrCard',\n",
       "       'IsActiveMember', 'EstimatedSalary', 'Churn', 'Gender_Female',\n",
       "       'Gender_Male', 'Location_France', 'Location_Germany', 'Location_Spain',\n",
       "       'NumOfProducts_log', 'Age_log'],\n",
       "      dtype='object')"
      ]
     },
     "execution_count": 50,
     "metadata": {},
     "output_type": "execute_result"
    }
   ],
   "source": [
    "df.columns"
   ]
  },
  {
   "cell_type": "code",
   "execution_count": 51,
   "metadata": {
    "executionInfo": {
     "elapsed": 52,
     "status": "ok",
     "timestamp": 1745851341137,
     "user": {
      "displayName": "Ebiyout Jerri",
      "userId": "17044078967953802273"
     },
     "user_tz": -330
    },
    "id": "dOm1x_G26ckd"
   },
   "outputs": [],
   "source": [
    "df=df.drop('NumOfProducts',axis=1)"
   ]
  },
  {
   "cell_type": "code",
   "execution_count": 52,
   "metadata": {
    "executionInfo": {
     "elapsed": 52,
     "status": "ok",
     "timestamp": 1745851341143,
     "user": {
      "displayName": "Ebiyout Jerri",
      "userId": "17044078967953802273"
     },
     "user_tz": -330
    },
    "id": "J5XgcPQ26cke"
   },
   "outputs": [],
   "source": [
    "df=df.drop('Age',axis=1)"
   ]
  },
  {
   "cell_type": "code",
   "execution_count": 53,
   "metadata": {
    "colab": {
     "base_uri": "https://localhost:8080/"
    },
    "executionInfo": {
     "elapsed": 51,
     "status": "ok",
     "timestamp": 1745851341149,
     "user": {
      "displayName": "Ebiyout Jerri",
      "userId": "17044078967953802273"
     },
     "user_tz": -330
    },
    "id": "XW6w__Zg6cke",
    "outputId": "cd230aa4-f430-43cc-d020-c16773680c3a"
   },
   "outputs": [
    {
     "data": {
      "text/plain": [
       "Index(['CreditScore', 'Tenure', 'Balance', 'HasCrCard', 'IsActiveMember',\n",
       "       'EstimatedSalary', 'Churn', 'Gender_Female', 'Gender_Male',\n",
       "       'Location_France', 'Location_Germany', 'Location_Spain',\n",
       "       'NumOfProducts_log', 'Age_log'],\n",
       "      dtype='object')"
      ]
     },
     "execution_count": 53,
     "metadata": {},
     "output_type": "execute_result"
    }
   ],
   "source": [
    "df.columns"
   ]
  },
  {
   "cell_type": "code",
   "execution_count": 54,
   "metadata": {
    "colab": {
     "base_uri": "https://localhost:8080/",
     "height": 279
    },
    "executionInfo": {
     "elapsed": 310,
     "status": "ok",
     "timestamp": 1745851341435,
     "user": {
      "displayName": "Ebiyout Jerri",
      "userId": "17044078967953802273"
     },
     "user_tz": -330
    },
    "id": "vCirdC3k6cke",
    "outputId": "97f9f5cd-5f99-43d1-b020-071c7605d078"
   },
   "outputs": [
    {
     "data": {
      "image/png": "[encoded data removed]",
      "text/plain": [
       "<Figure size 1400x800 with 2 Axes>"
      ]
     },
     "metadata": {},
     "output_type": "display_data"
    }
   ],
   "source": [
    "#checking colinearity between variables\n",
    "numerical_features = df.select_dtypes(include=['number']).columns\n",
    "corr_matrix = df[numerical_features].corr()\n",
    "\n",
    "plt.figure(figsize=(14,8)) #(width,height)\n",
    "sns.heatmap(corr_matrix, annot=True, cmap='coolwarm', square=True)\n",
    "plt.title('Correlation Matrix Heatmap')\n",
    "plt.show()"
   ]
  },
  {
   "cell_type": "markdown",
   "metadata": {
    "id": "FBqRlVAO6ckf"
   },
   "source": [
    "# Model training & Testing\n"
   ]
  },
  {
   "cell_type": "code",
   "execution_count": 55,
   "metadata": {
    "executionInfo": {
     "elapsed": 16,
     "status": "ok",
     "timestamp": 1745851341454,
     "user": {
      "displayName": "Ebiyout Jerri",
      "userId": "17044078967953802273"
     },
     "user_tz": -330
    },
    "id": "faVNReIo6ckf"
   },
   "outputs": [],
   "source": [
    "X = df.drop(\"Churn\",axis=1)\n",
    "y = df['Churn']"
   ]
  },
  {
   "cell_type": "code",
   "execution_count": 56,
   "metadata": {
    "executionInfo": {
     "elapsed": 19,
     "status": "ok",
     "timestamp": 1745851341463,
     "user": {
      "displayName": "Ebiyout Jerri",
      "userId": "17044078967953802273"
     },
     "user_tz": -330
    },
    "id": "nI7X3iQx6ckg"
   },
   "outputs": [],
   "source": [
    "from sklearn.model_selection import train_test_split\n",
    "\n",
    "X_train, X_test, y_train, y_test = train_test_split(X, y, test_size=0.3, random_state=42)"
   ]
  },
  {
   "cell_type": "markdown",
   "metadata": {
    "id": "VlPWeSul6ckg"
   },
   "source": [
    "Using 70% of data for training and 30% for testing\n"
   ]
  },
  {
   "cell_type": "code",
   "execution_count": 57,
   "metadata": {
    "colab": {
     "base_uri": "https://localhost:8080/"
    },
    "executionInfo": {
     "elapsed": 28,
     "status": "ok",
     "timestamp": 1745851341496,
     "user": {
      "displayName": "Ebiyout Jerri",
      "userId": "17044078967953802273"
     },
     "user_tz": -330
    },
    "id": "kPlOqecA6ckg",
    "outputId": "17ec62d7-1ac4-43b8-8a1d-410e5b1ca04d"
   },
   "outputs": [
    {
     "data": {
      "text/plain": [
       "((6993, 13), (6993,))"
      ]
     },
     "execution_count": 57,
     "metadata": {},
     "output_type": "execute_result"
    }
   ],
   "source": [
    "X_train.shape, y_train.shape"
   ]
  },
  {
   "cell_type": "code",
   "execution_count": 58,
   "metadata": {
    "colab": {
     "base_uri": "https://localhost:8080/"
    },
    "executionInfo": {
     "elapsed": 72,
     "status": "ok",
     "timestamp": 1745851341570,
     "user": {
      "displayName": "Ebiyout Jerri",
      "userId": "17044078967953802273"
     },
     "user_tz": -330
    },
    "id": "C0BYT2zN6ckh",
    "outputId": "3e3e17df-cc0d-4cd6-f132-be5116c686b8"
   },
   "outputs": [
    {
     "data": {
      "text/plain": [
       "((2998, 13), (2998,))"
      ]
     },
     "execution_count": 58,
     "metadata": {},
     "output_type": "execute_result"
    }
   ],
   "source": [
    "X_test.shape, y_test.shape"
   ]
  },
  {
   "cell_type": "code",
   "execution_count": 59,
   "metadata": {
    "colab": {
     "base_uri": "https://localhost:8080/"
    },
    "executionInfo": {
     "elapsed": 68,
     "status": "ok",
     "timestamp": 1745851341587,
     "user": {
      "displayName": "Ebiyout Jerri",
      "userId": "17044078967953802273"
     },
     "user_tz": -330
    },
    "id": "pG4UcCVxrd9V",
    "outputId": "8d2078a4-2d78-4a0b-bcca-ef667d9ce51a"
   },
   "outputs": [
    {
     "data": {
      "text/plain": [
       "Index(['CreditScore', 'Tenure', 'Balance', 'HasCrCard', 'IsActiveMember',\n",
       "       'EstimatedSalary', 'Churn', 'Gender_Female', 'Gender_Male',\n",
       "       'Location_France', 'Location_Germany', 'Location_Spain',\n",
       "       'NumOfProducts_log', 'Age_log'],\n",
       "      dtype='object')"
      ]
     },
     "execution_count": 59,
     "metadata": {},
     "output_type": "execute_result"
    }
   ],
   "source": [
    "df.columns"
   ]
  },
  {
   "cell_type": "code",
   "execution_count": 60,
   "metadata": {
    "executionInfo": {
     "elapsed": 6,
     "status": "ok",
     "timestamp": 1745851341596,
     "user": {
      "displayName": "Ebiyout Jerri",
      "userId": "17044078967953802273"
     },
     "user_tz": -330
    },
    "id": "OWVKX0BitO2g"
   },
   "outputs": [],
   "source": [
    "from sklearn.pipeline import Pipeline\n",
    "from sklearn.compose import ColumnTransformer\n",
    "from sklearn.ensemble import RandomForestClassifier\n",
    "from sklearn.preprocessing import StandardScaler, FunctionTransformer\n",
    "from sklearn.base import BaseEstimator, TransformerMixin\n",
    "from imblearn.over_sampling import SMOTE\n",
    "import pickle"
   ]
  },
  {
   "cell_type": "code",
   "execution_count": 61,
   "metadata": {
    "executionInfo": {
     "elapsed": 30,
     "status": "ok",
     "timestamp": 1745851341633,
     "user": {
      "displayName": "Ebiyout Jerri",
      "userId": "17044078967953802273"
     },
     "user_tz": -330
    },
    "id": "dyKb2HpX05DX"
   },
   "outputs": [],
   "source": [
    "# Define the LogTransformer class\n",
    "class LogTransformer(BaseEstimator, TransformerMixin):\n",
    "    def fit(self, X, y=None):\n",
    "        return self\n",
    "\n",
    "    def transform(self, X):\n",
    "        \"\"\"Applies log transformation to specified columns.\"\"\"\n",
    "        X = pd.DataFrame(X)\n",
    "        if 'NumOfProducts' in X.columns:\n",
    "            X['NumOfProducts_log'] = np.log1p(X['NumOfProducts'])\n",
    "            X = X.drop(columns=['NumOfProducts'])\n",
    "        if 'Age' in X.columns:\n",
    "            X['Age_log'] = np.log1p(X['Age'])\n",
    "            X = X.drop(columns=['Age'])\n",
    "        return X"
   ]
  },
  {
   "cell_type": "code",
   "execution_count": 62,
   "metadata": {
    "executionInfo": {
     "elapsed": 6,
     "status": "ok",
     "timestamp": 1745851341644,
     "user": {
      "displayName": "Ebiyout Jerri",
      "userId": "17044078967953802273"
     },
     "user_tz": -330
    },
    "id": "CfoucIKAxTER"
   },
   "outputs": [],
   "source": [
    "# Define the GenderLocationBinarizer class\n",
    "class GenderLocationBinarizer(BaseEstimator, TransformerMixin):\n",
    "    def fit(self, X, y=None):\n",
    "        return self\n",
    "\n",
    "    def transform(self, X):\n",
    "        \"\"\"Converts 'Gender' and 'Location' into binary columns.\"\"\"\n",
    "        X = pd.DataFrame(X)\n",
    "        if 'Gender' in X.columns:\n",
    "            X['Gender_Female'] = (X['Gender'] == 'Female').astype(int)\n",
    "            X['Gender_Male'] = (X['Gender'] == 'Male').astype(int)\n",
    "            X = X.drop(columns=['Gender'])\n",
    "        if 'Location' in X.columns:\n",
    "            X['Location_France'] = (X['Location'] == 'France').astype(int)\n",
    "            X['Location_Germany'] = (X['Location'] == 'Germany').astype(int)\n",
    "            X['Location_Spain'] = (X['Location'] == 'Spain').astype(int)\n",
    "            X = X.drop(columns=['Location'])\n",
    "        return X"
   ]
  },
  {
   "cell_type": "code",
   "execution_count": 63,
   "metadata": {
    "executionInfo": {
     "elapsed": 6,
     "status": "ok",
     "timestamp": 1745851341655,
     "user": {
      "displayName": "Ebiyout Jerri",
      "userId": "17044078967953802273"
     },
     "user_tz": -330
    },
    "id": "tN53cl2st-qF"
   },
   "outputs": [],
   "source": [
    "# Define the map_yes_no function\n",
    "def map_yes_no(df):\n",
    "    \"\"\"Maps 'Yes'/'No' values to 1/0 for categorical columns.\"\"\"\n",
    "    if isinstance(df, pd.DataFrame):\n",
    "        return df.applymap(lambda x: {'Yes': 1, 'No': 0}.get(x, x))\n",
    "    elif isinstance(df, pd.Series):\n",
    "        return df.map({'Yes': 1, 'No': 0})\n",
    "    else:\n",
    "        raise TypeError(\"Expected input to be a DataFrame or Series.\")\n",
    "\n",
    "# Preprocessor using ColumnTransformer\n",
    "preprocessor = ColumnTransformer(transformers=[\n",
    "    ('numeric', StandardScaler(), ['CreditScore', 'Tenure', 'Balance', 'EstimatedSalary']),\n",
    "    ('categoric', FunctionTransformer(map_yes_no), ['HasCrCard', 'IsActiveMember']),\n",
    "    ('binary', 'passthrough', ['Gender_Female', 'Gender_Male', 'Location_France', 'Location_Germany', 'Location_Spain']),\n",
    "    ('log_transformed', 'passthrough', ['NumOfProducts_log', 'Age_log'])\n",
    "])\n"
   ]
  },
  {
   "cell_type": "code",
   "execution_count": 64,
   "metadata": {
    "executionInfo": {
     "elapsed": 7,
     "status": "ok",
     "timestamp": 1745851341667,
     "user": {
      "displayName": "Ebiyout Jerri",
      "userId": "17044078967953802273"
     },
     "user_tz": -330
    },
    "id": "sjlm1Pb7zfig"
   },
   "outputs": [],
   "source": [
    "# Create pipeline\n",
    "pipeline = Pipeline(steps=[\n",
    "    ('log_transformer', LogTransformer()),\n",
    "    ('gender_location_binarizer', GenderLocationBinarizer()),\n",
    "    ('preprocessor', preprocessor)\n",
    "])"
   ]
  },
  {
   "cell_type": "code",
   "execution_count": 65,
   "metadata": {
    "colab": {
     "base_uri": "https://localhost:8080/",
     "height": 721
    },
    "executionInfo": {
     "elapsed": 35,
     "status": "ok",
     "timestamp": 1745851341785,
     "user": {
      "displayName": "Ebiyout Jerri",
      "userId": "17044078967953802273"
     },
     "user_tz": -330
    },
    "id": "Hri3085SxTlR",
    "outputId": "a778121f-ebbd-4758-a029-4e4e5291b636"
   },
   "outputs": [
    {
     "name": "stdout",
     "output_type": "stream",
     "text": [
      "Sample of X_train before pipeline fitting:       CreditScore  Tenure  Balance  HasCrCard  IsActiveMember  \\\n",
      "7924          730       5   118866          1               1   \n",
      "5588          730       1        0          1               1   \n",
      "5219          685       4   104719          1               0   \n",
      "8941          657       7        0          1               0   \n",
      "2730          667       1        0          1               0   \n",
      "\n",
      "      EstimatedSalary  Gender_Female  Gender_Male  Location_France  \\\n",
      "7924           163317          False         True            False   \n",
      "5588           124364           True        False             True   \n",
      "5219            38691          False         True             True   \n",
      "8941           185827          False         True             True   \n",
      "2730            91573          False         True             True   \n",
      "\n",
      "      Location_Germany  Location_Spain  NumOfProducts_log   Age_log  \n",
      "7924             False            True           0.693147  3.663562  \n",
      "5588             False           False           1.098612  3.637586  \n",
      "5219             False           False           1.098612  3.044522  \n",
      "8941             False           False           1.098612  3.663562  \n",
      "2730             False           False           1.098612  3.178054  \n"
     ]
    },
    {
     "name": "stderr",
     "output_type": "stream",
     "text": [
      "C:\\Users\\suriy\\AppData\\Local\\Temp\\ipykernel_1368\\820614418.py:5: FutureWarning: DataFrame.applymap has been deprecated. Use DataFrame.map instead.\n",
      "  return df.applymap(lambda x: {'Yes': 1, 'No': 0}.get(x, x))\n"
     ]
    },
    {
     "data": {
      "text/html": [
       "<style>#sk-container-id-1 {\n",
       "  /* Definition of color scheme common for light and dark mode */\n",
       "  --sklearn-color-text: #000;\n",
       "  --sklearn-color-text-muted: #666;\n",
       "  --sklearn-color-line: gray;\n",
       "  /* Definition of color scheme for unfitted estimators */\n",
       "  --sklearn-color-unfitted-level-0: #fff5e6;\n",
       "  --sklearn-color-unfitted-level-1: #f6e4d2;\n",
       "  --sklearn-color-unfitted-level-2: #ffe0b3;\n",
       "  --sklearn-color-unfitted-level-3: chocolate;\n",
       "  /* Definition of color scheme for fitted estimators */\n",
       "  --sklearn-color-fitted-level-0: #f0f8ff;\n",
       "  --sklearn-color-fitted-level-1: #d4ebff;\n",
       "  --sklearn-color-fitted-level-2: #b3dbfd;\n",
       "  --sklearn-color-fitted-level-3: cornflowerblue;\n",
       "\n",
       "  /* Specific color for light theme */\n",
       "  --sklearn-color-text-on-default-background: var(--sg-text-color, var(--theme-code-foreground, var(--jp-content-font-color1, black)));\n",
       "  --sklearn-color-background: var(--sg-background-color, var(--theme-background, var(--jp-layout-color0, white)));\n",
       "  --sklearn-color-border-box: var(--sg-text-color, var(--theme-code-foreground, var(--jp-content-font-color1, black)));\n",
       "  --sklearn-color-icon: #696969;\n",
       "\n",
       "  @media (prefers-color-scheme: dark) {\n",
       "    /* Redefinition of color scheme for dark theme */\n",
       "    --sklearn-color-text-on-default-background: var(--sg-text-color, var(--theme-code-foreground, var(--jp-content-font-color1, white)));\n",
       "    --sklearn-color-background: var(--sg-background-color, var(--theme-background, var(--jp-layout-color0, #111)));\n",
       "    --sklearn-color-border-box: var(--sg-text-color, var(--theme-code-foreground, var(--jp-content-font-color1, white)));\n",
       "    --sklearn-color-icon: #878787;\n",
       "  }\n",
       "}\n",
       "\n",
       "#sk-container-id-1 {\n",
       "  color: var(--sklearn-color-text);\n",
       "}\n",
       "\n",
       "#sk-container-id-1 pre {\n",
       "  padding: 0;\n",
       "}\n",
       "\n",
       "#sk-container-id-1 input.sk-hidden--visually {\n",
       "  border: 0;\n",
       "  clip: rect(1px 1px 1px 1px);\n",
       "  clip: rect(1px, 1px, 1px, 1px);\n",
       "  height: 1px;\n",
       "  margin: -1px;\n",
       "  overflow: hidden;\n",
       "  padding: 0;\n",
       "  position: absolute;\n",
       "  width: 1px;\n",
       "}\n",
       "\n",
       "#sk-container-id-1 div.sk-dashed-wrapped {\n",
       "  border: 1px dashed var(--sklearn-color-line);\n",
       "  margin: 0 0.4em 0.5em 0.4em;\n",
       "  box-sizing: border-box;\n",
       "  padding-bottom: 0.4em;\n",
       "  background-color: var(--sklearn-color-background);\n",
       "}\n",
       "\n",
       "#sk-container-id-1 div.sk-container {\n",
       "  /* jupyter's `normalize.less` sets `[hidden] { display: none; }`\n",
       "     but bootstrap.min.css set `[hidden] { display: none !important; }`\n",
       "     so we also need the `!important` here to be able to override the\n",
       "     default hidden behavior on the sphinx rendered scikit-learn.org.\n",
       "     See: https://github.com/scikit-learn/scikit-learn/issues/21755 */\n",
       "  display: inline-block !important;\n",
       "  position: relative;\n",
       "}\n",
       "\n",
       "#sk-container-id-1 div.sk-text-repr-fallback {\n",
       "  display: none;\n",
       "}\n",
       "\n",
       "div.sk-parallel-item,\n",
       "div.sk-serial,\n",
       "div.sk-item {\n",
       "  /* draw centered vertical line to link estimators */\n",
       "  background-image: linear-gradient(var(--sklearn-color-text-on-default-background), var(--sklearn-color-text-on-default-background));\n",
       "  background-size: 2px 100%;\n",
       "  background-repeat: no-repeat;\n",
       "  background-position: center center;\n",
       "}\n",
       "\n",
       "/* Parallel-specific style estimator block */\n",
       "\n",
       "#sk-container-id-1 div.sk-parallel-item::after {\n",
       "  content: \"\";\n",
       "  width: 100%;\n",
       "  border-bottom: 2px solid var(--sklearn-color-text-on-default-background);\n",
       "  flex-grow: 1;\n",
       "}\n",
       "\n",
       "#sk-container-id-1 div.sk-parallel {\n",
       "  display: flex;\n",
       "  align-items: stretch;\n",
       "  justify-content: center;\n",
       "  background-color: var(--sklearn-color-background);\n",
       "  position: relative;\n",
       "}\n",
       "\n",
       "#sk-container-id-1 div.sk-parallel-item {\n",
       "  display: flex;\n",
       "  flex-direction: column;\n",
       "}\n",
       "\n",
       "#sk-container-id-1 div.sk-parallel-item:first-child::after {\n",
       "  align-self: flex-end;\n",
       "  width: 50%;\n",
       "}\n",
       "\n",
       "#sk-container-id-1 div.sk-parallel-item:last-child::after {\n",
       "  align-self: flex-start;\n",
       "  width: 50%;\n",
       "}\n",
       "\n",
       "#sk-container-id-1 div.sk-parallel-item:only-child::after {\n",
       "  width: 0;\n",
       "}\n",
       "\n",
       "/* Serial-specific style estimator block */\n",
       "\n",
       "#sk-container-id-1 div.sk-serial {\n",
       "  display: flex;\n",
       "  flex-direction: column;\n",
       "  align-items: center;\n",
       "  background-color: var(--sklearn-color-background);\n",
       "  padding-right: 1em;\n",
       "  padding-left: 1em;\n",
       "}\n",
       "\n",
       "\n",
       "/* Toggleable style: style used for estimator/Pipeline/ColumnTransformer box that is\n",
       "clickable and can be expanded/collapsed.\n",
       "- Pipeline and ColumnTransformer use this feature and define the default style\n",
       "- Estimators will overwrite some part of the style using the `sk-estimator` class\n",
       "*/\n",
       "\n",
       "/* Pipeline and ColumnTransformer style (default) */\n",
       "\n",
       "#sk-container-id-1 div.sk-toggleable {\n",
       "  /* Default theme specific background. It is overwritten whether we have a\n",
       "  specific estimator or a Pipeline/ColumnTransformer */\n",
       "  background-color: var(--sklearn-color-background);\n",
       "}\n",
       "\n",
       "/* Toggleable label */\n",
       "#sk-container-id-1 label.sk-toggleable__label {\n",
       "  cursor: pointer;\n",
       "  display: flex;\n",
       "  width: 100%;\n",
       "  margin-bottom: 0;\n",
       "  padding: 0.5em;\n",
       "  box-sizing: border-box;\n",
       "  text-align: center;\n",
       "  align-items: start;\n",
       "  justify-content: space-between;\n",
       "  gap: 0.5em;\n",
       "}\n",
       "\n",
       "#sk-container-id-1 label.sk-toggleable__label .caption {\n",
       "  font-size: 0.6rem;\n",
       "  font-weight: lighter;\n",
       "  color: var(--sklearn-color-text-muted);\n",
       "}\n",
       "\n",
       "#sk-container-id-1 label.sk-toggleable__label-arrow:before {\n",
       "  /* Arrow on the left of the label */\n",
       "  content: \"▸\";\n",
       "  float: left;\n",
       "  margin-right: 0.25em;\n",
       "  color: var(--sklearn-color-icon);\n",
       "}\n",
       "\n",
       "#sk-container-id-1 label.sk-toggleable__label-arrow:hover:before {\n",
       "  color: var(--sklearn-color-text);\n",
       "}\n",
       "\n",
       "/* Toggleable content - dropdown */\n",
       "\n",
       "#sk-container-id-1 div.sk-toggleable__content {\n",
       "  max-height: 0;\n",
       "  max-width: 0;\n",
       "  overflow: hidden;\n",
       "  text-align: left;\n",
       "  /* unfitted */\n",
       "  background-color: var(--sklearn-color-unfitted-level-0);\n",
       "}\n",
       "\n",
       "#sk-container-id-1 div.sk-toggleable__content.fitted {\n",
       "  /* fitted */\n",
       "  background-color: var(--sklearn-color-fitted-level-0);\n",
       "}\n",
       "\n",
       "#sk-container-id-1 div.sk-toggleable__content pre {\n",
       "  margin: 0.2em;\n",
       "  border-radius: 0.25em;\n",
       "  color: var(--sklearn-color-text);\n",
       "  /* unfitted */\n",
       "  background-color: var(--sklearn-color-unfitted-level-0);\n",
       "}\n",
       "\n",
       "#sk-container-id-1 div.sk-toggleable__content.fitted pre {\n",
       "  /* unfitted */\n",
       "  background-color: var(--sklearn-color-fitted-level-0);\n",
       "}\n",
       "\n",
       "#sk-container-id-1 input.sk-toggleable__control:checked~div.sk-toggleable__content {\n",
       "  /* Expand drop-down */\n",
       "  max-height: 200px;\n",
       "  max-width: 100%;\n",
       "  overflow: auto;\n",
       "}\n",
       "\n",
       "#sk-container-id-1 input.sk-toggleable__control:checked~label.sk-toggleable__label-arrow:before {\n",
       "  content: \"▾\";\n",
       "}\n",
       "\n",
       "/* Pipeline/ColumnTransformer-specific style */\n",
       "\n",
       "#sk-container-id-1 div.sk-label input.sk-toggleable__control:checked~label.sk-toggleable__label {\n",
       "  color: var(--sklearn-color-text);\n",
       "  background-color: var(--sklearn-color-unfitted-level-2);\n",
       "}\n",
       "\n",
       "#sk-container-id-1 div.sk-label.fitted input.sk-toggleable__control:checked~label.sk-toggleable__label {\n",
       "  background-color: var(--sklearn-color-fitted-level-2);\n",
       "}\n",
       "\n",
       "/* Estimator-specific style */\n",
       "\n",
       "/* Colorize estimator box */\n",
       "#sk-container-id-1 div.sk-estimator input.sk-toggleable__control:checked~label.sk-toggleable__label {\n",
       "  /* unfitted */\n",
       "  background-color: var(--sklearn-color-unfitted-level-2);\n",
       "}\n",
       "\n",
       "#sk-container-id-1 div.sk-estimator.fitted input.sk-toggleable__control:checked~label.sk-toggleable__label {\n",
       "  /* fitted */\n",
       "  background-color: var(--sklearn-color-fitted-level-2);\n",
       "}\n",
       "\n",
       "#sk-container-id-1 div.sk-label label.sk-toggleable__label,\n",
       "#sk-container-id-1 div.sk-label label {\n",
       "  /* The background is the default theme color */\n",
       "  color: var(--sklearn-color-text-on-default-background);\n",
       "}\n",
       "\n",
       "/* On hover, darken the color of the background */\n",
       "#sk-container-id-1 div.sk-label:hover label.sk-toggleable__label {\n",
       "  color: var(--sklearn-color-text);\n",
       "  background-color: var(--sklearn-color-unfitted-level-2);\n",
       "}\n",
       "\n",
       "/* Label box, darken color on hover, fitted */\n",
       "#sk-container-id-1 div.sk-label.fitted:hover label.sk-toggleable__label.fitted {\n",
       "  color: var(--sklearn-color-text);\n",
       "  background-color: var(--sklearn-color-fitted-level-2);\n",
       "}\n",
       "\n",
       "/* Estimator label */\n",
       "\n",
       "#sk-container-id-1 div.sk-label label {\n",
       "  font-family: monospace;\n",
       "  font-weight: bold;\n",
       "  display: inline-block;\n",
       "  line-height: 1.2em;\n",
       "}\n",
       "\n",
       "#sk-container-id-1 div.sk-label-container {\n",
       "  text-align: center;\n",
       "}\n",
       "\n",
       "/* Estimator-specific */\n",
       "#sk-container-id-1 div.sk-estimator {\n",
       "  font-family: monospace;\n",
       "  border: 1px dotted var(--sklearn-color-border-box);\n",
       "  border-radius: 0.25em;\n",
       "  box-sizing: border-box;\n",
       "  margin-bottom: 0.5em;\n",
       "  /* unfitted */\n",
       "  background-color: var(--sklearn-color-unfitted-level-0);\n",
       "}\n",
       "\n",
       "#sk-container-id-1 div.sk-estimator.fitted {\n",
       "  /* fitted */\n",
       "  background-color: var(--sklearn-color-fitted-level-0);\n",
       "}\n",
       "\n",
       "/* on hover */\n",
       "#sk-container-id-1 div.sk-estimator:hover {\n",
       "  /* unfitted */\n",
       "  background-color: var(--sklearn-color-unfitted-level-2);\n",
       "}\n",
       "\n",
       "#sk-container-id-1 div.sk-estimator.fitted:hover {\n",
       "  /* fitted */\n",
       "  background-color: var(--sklearn-color-fitted-level-2);\n",
       "}\n",
       "\n",
       "/* Specification for estimator info (e.g. \"i\" and \"?\") */\n",
       "\n",
       "/* Common style for \"i\" and \"?\" */\n",
       "\n",
       ".sk-estimator-doc-link,\n",
       "a:link.sk-estimator-doc-link,\n",
       "a:visited.sk-estimator-doc-link {\n",
       "  float: right;\n",
       "  font-size: smaller;\n",
       "  line-height: 1em;\n",
       "  font-family: monospace;\n",
       "  background-color: var(--sklearn-color-background);\n",
       "  border-radius: 1em;\n",
       "  height: 1em;\n",
       "  width: 1em;\n",
       "  text-decoration: none !important;\n",
       "  margin-left: 0.5em;\n",
       "  text-align: center;\n",
       "  /* unfitted */\n",
       "  border: var(--sklearn-color-unfitted-level-1) 1pt solid;\n",
       "  color: var(--sklearn-color-unfitted-level-1);\n",
       "}\n",
       "\n",
       ".sk-estimator-doc-link.fitted,\n",
       "a:link.sk-estimator-doc-link.fitted,\n",
       "a:visited.sk-estimator-doc-link.fitted {\n",
       "  /* fitted */\n",
       "  border: var(--sklearn-color-fitted-level-1) 1pt solid;\n",
       "  color: var(--sklearn-color-fitted-level-1);\n",
       "}\n",
       "\n",
       "/* On hover */\n",
       "div.sk-estimator:hover .sk-estimator-doc-link:hover,\n",
       ".sk-estimator-doc-link:hover,\n",
       "div.sk-label-container:hover .sk-estimator-doc-link:hover,\n",
       ".sk-estimator-doc-link:hover {\n",
       "  /* unfitted */\n",
       "  background-color: var(--sklearn-color-unfitted-level-3);\n",
       "  color: var(--sklearn-color-background);\n",
       "  text-decoration: none;\n",
       "}\n",
       "\n",
       "div.sk-estimator.fitted:hover .sk-estimator-doc-link.fitted:hover,\n",
       ".sk-estimator-doc-link.fitted:hover,\n",
       "div.sk-label-container:hover .sk-estimator-doc-link.fitted:hover,\n",
       ".sk-estimator-doc-link.fitted:hover {\n",
       "  /* fitted */\n",
       "  background-color: var(--sklearn-color-fitted-level-3);\n",
       "  color: var(--sklearn-color-background);\n",
       "  text-decoration: none;\n",
       "}\n",
       "\n",
       "/* Span, style for the box shown on hovering the info icon */\n",
       ".sk-estimator-doc-link span {\n",
       "  display: none;\n",
       "  z-index: 9999;\n",
       "  position: relative;\n",
       "  font-weight: normal;\n",
       "  right: .2ex;\n",
       "  padding: .5ex;\n",
       "  margin: .5ex;\n",
       "  width: min-content;\n",
       "  min-width: 20ex;\n",
       "  max-width: 50ex;\n",
       "  color: var(--sklearn-color-text);\n",
       "  box-shadow: 2pt 2pt 4pt #999;\n",
       "  /* unfitted */\n",
       "  background: var(--sklearn-color-unfitted-level-0);\n",
       "  border: .5pt solid var(--sklearn-color-unfitted-level-3);\n",
       "}\n",
       "\n",
       ".sk-estimator-doc-link.fitted span {\n",
       "  /* fitted */\n",
       "  background: var(--sklearn-color-fitted-level-0);\n",
       "  border: var(--sklearn-color-fitted-level-3);\n",
       "}\n",
       "\n",
       ".sk-estimator-doc-link:hover span {\n",
       "  display: block;\n",
       "}\n",
       "\n",
       "/* \"?\"-specific style due to the `<a>` HTML tag */\n",
       "\n",
       "#sk-container-id-1 a.estimator_doc_link {\n",
       "  float: right;\n",
       "  font-size: 1rem;\n",
       "  line-height: 1em;\n",
       "  font-family: monospace;\n",
       "  background-color: var(--sklearn-color-background);\n",
       "  border-radius: 1rem;\n",
       "  height: 1rem;\n",
       "  width: 1rem;\n",
       "  text-decoration: none;\n",
       "  /* unfitted */\n",
       "  color: var(--sklearn-color-unfitted-level-1);\n",
       "  border: var(--sklearn-color-unfitted-level-1) 1pt solid;\n",
       "}\n",
       "\n",
       "#sk-container-id-1 a.estimator_doc_link.fitted {\n",
       "  /* fitted */\n",
       "  border: var(--sklearn-color-fitted-level-1) 1pt solid;\n",
       "  color: var(--sklearn-color-fitted-level-1);\n",
       "}\n",
       "\n",
       "/* On hover */\n",
       "#sk-container-id-1 a.estimator_doc_link:hover {\n",
       "  /* unfitted */\n",
       "  background-color: var(--sklearn-color-unfitted-level-3);\n",
       "  color: var(--sklearn-color-background);\n",
       "  text-decoration: none;\n",
       "}\n",
       "\n",
       "#sk-container-id-1 a.estimator_doc_link.fitted:hover {\n",
       "  /* fitted */\n",
       "  background-color: var(--sklearn-color-fitted-level-3);\n",
       "}\n",
       "</style><div id=\"sk-container-id-1\" class=\"sk-top-container\"><div class=\"sk-text-repr-fallback\"><pre>Pipeline(steps=[(&#x27;log_transformer&#x27;, LogTransformer()),\n",
       "                (&#x27;gender_location_binarizer&#x27;, GenderLocationBinarizer()),\n",
       "                (&#x27;preprocessor&#x27;,\n",
       "                 ColumnTransformer(transformers=[(&#x27;numeric&#x27;, StandardScaler(),\n",
       "                                                  [&#x27;CreditScore&#x27;, &#x27;Tenure&#x27;,\n",
       "                                                   &#x27;Balance&#x27;,\n",
       "                                                   &#x27;EstimatedSalary&#x27;]),\n",
       "                                                 (&#x27;categoric&#x27;,\n",
       "                                                  FunctionTransformer(func=&lt;function map_yes_no at 0x000002148B78BB80&gt;),\n",
       "                                                  [&#x27;HasCrCard&#x27;,\n",
       "                                                   &#x27;IsActiveMember&#x27;]),\n",
       "                                                 (&#x27;binary&#x27;, &#x27;passthrough&#x27;,\n",
       "                                                  [&#x27;Gender_Female&#x27;,\n",
       "                                                   &#x27;Gender_Male&#x27;,\n",
       "                                                   &#x27;Location_France&#x27;,\n",
       "                                                   &#x27;Location_Germany&#x27;,\n",
       "                                                   &#x27;Location_Spain&#x27;]),\n",
       "                                                 (&#x27;log_transformed&#x27;,\n",
       "                                                  &#x27;passthrough&#x27;,\n",
       "                                                  [&#x27;NumOfProducts_log&#x27;,\n",
       "                                                   &#x27;Age_log&#x27;])]))])</pre><b>In a Jupyter environment, please rerun this cell to show the HTML representation or trust the notebook. <br />On GitHub, the HTML representation is unable to render, please try loading this page with nbviewer.org.</b></div><div class=\"sk-container\" hidden><div class=\"sk-item sk-dashed-wrapped\"><div class=\"sk-label-container\"><div class=\"sk-label fitted sk-toggleable\"><input class=\"sk-toggleable__control sk-hidden--visually\" id=\"sk-estimator-id-1\" type=\"checkbox\" ><label for=\"sk-estimator-id-1\" class=\"sk-toggleable__label fitted sk-toggleable__label-arrow\"><div><div>Pipeline</div></div><div><a class=\"sk-estimator-doc-link fitted\" rel=\"noreferrer\" target=\"_blank\" href=\"https://scikit-learn.org/1.6/modules/generated/sklearn.pipeline.Pipeline.html\">?<span>Documentation for Pipeline</span></a><span class=\"sk-estimator-doc-link fitted\">i<span>Fitted</span></span></div></label><div class=\"sk-toggleable__content fitted\"><pre>Pipeline(steps=[(&#x27;log_transformer&#x27;, LogTransformer()),\n",
       "                (&#x27;gender_location_binarizer&#x27;, GenderLocationBinarizer()),\n",
       "                (&#x27;preprocessor&#x27;,\n",
       "                 ColumnTransformer(transformers=[(&#x27;numeric&#x27;, StandardScaler(),\n",
       "                                                  [&#x27;CreditScore&#x27;, &#x27;Tenure&#x27;,\n",
       "                                                   &#x27;Balance&#x27;,\n",
       "                                                   &#x27;EstimatedSalary&#x27;]),\n",
       "                                                 (&#x27;categoric&#x27;,\n",
       "                                                  FunctionTransformer(func=&lt;function map_yes_no at 0x000002148B78BB80&gt;),\n",
       "                                                  [&#x27;HasCrCard&#x27;,\n",
       "                                                   &#x27;IsActiveMember&#x27;]),\n",
       "                                                 (&#x27;binary&#x27;, &#x27;passthrough&#x27;,\n",
       "                                                  [&#x27;Gender_Female&#x27;,\n",
       "                                                   &#x27;Gender_Male&#x27;,\n",
       "                                                   &#x27;Location_France&#x27;,\n",
       "                                                   &#x27;Location_Germany&#x27;,\n",
       "                                                   &#x27;Location_Spain&#x27;]),\n",
       "                                                 (&#x27;log_transformed&#x27;,\n",
       "                                                  &#x27;passthrough&#x27;,\n",
       "                                                  [&#x27;NumOfProducts_log&#x27;,\n",
       "                                                   &#x27;Age_log&#x27;])]))])</pre></div> </div></div><div class=\"sk-serial\"><div class=\"sk-item\"><div class=\"sk-estimator fitted sk-toggleable\"><input class=\"sk-toggleable__control sk-hidden--visually\" id=\"sk-estimator-id-2\" type=\"checkbox\" ><label for=\"sk-estimator-id-2\" class=\"sk-toggleable__label fitted sk-toggleable__label-arrow\"><div><div>LogTransformer</div></div></label><div class=\"sk-toggleable__content fitted\"><pre>LogTransformer()</pre></div> </div></div><div class=\"sk-item\"><div class=\"sk-estimator fitted sk-toggleable\"><input class=\"sk-toggleable__control sk-hidden--visually\" id=\"sk-estimator-id-3\" type=\"checkbox\" ><label for=\"sk-estimator-id-3\" class=\"sk-toggleable__label fitted sk-toggleable__label-arrow\"><div><div>GenderLocationBinarizer</div></div></label><div class=\"sk-toggleable__content fitted\"><pre>GenderLocationBinarizer()</pre></div> </div></div><div class=\"sk-item sk-dashed-wrapped\"><div class=\"sk-label-container\"><div class=\"sk-label fitted sk-toggleable\"><input class=\"sk-toggleable__control sk-hidden--visually\" id=\"sk-estimator-id-4\" type=\"checkbox\" ><label for=\"sk-estimator-id-4\" class=\"sk-toggleable__label fitted sk-toggleable__label-arrow\"><div><div>preprocessor: ColumnTransformer</div></div><div><a class=\"sk-estimator-doc-link fitted\" rel=\"noreferrer\" target=\"_blank\" href=\"https://scikit-learn.org/1.6/modules/generated/sklearn.compose.ColumnTransformer.html\">?<span>Documentation for preprocessor: ColumnTransformer</span></a></div></label><div class=\"sk-toggleable__content fitted\"><pre>ColumnTransformer(transformers=[(&#x27;numeric&#x27;, StandardScaler(),\n",
       "                                 [&#x27;CreditScore&#x27;, &#x27;Tenure&#x27;, &#x27;Balance&#x27;,\n",
       "                                  &#x27;EstimatedSalary&#x27;]),\n",
       "                                (&#x27;categoric&#x27;,\n",
       "                                 FunctionTransformer(func=&lt;function map_yes_no at 0x000002148B78BB80&gt;),\n",
       "                                 [&#x27;HasCrCard&#x27;, &#x27;IsActiveMember&#x27;]),\n",
       "                                (&#x27;binary&#x27;, &#x27;passthrough&#x27;,\n",
       "                                 [&#x27;Gender_Female&#x27;, &#x27;Gender_Male&#x27;,\n",
       "                                  &#x27;Location_France&#x27;, &#x27;Location_Germany&#x27;,\n",
       "                                  &#x27;Location_Spain&#x27;]),\n",
       "                                (&#x27;log_transformed&#x27;, &#x27;passthrough&#x27;,\n",
       "                                 [&#x27;NumOfProducts_log&#x27;, &#x27;Age_log&#x27;])])</pre></div> </div></div><div class=\"sk-parallel\"><div class=\"sk-parallel-item\"><div class=\"sk-item\"><div class=\"sk-label-container\"><div class=\"sk-label fitted sk-toggleable\"><input class=\"sk-toggleable__control sk-hidden--visually\" id=\"sk-estimator-id-5\" type=\"checkbox\" ><label for=\"sk-estimator-id-5\" class=\"sk-toggleable__label fitted sk-toggleable__label-arrow\"><div><div>numeric</div></div></label><div class=\"sk-toggleable__content fitted\"><pre>[&#x27;CreditScore&#x27;, &#x27;Tenure&#x27;, &#x27;Balance&#x27;, &#x27;EstimatedSalary&#x27;]</pre></div> </div></div><div class=\"sk-serial\"><div class=\"sk-item\"><div class=\"sk-estimator fitted sk-toggleable\"><input class=\"sk-toggleable__control sk-hidden--visually\" id=\"sk-estimator-id-6\" type=\"checkbox\" ><label for=\"sk-estimator-id-6\" class=\"sk-toggleable__label fitted sk-toggleable__label-arrow\"><div><div>StandardScaler</div></div><div><a class=\"sk-estimator-doc-link fitted\" rel=\"noreferrer\" target=\"_blank\" href=\"https://scikit-learn.org/1.6/modules/generated/sklearn.preprocessing.StandardScaler.html\">?<span>Documentation for StandardScaler</span></a></div></label><div class=\"sk-toggleable__content fitted\"><pre>StandardScaler()</pre></div> </div></div></div></div></div><div class=\"sk-parallel-item\"><div class=\"sk-item\"><div class=\"sk-label-container\"><div class=\"sk-label fitted sk-toggleable\"><input class=\"sk-toggleable__control sk-hidden--visually\" id=\"sk-estimator-id-7\" type=\"checkbox\" ><label for=\"sk-estimator-id-7\" class=\"sk-toggleable__label fitted sk-toggleable__label-arrow\"><div><div>categoric</div></div></label><div class=\"sk-toggleable__content fitted\"><pre>[&#x27;HasCrCard&#x27;, &#x27;IsActiveMember&#x27;]</pre></div> </div></div><div class=\"sk-serial\"><div class=\"sk-item\"><div class=\"sk-estimator fitted sk-toggleable\"><input class=\"sk-toggleable__control sk-hidden--visually\" id=\"sk-estimator-id-8\" type=\"checkbox\" ><label for=\"sk-estimator-id-8\" class=\"sk-toggleable__label fitted sk-toggleable__label-arrow\"><div><div>map_yes_no</div><div class=\"caption\">FunctionTransformer</div></div><div><a class=\"sk-estimator-doc-link fitted\" rel=\"noreferrer\" target=\"_blank\" href=\"https://scikit-learn.org/1.6/modules/generated/sklearn.preprocessing.FunctionTransformer.html\">?<span>Documentation for FunctionTransformer</span></a></div></label><div class=\"sk-toggleable__content fitted\"><pre>FunctionTransformer(func=&lt;function map_yes_no at 0x000002148B78BB80&gt;)</pre></div> </div></div></div></div></div><div class=\"sk-parallel-item\"><div class=\"sk-item\"><div class=\"sk-label-container\"><div class=\"sk-label fitted sk-toggleable\"><input class=\"sk-toggleable__control sk-hidden--visually\" id=\"sk-estimator-id-9\" type=\"checkbox\" ><label for=\"sk-estimator-id-9\" class=\"sk-toggleable__label fitted sk-toggleable__label-arrow\"><div><div>binary</div></div></label><div class=\"sk-toggleable__content fitted\"><pre>[&#x27;Gender_Female&#x27;, &#x27;Gender_Male&#x27;, &#x27;Location_France&#x27;, &#x27;Location_Germany&#x27;, &#x27;Location_Spain&#x27;]</pre></div> </div></div><div class=\"sk-serial\"><div class=\"sk-item\"><div class=\"sk-estimator fitted sk-toggleable\"><input class=\"sk-toggleable__control sk-hidden--visually\" id=\"sk-estimator-id-10\" type=\"checkbox\" ><label for=\"sk-estimator-id-10\" class=\"sk-toggleable__label fitted sk-toggleable__label-arrow\"><div><div>passthrough</div></div></label><div class=\"sk-toggleable__content fitted\"><pre>passthrough</pre></div> </div></div></div></div></div><div class=\"sk-parallel-item\"><div class=\"sk-item\"><div class=\"sk-label-container\"><div class=\"sk-label fitted sk-toggleable\"><input class=\"sk-toggleable__control sk-hidden--visually\" id=\"sk-estimator-id-11\" type=\"checkbox\" ><label for=\"sk-estimator-id-11\" class=\"sk-toggleable__label fitted sk-toggleable__label-arrow\"><div><div>log_transformed</div></div></label><div class=\"sk-toggleable__content fitted\"><pre>[&#x27;NumOfProducts_log&#x27;, &#x27;Age_log&#x27;]</pre></div> </div></div><div class=\"sk-serial\"><div class=\"sk-item\"><div class=\"sk-estimator fitted sk-toggleable\"><input class=\"sk-toggleable__control sk-hidden--visually\" id=\"sk-estimator-id-12\" type=\"checkbox\" ><label for=\"sk-estimator-id-12\" class=\"sk-toggleable__label fitted sk-toggleable__label-arrow\"><div><div>passthrough</div></div></label><div class=\"sk-toggleable__content fitted\"><pre>passthrough</pre></div> </div></div></div></div></div></div></div></div></div></div></div>"
      ],
      "text/plain": [
       "Pipeline(steps=[('log_transformer', LogTransformer()),\n",
       "                ('gender_location_binarizer', GenderLocationBinarizer()),\n",
       "                ('preprocessor',\n",
       "                 ColumnTransformer(transformers=[('numeric', StandardScaler(),\n",
       "                                                  ['CreditScore', 'Tenure',\n",
       "                                                   'Balance',\n",
       "                                                   'EstimatedSalary']),\n",
       "                                                 ('categoric',\n",
       "                                                  FunctionTransformer(func=<function map_yes_no at 0x000002148B78BB80>),\n",
       "                                                  ['HasCrCard',\n",
       "                                                   'IsActiveMember']),\n",
       "                                                 ('binary', 'passthrough',\n",
       "                                                  ['Gender_Female',\n",
       "                                                   'Gender_Male',\n",
       "                                                   'Location_France',\n",
       "                                                   'Location_Germany',\n",
       "                                                   'Location_Spain']),\n",
       "                                                 ('log_transformed',\n",
       "                                                  'passthrough',\n",
       "                                                  ['NumOfProducts_log',\n",
       "                                                   'Age_log'])]))])"
      ]
     },
     "execution_count": 65,
     "metadata": {},
     "output_type": "execute_result"
    }
   ],
   "source": [
    "# Debug: Check data before fitting\n",
    "print(\"Sample of X_train before pipeline fitting:\", X_train.head())\n",
    "\n",
    "# Fit pipeline\n",
    "pipeline.fit(X_train)"
   ]
  },
  {
   "cell_type": "code",
   "execution_count": 66,
   "metadata": {
    "colab": {
     "base_uri": "https://localhost:8080/"
    },
    "executionInfo": {
     "elapsed": 29,
     "status": "ok",
     "timestamp": 1745851341818,
     "user": {
      "displayName": "Ebiyout Jerri",
      "userId": "17044078967953802273"
     },
     "user_tz": -330
    },
    "id": "Z4EqpL5i1GOP",
    "outputId": "0e755d11-5875-47fd-df15-3969deb86e3e"
   },
   "outputs": [
    {
     "name": "stdout",
     "output_type": "stream",
     "text": [
      "After SMOTE: X_train shape: (11170, 13) y_train shape: (11170,)\n"
     ]
    },
    {
     "name": "stderr",
     "output_type": "stream",
     "text": [
      "c:\\Users\\suriy\\miniconda3\\envs\\my_env\\lib\\site-packages\\sklearn\\base.py:474: FutureWarning: `BaseEstimator._validate_data` is deprecated in 1.6 and will be removed in 1.7. Use `sklearn.utils.validation.validate_data` instead. This function becomes public and is part of the scikit-learn developer API.\n",
      "  warnings.warn(\n"
     ]
    }
   ],
   "source": [
    "# Apply SMOTE for oversampling\n",
    "smote = SMOTE(random_state=42)\n",
    "X_train_smote, y_train_smote = smote.fit_resample(X_train, y_train)\n",
    "print(\"After SMOTE: X_train shape:\", X_train_smote.shape, \"y_train shape:\", y_train_smote.shape)"
   ]
  },
  {
   "cell_type": "code",
   "execution_count": 67,
   "metadata": {
    "colab": {
     "base_uri": "https://localhost:8080/",
     "height": 99
    },
    "executionInfo": {
     "elapsed": 87,
     "status": "ok",
     "timestamp": 1745851341898,
     "user": {
      "displayName": "Ebiyout Jerri",
      "userId": "17044078967953802273"
     },
     "user_tz": -330
    },
    "id": "llMcmptN1GOS",
    "outputId": "e7f9e32e-ad03-453e-bf12-7ab95d1bfafb"
   },
   "outputs": [
    {
     "data": {
      "text/html": [
       "<style>#sk-container-id-2 {\n",
       "  /* Definition of color scheme common for light and dark mode */\n",
       "  --sklearn-color-text: #000;\n",
       "  --sklearn-color-text-muted: #666;\n",
       "  --sklearn-color-line: gray;\n",
       "  /* Definition of color scheme for unfitted estimators */\n",
       "  --sklearn-color-unfitted-level-0: #fff5e6;\n",
       "  --sklearn-color-unfitted-level-1: #f6e4d2;\n",
       "  --sklearn-color-unfitted-level-2: #ffe0b3;\n",
       "  --sklearn-color-unfitted-level-3: chocolate;\n",
       "  /* Definition of color scheme for fitted estimators */\n",
       "  --sklearn-color-fitted-level-0: #f0f8ff;\n",
       "  --sklearn-color-fitted-level-1: #d4ebff;\n",
       "  --sklearn-color-fitted-level-2: #b3dbfd;\n",
       "  --sklearn-color-fitted-level-3: cornflowerblue;\n",
       "\n",
       "  /* Specific color for light theme */\n",
       "  --sklearn-color-text-on-default-background: var(--sg-text-color, var(--theme-code-foreground, var(--jp-content-font-color1, black)));\n",
       "  --sklearn-color-background: var(--sg-background-color, var(--theme-background, var(--jp-layout-color0, white)));\n",
       "  --sklearn-color-border-box: var(--sg-text-color, var(--theme-code-foreground, var(--jp-content-font-color1, black)));\n",
       "  --sklearn-color-icon: #696969;\n",
       "\n",
       "  @media (prefers-color-scheme: dark) {\n",
       "    /* Redefinition of color scheme for dark theme */\n",
       "    --sklearn-color-text-on-default-background: var(--sg-text-color, var(--theme-code-foreground, var(--jp-content-font-color1, white)));\n",
       "    --sklearn-color-background: var(--sg-background-color, var(--theme-background, var(--jp-layout-color0, #111)));\n",
       "    --sklearn-color-border-box: var(--sg-text-color, var(--theme-code-foreground, var(--jp-content-font-color1, white)));\n",
       "    --sklearn-color-icon: #878787;\n",
       "  }\n",
       "}\n",
       "\n",
       "#sk-container-id-2 {\n",
       "  color: var(--sklearn-color-text);\n",
       "}\n",
       "\n",
       "#sk-container-id-2 pre {\n",
       "  padding: 0;\n",
       "}\n",
       "\n",
       "#sk-container-id-2 input.sk-hidden--visually {\n",
       "  border: 0;\n",
       "  clip: rect(1px 1px 1px 1px);\n",
       "  clip: rect(1px, 1px, 1px, 1px);\n",
       "  height: 1px;\n",
       "  margin: -1px;\n",
       "  overflow: hidden;\n",
       "  padding: 0;\n",
       "  position: absolute;\n",
       "  width: 1px;\n",
       "}\n",
       "\n",
       "#sk-container-id-2 div.sk-dashed-wrapped {\n",
       "  border: 1px dashed var(--sklearn-color-line);\n",
       "  margin: 0 0.4em 0.5em 0.4em;\n",
       "  box-sizing: border-box;\n",
       "  padding-bottom: 0.4em;\n",
       "  background-color: var(--sklearn-color-background);\n",
       "}\n",
       "\n",
       "#sk-container-id-2 div.sk-container {\n",
       "  /* jupyter's `normalize.less` sets `[hidden] { display: none; }`\n",
       "     but bootstrap.min.css set `[hidden] { display: none !important; }`\n",
       "     so we also need the `!important` here to be able to override the\n",
       "     default hidden behavior on the sphinx rendered scikit-learn.org.\n",
       "     See: https://github.com/scikit-learn/scikit-learn/issues/21755 */\n",
       "  display: inline-block !important;\n",
       "  position: relative;\n",
       "}\n",
       "\n",
       "#sk-container-id-2 div.sk-text-repr-fallback {\n",
       "  display: none;\n",
       "}\n",
       "\n",
       "div.sk-parallel-item,\n",
       "div.sk-serial,\n",
       "div.sk-item {\n",
       "  /* draw centered vertical line to link estimators */\n",
       "  background-image: linear-gradient(var(--sklearn-color-text-on-default-background), var(--sklearn-color-text-on-default-background));\n",
       "  background-size: 2px 100%;\n",
       "  background-repeat: no-repeat;\n",
       "  background-position: center center;\n",
       "}\n",
       "\n",
       "/* Parallel-specific style estimator block */\n",
       "\n",
       "#sk-container-id-2 div.sk-parallel-item::after {\n",
       "  content: \"\";\n",
       "  width: 100%;\n",
       "  border-bottom: 2px solid var(--sklearn-color-text-on-default-background);\n",
       "  flex-grow: 1;\n",
       "}\n",
       "\n",
       "#sk-container-id-2 div.sk-parallel {\n",
       "  display: flex;\n",
       "  align-items: stretch;\n",
       "  justify-content: center;\n",
       "  background-color: var(--sklearn-color-background);\n",
       "  position: relative;\n",
       "}\n",
       "\n",
       "#sk-container-id-2 div.sk-parallel-item {\n",
       "  display: flex;\n",
       "  flex-direction: column;\n",
       "}\n",
       "\n",
       "#sk-container-id-2 div.sk-parallel-item:first-child::after {\n",
       "  align-self: flex-end;\n",
       "  width: 50%;\n",
       "}\n",
       "\n",
       "#sk-container-id-2 div.sk-parallel-item:last-child::after {\n",
       "  align-self: flex-start;\n",
       "  width: 50%;\n",
       "}\n",
       "\n",
       "#sk-container-id-2 div.sk-parallel-item:only-child::after {\n",
       "  width: 0;\n",
       "}\n",
       "\n",
       "/* Serial-specific style estimator block */\n",
       "\n",
       "#sk-container-id-2 div.sk-serial {\n",
       "  display: flex;\n",
       "  flex-direction: column;\n",
       "  align-items: center;\n",
       "  background-color: var(--sklearn-color-background);\n",
       "  padding-right: 1em;\n",
       "  padding-left: 1em;\n",
       "}\n",
       "\n",
       "\n",
       "/* Toggleable style: style used for estimator/Pipeline/ColumnTransformer box that is\n",
       "clickable and can be expanded/collapsed.\n",
       "- Pipeline and ColumnTransformer use this feature and define the default style\n",
       "- Estimators will overwrite some part of the style using the `sk-estimator` class\n",
       "*/\n",
       "\n",
       "/* Pipeline and ColumnTransformer style (default) */\n",
       "\n",
       "#sk-container-id-2 div.sk-toggleable {\n",
       "  /* Default theme specific background. It is overwritten whether we have a\n",
       "  specific estimator or a Pipeline/ColumnTransformer */\n",
       "  background-color: var(--sklearn-color-background);\n",
       "}\n",
       "\n",
       "/* Toggleable label */\n",
       "#sk-container-id-2 label.sk-toggleable__label {\n",
       "  cursor: pointer;\n",
       "  display: flex;\n",
       "  width: 100%;\n",
       "  margin-bottom: 0;\n",
       "  padding: 0.5em;\n",
       "  box-sizing: border-box;\n",
       "  text-align: center;\n",
       "  align-items: start;\n",
       "  justify-content: space-between;\n",
       "  gap: 0.5em;\n",
       "}\n",
       "\n",
       "#sk-container-id-2 label.sk-toggleable__label .caption {\n",
       "  font-size: 0.6rem;\n",
       "  font-weight: lighter;\n",
       "  color: var(--sklearn-color-text-muted);\n",
       "}\n",
       "\n",
       "#sk-container-id-2 label.sk-toggleable__label-arrow:before {\n",
       "  /* Arrow on the left of the label */\n",
       "  content: \"▸\";\n",
       "  float: left;\n",
       "  margin-right: 0.25em;\n",
       "  color: var(--sklearn-color-icon);\n",
       "}\n",
       "\n",
       "#sk-container-id-2 label.sk-toggleable__label-arrow:hover:before {\n",
       "  color: var(--sklearn-color-text);\n",
       "}\n",
       "\n",
       "/* Toggleable content - dropdown */\n",
       "\n",
       "#sk-container-id-2 div.sk-toggleable__content {\n",
       "  max-height: 0;\n",
       "  max-width: 0;\n",
       "  overflow: hidden;\n",
       "  text-align: left;\n",
       "  /* unfitted */\n",
       "  background-color: var(--sklearn-color-unfitted-level-0);\n",
       "}\n",
       "\n",
       "#sk-container-id-2 div.sk-toggleable__content.fitted {\n",
       "  /* fitted */\n",
       "  background-color: var(--sklearn-color-fitted-level-0);\n",
       "}\n",
       "\n",
       "#sk-container-id-2 div.sk-toggleable__content pre {\n",
       "  margin: 0.2em;\n",
       "  border-radius: 0.25em;\n",
       "  color: var(--sklearn-color-text);\n",
       "  /* unfitted */\n",
       "  background-color: var(--sklearn-color-unfitted-level-0);\n",
       "}\n",
       "\n",
       "#sk-container-id-2 div.sk-toggleable__content.fitted pre {\n",
       "  /* unfitted */\n",
       "  background-color: var(--sklearn-color-fitted-level-0);\n",
       "}\n",
       "\n",
       "#sk-container-id-2 input.sk-toggleable__control:checked~div.sk-toggleable__content {\n",
       "  /* Expand drop-down */\n",
       "  max-height: 200px;\n",
       "  max-width: 100%;\n",
       "  overflow: auto;\n",
       "}\n",
       "\n",
       "#sk-container-id-2 input.sk-toggleable__control:checked~label.sk-toggleable__label-arrow:before {\n",
       "  content: \"▾\";\n",
       "}\n",
       "\n",
       "/* Pipeline/ColumnTransformer-specific style */\n",
       "\n",
       "#sk-container-id-2 div.sk-label input.sk-toggleable__control:checked~label.sk-toggleable__label {\n",
       "  color: var(--sklearn-color-text);\n",
       "  background-color: var(--sklearn-color-unfitted-level-2);\n",
       "}\n",
       "\n",
       "#sk-container-id-2 div.sk-label.fitted input.sk-toggleable__control:checked~label.sk-toggleable__label {\n",
       "  background-color: var(--sklearn-color-fitted-level-2);\n",
       "}\n",
       "\n",
       "/* Estimator-specific style */\n",
       "\n",
       "/* Colorize estimator box */\n",
       "#sk-container-id-2 div.sk-estimator input.sk-toggleable__control:checked~label.sk-toggleable__label {\n",
       "  /* unfitted */\n",
       "  background-color: var(--sklearn-color-unfitted-level-2);\n",
       "}\n",
       "\n",
       "#sk-container-id-2 div.sk-estimator.fitted input.sk-toggleable__control:checked~label.sk-toggleable__label {\n",
       "  /* fitted */\n",
       "  background-color: var(--sklearn-color-fitted-level-2);\n",
       "}\n",
       "\n",
       "#sk-container-id-2 div.sk-label label.sk-toggleable__label,\n",
       "#sk-container-id-2 div.sk-label label {\n",
       "  /* The background is the default theme color */\n",
       "  color: var(--sklearn-color-text-on-default-background);\n",
       "}\n",
       "\n",
       "/* On hover, darken the color of the background */\n",
       "#sk-container-id-2 div.sk-label:hover label.sk-toggleable__label {\n",
       "  color: var(--sklearn-color-text);\n",
       "  background-color: var(--sklearn-color-unfitted-level-2);\n",
       "}\n",
       "\n",
       "/* Label box, darken color on hover, fitted */\n",
       "#sk-container-id-2 div.sk-label.fitted:hover label.sk-toggleable__label.fitted {\n",
       "  color: var(--sklearn-color-text);\n",
       "  background-color: var(--sklearn-color-fitted-level-2);\n",
       "}\n",
       "\n",
       "/* Estimator label */\n",
       "\n",
       "#sk-container-id-2 div.sk-label label {\n",
       "  font-family: monospace;\n",
       "  font-weight: bold;\n",
       "  display: inline-block;\n",
       "  line-height: 1.2em;\n",
       "}\n",
       "\n",
       "#sk-container-id-2 div.sk-label-container {\n",
       "  text-align: center;\n",
       "}\n",
       "\n",
       "/* Estimator-specific */\n",
       "#sk-container-id-2 div.sk-estimator {\n",
       "  font-family: monospace;\n",
       "  border: 1px dotted var(--sklearn-color-border-box);\n",
       "  border-radius: 0.25em;\n",
       "  box-sizing: border-box;\n",
       "  margin-bottom: 0.5em;\n",
       "  /* unfitted */\n",
       "  background-color: var(--sklearn-color-unfitted-level-0);\n",
       "}\n",
       "\n",
       "#sk-container-id-2 div.sk-estimator.fitted {\n",
       "  /* fitted */\n",
       "  background-color: var(--sklearn-color-fitted-level-0);\n",
       "}\n",
       "\n",
       "/* on hover */\n",
       "#sk-container-id-2 div.sk-estimator:hover {\n",
       "  /* unfitted */\n",
       "  background-color: var(--sklearn-color-unfitted-level-2);\n",
       "}\n",
       "\n",
       "#sk-container-id-2 div.sk-estimator.fitted:hover {\n",
       "  /* fitted */\n",
       "  background-color: var(--sklearn-color-fitted-level-2);\n",
       "}\n",
       "\n",
       "/* Specification for estimator info (e.g. \"i\" and \"?\") */\n",
       "\n",
       "/* Common style for \"i\" and \"?\" */\n",
       "\n",
       ".sk-estimator-doc-link,\n",
       "a:link.sk-estimator-doc-link,\n",
       "a:visited.sk-estimator-doc-link {\n",
       "  float: right;\n",
       "  font-size: smaller;\n",
       "  line-height: 1em;\n",
       "  font-family: monospace;\n",
       "  background-color: var(--sklearn-color-background);\n",
       "  border-radius: 1em;\n",
       "  height: 1em;\n",
       "  width: 1em;\n",
       "  text-decoration: none !important;\n",
       "  margin-left: 0.5em;\n",
       "  text-align: center;\n",
       "  /* unfitted */\n",
       "  border: var(--sklearn-color-unfitted-level-1) 1pt solid;\n",
       "  color: var(--sklearn-color-unfitted-level-1);\n",
       "}\n",
       "\n",
       ".sk-estimator-doc-link.fitted,\n",
       "a:link.sk-estimator-doc-link.fitted,\n",
       "a:visited.sk-estimator-doc-link.fitted {\n",
       "  /* fitted */\n",
       "  border: var(--sklearn-color-fitted-level-1) 1pt solid;\n",
       "  color: var(--sklearn-color-fitted-level-1);\n",
       "}\n",
       "\n",
       "/* On hover */\n",
       "div.sk-estimator:hover .sk-estimator-doc-link:hover,\n",
       ".sk-estimator-doc-link:hover,\n",
       "div.sk-label-container:hover .sk-estimator-doc-link:hover,\n",
       ".sk-estimator-doc-link:hover {\n",
       "  /* unfitted */\n",
       "  background-color: var(--sklearn-color-unfitted-level-3);\n",
       "  color: var(--sklearn-color-background);\n",
       "  text-decoration: none;\n",
       "}\n",
       "\n",
       "div.sk-estimator.fitted:hover .sk-estimator-doc-link.fitted:hover,\n",
       ".sk-estimator-doc-link.fitted:hover,\n",
       "div.sk-label-container:hover .sk-estimator-doc-link.fitted:hover,\n",
       ".sk-estimator-doc-link.fitted:hover {\n",
       "  /* fitted */\n",
       "  background-color: var(--sklearn-color-fitted-level-3);\n",
       "  color: var(--sklearn-color-background);\n",
       "  text-decoration: none;\n",
       "}\n",
       "\n",
       "/* Span, style for the box shown on hovering the info icon */\n",
       ".sk-estimator-doc-link span {\n",
       "  display: none;\n",
       "  z-index: 9999;\n",
       "  position: relative;\n",
       "  font-weight: normal;\n",
       "  right: .2ex;\n",
       "  padding: .5ex;\n",
       "  margin: .5ex;\n",
       "  width: min-content;\n",
       "  min-width: 20ex;\n",
       "  max-width: 50ex;\n",
       "  color: var(--sklearn-color-text);\n",
       "  box-shadow: 2pt 2pt 4pt #999;\n",
       "  /* unfitted */\n",
       "  background: var(--sklearn-color-unfitted-level-0);\n",
       "  border: .5pt solid var(--sklearn-color-unfitted-level-3);\n",
       "}\n",
       "\n",
       ".sk-estimator-doc-link.fitted span {\n",
       "  /* fitted */\n",
       "  background: var(--sklearn-color-fitted-level-0);\n",
       "  border: var(--sklearn-color-fitted-level-3);\n",
       "}\n",
       "\n",
       ".sk-estimator-doc-link:hover span {\n",
       "  display: block;\n",
       "}\n",
       "\n",
       "/* \"?\"-specific style due to the `<a>` HTML tag */\n",
       "\n",
       "#sk-container-id-2 a.estimator_doc_link {\n",
       "  float: right;\n",
       "  font-size: 1rem;\n",
       "  line-height: 1em;\n",
       "  font-family: monospace;\n",
       "  background-color: var(--sklearn-color-background);\n",
       "  border-radius: 1rem;\n",
       "  height: 1rem;\n",
       "  width: 1rem;\n",
       "  text-decoration: none;\n",
       "  /* unfitted */\n",
       "  color: var(--sklearn-color-unfitted-level-1);\n",
       "  border: var(--sklearn-color-unfitted-level-1) 1pt solid;\n",
       "}\n",
       "\n",
       "#sk-container-id-2 a.estimator_doc_link.fitted {\n",
       "  /* fitted */\n",
       "  border: var(--sklearn-color-fitted-level-1) 1pt solid;\n",
       "  color: var(--sklearn-color-fitted-level-1);\n",
       "}\n",
       "\n",
       "/* On hover */\n",
       "#sk-container-id-2 a.estimator_doc_link:hover {\n",
       "  /* unfitted */\n",
       "  background-color: var(--sklearn-color-unfitted-level-3);\n",
       "  color: var(--sklearn-color-background);\n",
       "  text-decoration: none;\n",
       "}\n",
       "\n",
       "#sk-container-id-2 a.estimator_doc_link.fitted:hover {\n",
       "  /* fitted */\n",
       "  background-color: var(--sklearn-color-fitted-level-3);\n",
       "}\n",
       "</style><div id=\"sk-container-id-2\" class=\"sk-top-container\"><div class=\"sk-text-repr-fallback\"><pre>RandomForestClassifier(random_state=42)</pre><b>In a Jupyter environment, please rerun this cell to show the HTML representation or trust the notebook. <br />On GitHub, the HTML representation is unable to render, please try loading this page with nbviewer.org.</b></div><div class=\"sk-container\" hidden><div class=\"sk-item\"><div class=\"sk-estimator fitted sk-toggleable\"><input class=\"sk-toggleable__control sk-hidden--visually\" id=\"sk-estimator-id-13\" type=\"checkbox\" checked><label for=\"sk-estimator-id-13\" class=\"sk-toggleable__label fitted sk-toggleable__label-arrow\"><div><div>RandomForestClassifier</div></div><div><a class=\"sk-estimator-doc-link fitted\" rel=\"noreferrer\" target=\"_blank\" href=\"https://scikit-learn.org/1.6/modules/generated/sklearn.ensemble.RandomForestClassifier.html\">?<span>Documentation for RandomForestClassifier</span></a><span class=\"sk-estimator-doc-link fitted\">i<span>Fitted</span></span></div></label><div class=\"sk-toggleable__content fitted\"><pre>RandomForestClassifier(random_state=42)</pre></div> </div></div></div></div>"
      ],
      "text/plain": [
       "RandomForestClassifier(random_state=42)"
      ]
     },
     "execution_count": 67,
     "metadata": {},
     "output_type": "execute_result"
    }
   ],
   "source": [
    "# Train RandomForest model\n",
    "model = RandomForestClassifier(random_state=42)\n",
    "model.fit(X_train_smote, y_train_smote)"
   ]
  },
  {
   "cell_type": "code",
   "execution_count": 68,
   "metadata": {
    "colab": {
     "base_uri": "https://localhost:8080/"
    },
    "executionInfo": {
     "elapsed": 190,
     "status": "ok",
     "timestamp": 1745851342091,
     "user": {
      "displayName": "Ebiyout Jerri",
      "userId": "17044078967953802273"
     },
     "user_tz": -330
    },
    "id": "kizsKWAz1GOV",
    "outputId": "b977d259-c111-463d-9c57-a676a28058c6"
   },
   "outputs": [
    {
     "name": "stdout",
     "output_type": "stream",
     "text": [
      "Pipeline saved successfully.\n",
      "Model saved successfully.\n"
     ]
    }
   ],
   "source": [
    "# Save the pipeline and model\n",
    "with open('pipeline.pkl', 'wb') as f:\n",
    "    pickle.dump(pipeline, f)\n",
    "print(\"Pipeline saved successfully.\")\n",
    "\n",
    "with open('best_model.pkl', 'wb') as f:\n",
    "    pickle.dump(model, f)\n",
    "print(\"Model saved successfully.\")"
   ]
  },
  {
   "cell_type": "code",
   "execution_count": 69,
   "metadata": {
    "colab": {
     "base_uri": "https://localhost:8080/",
     "height": 226
    },
    "executionInfo": {
     "elapsed": 37,
     "status": "ok",
     "timestamp": 1745851342131,
     "user": {
      "displayName": "Ebiyout Jerri",
      "userId": "17044078967953802273"
     },
     "user_tz": -330
    },
    "id": "8AKVrMxP6cki",
    "outputId": "5912220f-87f3-4efc-e221-b32b14d86439"
   },
   "outputs": [
    {
     "data": {
      "text/html": [
       "<div>\n",
       "<style scoped>\n",
       "    .dataframe tbody tr th:only-of-type {\n",
       "        vertical-align: middle;\n",
       "    }\n",
       "\n",
       "    .dataframe tbody tr th {\n",
       "        vertical-align: top;\n",
       "    }\n",
       "\n",
       "    .dataframe thead th {\n",
       "        text-align: right;\n",
       "    }\n",
       "</style>\n",
       "<table border=\"1\" class=\"dataframe\">\n",
       "  <thead>\n",
       "    <tr style=\"text-align: right;\">\n",
       "      <th></th>\n",
       "      <th>CreditScore</th>\n",
       "      <th>Tenure</th>\n",
       "      <th>Balance</th>\n",
       "      <th>HasCrCard</th>\n",
       "      <th>IsActiveMember</th>\n",
       "      <th>EstimatedSalary</th>\n",
       "      <th>Gender_Female</th>\n",
       "      <th>Gender_Male</th>\n",
       "      <th>Location_France</th>\n",
       "      <th>Location_Germany</th>\n",
       "      <th>Location_Spain</th>\n",
       "      <th>NumOfProducts_log</th>\n",
       "      <th>Age_log</th>\n",
       "    </tr>\n",
       "  </thead>\n",
       "  <tbody>\n",
       "    <tr>\n",
       "      <th>0</th>\n",
       "      <td>730</td>\n",
       "      <td>5</td>\n",
       "      <td>118866</td>\n",
       "      <td>1</td>\n",
       "      <td>1</td>\n",
       "      <td>163317</td>\n",
       "      <td>False</td>\n",
       "      <td>True</td>\n",
       "      <td>False</td>\n",
       "      <td>False</td>\n",
       "      <td>True</td>\n",
       "      <td>0.693147</td>\n",
       "      <td>3.663562</td>\n",
       "    </tr>\n",
       "    <tr>\n",
       "      <th>1</th>\n",
       "      <td>730</td>\n",
       "      <td>1</td>\n",
       "      <td>0</td>\n",
       "      <td>1</td>\n",
       "      <td>1</td>\n",
       "      <td>124364</td>\n",
       "      <td>True</td>\n",
       "      <td>False</td>\n",
       "      <td>True</td>\n",
       "      <td>False</td>\n",
       "      <td>False</td>\n",
       "      <td>1.098612</td>\n",
       "      <td>3.637586</td>\n",
       "    </tr>\n",
       "    <tr>\n",
       "      <th>2</th>\n",
       "      <td>685</td>\n",
       "      <td>4</td>\n",
       "      <td>104719</td>\n",
       "      <td>1</td>\n",
       "      <td>0</td>\n",
       "      <td>38691</td>\n",
       "      <td>False</td>\n",
       "      <td>True</td>\n",
       "      <td>True</td>\n",
       "      <td>False</td>\n",
       "      <td>False</td>\n",
       "      <td>1.098612</td>\n",
       "      <td>3.044522</td>\n",
       "    </tr>\n",
       "    <tr>\n",
       "      <th>3</th>\n",
       "      <td>657</td>\n",
       "      <td>7</td>\n",
       "      <td>0</td>\n",
       "      <td>1</td>\n",
       "      <td>0</td>\n",
       "      <td>185827</td>\n",
       "      <td>False</td>\n",
       "      <td>True</td>\n",
       "      <td>True</td>\n",
       "      <td>False</td>\n",
       "      <td>False</td>\n",
       "      <td>1.098612</td>\n",
       "      <td>3.663562</td>\n",
       "    </tr>\n",
       "    <tr>\n",
       "      <th>4</th>\n",
       "      <td>667</td>\n",
       "      <td>1</td>\n",
       "      <td>0</td>\n",
       "      <td>1</td>\n",
       "      <td>0</td>\n",
       "      <td>91573</td>\n",
       "      <td>False</td>\n",
       "      <td>True</td>\n",
       "      <td>True</td>\n",
       "      <td>False</td>\n",
       "      <td>False</td>\n",
       "      <td>1.098612</td>\n",
       "      <td>3.178054</td>\n",
       "    </tr>\n",
       "  </tbody>\n",
       "</table>\n",
       "</div>"
      ],
      "text/plain": [
       "   CreditScore  Tenure  Balance  HasCrCard  IsActiveMember  EstimatedSalary  \\\n",
       "0          730       5   118866          1               1           163317   \n",
       "1          730       1        0          1               1           124364   \n",
       "2          685       4   104719          1               0            38691   \n",
       "3          657       7        0          1               0           185827   \n",
       "4          667       1        0          1               0            91573   \n",
       "\n",
       "   Gender_Female  Gender_Male  Location_France  Location_Germany  \\\n",
       "0          False         True            False             False   \n",
       "1           True        False             True             False   \n",
       "2          False         True             True             False   \n",
       "3          False         True             True             False   \n",
       "4          False         True             True             False   \n",
       "\n",
       "   Location_Spain  NumOfProducts_log   Age_log  \n",
       "0            True           0.693147  3.663562  \n",
       "1           False           1.098612  3.637586  \n",
       "2           False           1.098612  3.044522  \n",
       "3           False           1.098612  3.663562  \n",
       "4           False           1.098612  3.178054  "
      ]
     },
     "execution_count": 69,
     "metadata": {},
     "output_type": "execute_result"
    }
   ],
   "source": [
    "X_train_smote.head()"
   ]
  },
  {
   "cell_type": "code",
   "execution_count": 70,
   "metadata": {
    "colab": {
     "base_uri": "https://localhost:8080/",
     "height": 226
    },
    "executionInfo": {
     "elapsed": 128,
     "status": "ok",
     "timestamp": 1745851342262,
     "user": {
      "displayName": "Ebiyout Jerri",
      "userId": "17044078967953802273"
     },
     "user_tz": -330
    },
    "id": "wBjPn1xv6ckj",
    "outputId": "8d228864-5e86-4989-81bd-1dc9bf8fd3ab"
   },
   "outputs": [
    {
     "data": {
      "text/html": [
       "<div>\n",
       "<style scoped>\n",
       "    .dataframe tbody tr th:only-of-type {\n",
       "        vertical-align: middle;\n",
       "    }\n",
       "\n",
       "    .dataframe tbody tr th {\n",
       "        vertical-align: top;\n",
       "    }\n",
       "\n",
       "    .dataframe thead th {\n",
       "        text-align: right;\n",
       "    }\n",
       "</style>\n",
       "<table border=\"1\" class=\"dataframe\">\n",
       "  <thead>\n",
       "    <tr style=\"text-align: right;\">\n",
       "      <th></th>\n",
       "      <th>CreditScore</th>\n",
       "      <th>Tenure</th>\n",
       "      <th>Balance</th>\n",
       "      <th>HasCrCard</th>\n",
       "      <th>IsActiveMember</th>\n",
       "      <th>EstimatedSalary</th>\n",
       "      <th>Gender_Female</th>\n",
       "      <th>Gender_Male</th>\n",
       "      <th>Location_France</th>\n",
       "      <th>Location_Germany</th>\n",
       "      <th>Location_Spain</th>\n",
       "      <th>NumOfProducts_log</th>\n",
       "      <th>Age_log</th>\n",
       "    </tr>\n",
       "  </thead>\n",
       "  <tbody>\n",
       "    <tr>\n",
       "      <th>4027</th>\n",
       "      <td>762</td>\n",
       "      <td>10</td>\n",
       "      <td>100260</td>\n",
       "      <td>1</td>\n",
       "      <td>1</td>\n",
       "      <td>77142</td>\n",
       "      <td>False</td>\n",
       "      <td>True</td>\n",
       "      <td>False</td>\n",
       "      <td>True</td>\n",
       "      <td>False</td>\n",
       "      <td>1.386294</td>\n",
       "      <td>4.043051</td>\n",
       "    </tr>\n",
       "    <tr>\n",
       "      <th>7350</th>\n",
       "      <td>632</td>\n",
       "      <td>6</td>\n",
       "      <td>59972</td>\n",
       "      <td>0</td>\n",
       "      <td>1</td>\n",
       "      <td>148172</td>\n",
       "      <td>False</td>\n",
       "      <td>True</td>\n",
       "      <td>False</td>\n",
       "      <td>True</td>\n",
       "      <td>False</td>\n",
       "      <td>1.098612</td>\n",
       "      <td>3.761200</td>\n",
       "    </tr>\n",
       "    <tr>\n",
       "      <th>487</th>\n",
       "      <td>542</td>\n",
       "      <td>3</td>\n",
       "      <td>135096</td>\n",
       "      <td>1</td>\n",
       "      <td>1</td>\n",
       "      <td>14353</td>\n",
       "      <td>False</td>\n",
       "      <td>True</td>\n",
       "      <td>True</td>\n",
       "      <td>False</td>\n",
       "      <td>False</td>\n",
       "      <td>0.693147</td>\n",
       "      <td>3.688879</td>\n",
       "    </tr>\n",
       "    <tr>\n",
       "      <th>39</th>\n",
       "      <td>582</td>\n",
       "      <td>6</td>\n",
       "      <td>70349</td>\n",
       "      <td>0</td>\n",
       "      <td>1</td>\n",
       "      <td>178074</td>\n",
       "      <td>False</td>\n",
       "      <td>True</td>\n",
       "      <td>False</td>\n",
       "      <td>True</td>\n",
       "      <td>False</td>\n",
       "      <td>1.098612</td>\n",
       "      <td>3.737670</td>\n",
       "    </tr>\n",
       "    <tr>\n",
       "      <th>6801</th>\n",
       "      <td>711</td>\n",
       "      <td>8</td>\n",
       "      <td>0</td>\n",
       "      <td>1</td>\n",
       "      <td>1</td>\n",
       "      <td>67508</td>\n",
       "      <td>True</td>\n",
       "      <td>False</td>\n",
       "      <td>True</td>\n",
       "      <td>False</td>\n",
       "      <td>False</td>\n",
       "      <td>0.693147</td>\n",
       "      <td>3.583519</td>\n",
       "    </tr>\n",
       "  </tbody>\n",
       "</table>\n",
       "</div>"
      ],
      "text/plain": [
       "      CreditScore  Tenure  Balance  HasCrCard  IsActiveMember  \\\n",
       "4027          762      10   100260          1               1   \n",
       "7350          632       6    59972          0               1   \n",
       "487           542       3   135096          1               1   \n",
       "39            582       6    70349          0               1   \n",
       "6801          711       8        0          1               1   \n",
       "\n",
       "      EstimatedSalary  Gender_Female  Gender_Male  Location_France  \\\n",
       "4027            77142          False         True            False   \n",
       "7350           148172          False         True            False   \n",
       "487             14353          False         True             True   \n",
       "39             178074          False         True            False   \n",
       "6801            67508           True        False             True   \n",
       "\n",
       "      Location_Germany  Location_Spain  NumOfProducts_log   Age_log  \n",
       "4027              True           False           1.386294  4.043051  \n",
       "7350              True           False           1.098612  3.761200  \n",
       "487              False           False           0.693147  3.688879  \n",
       "39                True           False           1.098612  3.737670  \n",
       "6801             False           False           0.693147  3.583519  "
      ]
     },
     "execution_count": 70,
     "metadata": {},
     "output_type": "execute_result"
    }
   ],
   "source": [
    "X_test.head()"
   ]
  },
  {
   "cell_type": "code",
   "execution_count": 71,
   "metadata": {
    "colab": {
     "base_uri": "https://localhost:8080/",
     "height": 178
    },
    "executionInfo": {
     "elapsed": 14,
     "status": "ok",
     "timestamp": 1745851342279,
     "user": {
      "displayName": "Ebiyout Jerri",
      "userId": "17044078967953802273"
     },
     "user_tz": -330
    },
    "id": "EQD2_p3q6ckj",
    "outputId": "21a586b5-40fb-4cc5-b738-e6647a67db90"
   },
   "outputs": [
    {
     "data": {
      "text/plain": [
       "Churn\n",
       "0    5585\n",
       "1    1408\n",
       "Name: count, dtype: int64"
      ]
     },
     "execution_count": 71,
     "metadata": {},
     "output_type": "execute_result"
    }
   ],
   "source": [
    "#check for data imbalance\n",
    "y_train.value_counts()"
   ]
  },
  {
   "cell_type": "code",
   "execution_count": 72,
   "metadata": {
    "colab": {
     "base_uri": "https://localhost:8080/",
     "height": 178
    },
    "executionInfo": {
     "elapsed": 15,
     "status": "ok",
     "timestamp": 1745851342297,
     "user": {
      "displayName": "Ebiyout Jerri",
      "userId": "17044078967953802273"
     },
     "user_tz": -330
    },
    "id": "2dK0bnXn6ckk",
    "outputId": "54a26e30-1edf-4a8a-bc8c-c9dfb1b79b50"
   },
   "outputs": [
    {
     "data": {
      "text/plain": [
       "Churn\n",
       "0    5585\n",
       "1    5585\n",
       "Name: count, dtype: int64"
      ]
     },
     "execution_count": 72,
     "metadata": {},
     "output_type": "execute_result"
    }
   ],
   "source": [
    "y_train_smote.value_counts()"
   ]
  },
  {
   "cell_type": "code",
   "execution_count": 73,
   "metadata": {
    "colab": {
     "base_uri": "https://localhost:8080/",
     "height": 212
    },
    "executionInfo": {
     "elapsed": 336,
     "status": "ok",
     "timestamp": 1745851342639,
     "user": {
      "displayName": "Ebiyout Jerri",
      "userId": "17044078967953802273"
     },
     "user_tz": -330
    },
    "id": "knKIFTR86ckk",
    "outputId": "d578ccb1-2576-4dae-9f2c-b67162adb8ee"
   },
   "outputs": [
    {
     "data": {
      "image/png": "[encoded data removed]",
      "text/plain": [
       "<Figure size 640x480 with 1 Axes>"
      ]
     },
     "metadata": {},
     "output_type": "display_data"
    }
   ],
   "source": [
    "# Feature importance plot\n",
    "import matplotlib.pyplot as plt\n",
    "\n",
    "importances = model.feature_importances_\n",
    "features = X_train.columns\n",
    "plt.barh(features, importances)\n",
    "plt.title(\"Feature Importance\")\n",
    "plt.show()"
   ]
  },
  {
   "cell_type": "code",
   "execution_count": 74,
   "metadata": {
    "colab": {
     "base_uri": "https://localhost:8080/",
     "height": 477
    },
    "executionInfo": {
     "elapsed": 29,
     "status": "ok",
     "timestamp": 1745851342671,
     "user": {
      "displayName": "Ebiyout Jerri",
      "userId": "17044078967953802273"
     },
     "user_tz": -330
    },
    "id": "t9qUWLTC6ckk",
    "outputId": "881662a0-fc0b-4544-ec61-e0d67423f0f4"
   },
   "outputs": [
    {
     "data": {
      "text/html": [
       "<div>\n",
       "<style scoped>\n",
       "    .dataframe tbody tr th:only-of-type {\n",
       "        vertical-align: middle;\n",
       "    }\n",
       "\n",
       "    .dataframe tbody tr th {\n",
       "        vertical-align: top;\n",
       "    }\n",
       "\n",
       "    .dataframe thead th {\n",
       "        text-align: right;\n",
       "    }\n",
       "</style>\n",
       "<table border=\"1\" class=\"dataframe\">\n",
       "  <thead>\n",
       "    <tr style=\"text-align: right;\">\n",
       "      <th></th>\n",
       "      <th>Feature</th>\n",
       "      <th>Importance</th>\n",
       "    </tr>\n",
       "  </thead>\n",
       "  <tbody>\n",
       "    <tr>\n",
       "      <th>0</th>\n",
       "      <td>Age_log</td>\n",
       "      <td>0.243202</td>\n",
       "    </tr>\n",
       "    <tr>\n",
       "      <th>1</th>\n",
       "      <td>EstimatedSalary</td>\n",
       "      <td>0.144715</td>\n",
       "    </tr>\n",
       "    <tr>\n",
       "      <th>2</th>\n",
       "      <td>CreditScore</td>\n",
       "      <td>0.142013</td>\n",
       "    </tr>\n",
       "    <tr>\n",
       "      <th>3</th>\n",
       "      <td>Balance</td>\n",
       "      <td>0.141153</td>\n",
       "    </tr>\n",
       "    <tr>\n",
       "      <th>4</th>\n",
       "      <td>NumOfProducts_log</td>\n",
       "      <td>0.126032</td>\n",
       "    </tr>\n",
       "    <tr>\n",
       "      <th>5</th>\n",
       "      <td>Tenure</td>\n",
       "      <td>0.083910</td>\n",
       "    </tr>\n",
       "    <tr>\n",
       "      <th>6</th>\n",
       "      <td>IsActiveMember</td>\n",
       "      <td>0.040436</td>\n",
       "    </tr>\n",
       "    <tr>\n",
       "      <th>7</th>\n",
       "      <td>Location_Germany</td>\n",
       "      <td>0.019963</td>\n",
       "    </tr>\n",
       "    <tr>\n",
       "      <th>8</th>\n",
       "      <td>HasCrCard</td>\n",
       "      <td>0.019176</td>\n",
       "    </tr>\n",
       "    <tr>\n",
       "      <th>9</th>\n",
       "      <td>Location_France</td>\n",
       "      <td>0.010487</td>\n",
       "    </tr>\n",
       "    <tr>\n",
       "      <th>10</th>\n",
       "      <td>Location_Spain</td>\n",
       "      <td>0.009882</td>\n",
       "    </tr>\n",
       "    <tr>\n",
       "      <th>11</th>\n",
       "      <td>Gender_Female</td>\n",
       "      <td>0.009527</td>\n",
       "    </tr>\n",
       "    <tr>\n",
       "      <th>12</th>\n",
       "      <td>Gender_Male</td>\n",
       "      <td>0.009507</td>\n",
       "    </tr>\n",
       "  </tbody>\n",
       "</table>\n",
       "</div>"
      ],
      "text/plain": [
       "              Feature  Importance\n",
       "0             Age_log    0.243202\n",
       "1     EstimatedSalary    0.144715\n",
       "2         CreditScore    0.142013\n",
       "3             Balance    0.141153\n",
       "4   NumOfProducts_log    0.126032\n",
       "5              Tenure    0.083910\n",
       "6      IsActiveMember    0.040436\n",
       "7    Location_Germany    0.019963\n",
       "8           HasCrCard    0.019176\n",
       "9     Location_France    0.010487\n",
       "10     Location_Spain    0.009882\n",
       "11      Gender_Female    0.009527\n",
       "12        Gender_Male    0.009507"
      ]
     },
     "execution_count": 74,
     "metadata": {},
     "output_type": "execute_result"
    }
   ],
   "source": [
    "from sklearn.ensemble import RandomForestClassifier\n",
    "\n",
    "rf_classifier = RandomForestClassifier(n_jobs=-1, random_state=42)\n",
    "\n",
    "rf_classifier.fit(X_train, y_train)\n",
    "\n",
    "importances = rf_classifier.feature_importances_\n",
    "\n",
    "feature_importance_df = pd.DataFrame({'Feature': X_train.columns, 'Importance': importances})\n",
    "\n",
    "feature_importance_df = feature_importance_df.sort_values(by='Importance', ascending=False).reset_index(drop=True)\n",
    "\n",
    "feature_importance_df"
   ]
  },
  {
   "cell_type": "code",
   "execution_count": 75,
   "metadata": {
    "executionInfo": {
     "elapsed": 13,
     "status": "ok",
     "timestamp": 1745851377444,
     "user": {
      "displayName": "Ebiyout Jerri",
      "userId": "17044078967953802273"
     },
     "user_tz": -330
    },
    "id": "LFxTSoiu6ckl"
   },
   "outputs": [],
   "source": [
    "from sklearn.model_selection import train_test_split, cross_val_score, RandomizedSearchCV, StratifiedKFold\n",
    "from sklearn.tree import DecisionTreeClassifier\n",
    "from sklearn.ensemble import RandomForestClassifier\n",
    "from sklearn.linear_model import LogisticRegression\n",
    "from xgboost import XGBClassifier\n",
    "from sklearn.metrics import accuracy_score, confusion_matrix, classification_report, roc_auc_score\n",
    "from lightgbm import LGBMClassifier\n",
    "from catboost import CatBoostClassifier "
   ]
  },
  {
   "cell_type": "code",
   "execution_count": 76,
   "metadata": {
    "executionInfo": {
     "elapsed": 9,
     "status": "ok",
     "timestamp": 1745851380342,
     "user": {
      "displayName": "Ebiyout Jerri",
      "userId": "17044078967953802273"
     },
     "user_tz": -330
    },
    "id": "CNaaooGq6ckm"
   },
   "outputs": [],
   "source": [
    "models = {\n",
    "    \"Logistic Regression\": LogisticRegression(max_iter=1000, solver=\"lbfgs\"),\n",
    "    \"Random Forest\": RandomForestClassifier(random_state=42),\n",
    "    \"CatBoost\": CatBoostClassifier(random_state=42, verbose=0),\n",
    "     \"LightGBM\": LGBMClassifier(random_state=42),\n",
    "    \"XGBoost\": XGBClassifier(random_state=42, use_label_encoder=False, eval_metric='logloss')\n",
    "}"
   ]
  },
  {
   "cell_type": "code",
   "execution_count": 77,
   "metadata": {
    "executionInfo": {
     "elapsed": 104,
     "status": "ok",
     "timestamp": 1745851394181,
     "user": {
      "displayName": "Ebiyout Jerri",
      "userId": "17044078967953802273"
     },
     "user_tz": -330
    },
    "id": "DPwgu6RB6ckm"
   },
   "outputs": [],
   "source": [
    "hyperparameters = {\n",
    "    \"Logistic Regression\": {\n",
    "        \"C\": [0.1, 0.5, 1],  # Reduced range for faster tuning\n",
    "        \"solver\": [\"liblinear\", \"lbfgs\"]  # Fixed set of solvers\n",
    "    },\n",
    "    \"CatBoost\": {\n",
    "        \"iterations\": [500, 800, 1000],  # Increased boosting iterations\n",
    "        \"learning_rate\": [0.01, 0.03, 0.05, 0.1],  # Expanded range for finer control\n",
    "        \"depth\": [6, 8, 10],  # Added larger tree depths\n",
    "        \"l2_leaf_reg\": [3, 5, 10],  # Regularization tuning\n",
    "        \"bagging_temperature\": [0.5, 0.75, 1],  # Fine-tuning subsampling\n",
    "        \"grow_policy\": [\"SymmetricTree\", \"Lossguide\"],  # Additional tree-building strategies\n",
    "    },\n",
    "    \"Random Forest\": {\n",
    "        \"n_estimators\": [300, 500, 1000],  # Smaller set of estimators\n",
    "        \"max_depth\": [10, 20, None],  # Balanced depth options\n",
    "        \"min_samples_split\": [2, 5, 10],  # Reduced range for efficiency\n",
    "        \"min_samples_leaf\": [1, 2, 5]  # Minimal leaf sizes for faster computation\n",
    "    },\n",
    "    \"LightGBM\": {\n",
    "        \"n_estimators\": [100, 200, 300],  # Expanded boosting rounds\n",
    "        \"num_leaves\": [31, 50, 70],  # Increased leaf count for complexity\n",
    "        \"learning_rate\": [0.01, 0.05, 0.1],  # Narrowed to stable ranges\n",
    "        \"max_depth\": [-1, 10, 15, 20],  # Larger depth options\n",
    "        \"min_child_samples\": [10, 20, 30],  # Fine-tuning leaf-wise growth\n",
    "        \"subsample\": [0.8, 0.9, 1],  # Added more variability in subsampling\n",
    "        \"colsample_bytree\": [0.8, 0.9, 1],  # Column sampling ratios\n",
    "    },\n",
    "    \"XGBoost\": {\n",
    "        \"n_estimators\": [200, 300],  # Increased boosting iterations\n",
    "        \"max_depth\": [6, 8, 10],  # Larger tree depths\n",
    "        \"learning_rate\": [0.01, 0.05, 0.1],  # Finer control of learning rate\n",
    "        \"subsample\": [0.7, 0.8, 0.9],  # Fine-tuned subsampling\n",
    "        \"colsample_bytree\": [0.7, 0.8, 0.9],  # Variability in feature sampling\n",
    "        \"gamma\": [0.1, 0.2, 0.5],  # Regularization to prevent overfitting\n",
    "        \"min_child_weight\": [1, 2, 3],  # Added smaller child weights\n",
    "    }\n",
    "}"
   ]
  },
  {
   "cell_type": "code",
   "execution_count": 78,
   "metadata": {
    "colab": {
     "base_uri": "https://localhost:8080/"
    },
    "executionInfo": {
     "elapsed": 114455,
     "status": "ok",
     "timestamp": 1745851508640,
     "user": {
      "displayName": "Ebiyout Jerri",
      "userId": "17044078967953802273"
     },
     "user_tz": -330
    },
    "id": "0Rl2zMQY6ckm",
    "outputId": "a7ba2348-3eb6-41cd-ef3e-3cd79bdb3ae2"
   },
   "outputs": [
    {
     "name": "stdout",
     "output_type": "stream",
     "text": [
      "Tuning Logistic Regression...\n"
     ]
    },
    {
     "name": "stderr",
     "output_type": "stream",
     "text": [
      "c:\\Users\\suriy\\miniconda3\\envs\\my_env\\lib\\site-packages\\sklearn\\model_selection\\_search.py:317: UserWarning: The total space of parameters 6 is smaller than n_iter=50. Running 6 iterations. For exhaustive searches, use GridSearchCV.\n",
      "  warnings.warn(\n",
      "c:\\Users\\suriy\\miniconda3\\envs\\my_env\\lib\\site-packages\\sklearn\\linear_model\\_logistic.py:465: ConvergenceWarning: lbfgs failed to converge (status=1):\n",
      "STOP: TOTAL NO. of ITERATIONS REACHED LIMIT.\n",
      "\n",
      "Increase the number of iterations (max_iter) or scale the data as shown in:\n",
      "    https://scikit-learn.org/stable/modules/preprocessing.html\n",
      "Please also refer to the documentation for alternative solver options:\n",
      "    https://scikit-learn.org/stable/modules/linear_model.html#logistic-regression\n",
      "  n_iter_i = _check_optimize_result(\n"
     ]
    },
    {
     "name": "stdout",
     "output_type": "stream",
     "text": [
      "Best Parameters for Logistic Regression: {'solver': 'lbfgs', 'C': 1}\n",
      "Best Accuracy for Logistic Regression:  0.81\n",
      "\n",
      "Tuning Random Forest...\n",
      "Best Parameters for Random Forest: {'n_estimators': 1000, 'min_samples_split': 2, 'min_samples_leaf': 1, 'max_depth': None}\n",
      "Best Accuracy for Random Forest:  0.91\n",
      "\n",
      "Tuning CatBoost...\n",
      "Best Parameters for CatBoost: {'learning_rate': 0.03, 'l2_leaf_reg': 3, 'iterations': 500, 'grow_policy': 'SymmetricTree', 'depth': 10, 'bagging_temperature': 0.75}\n",
      "Best Accuracy for CatBoost:  0.91\n",
      "\n",
      "Tuning LightGBM...\n",
      "[LightGBM] [Info] Number of positive: 5585, number of negative: 5585\n",
      "[LightGBM] [Info] Auto-choosing row-wise multi-threading, the overhead of testing was 0.001298 seconds.\n",
      "You can set `force_row_wise=true` to remove the overhead.\n",
      "And if memory is not enough, you can set `force_col_wise=true`.\n",
      "[LightGBM] [Info] Total Bins 1294\n",
      "[LightGBM] [Info] Number of data points in the train set: 11170, number of used features: 13\n",
      "[LightGBM] [Info] [binary:BoostFromScore]: pavg=0.500000 -> initscore=0.000000\n",
      "Best Parameters for LightGBM: {'subsample': 0.9, 'num_leaves': 50, 'n_estimators': 300, 'min_child_samples': 10, 'max_depth': -1, 'learning_rate': 0.1, 'colsample_bytree': 0.8}\n",
      "Best Accuracy for LightGBM:  0.91\n",
      "\n",
      "Tuning XGBoost...\n"
     ]
    },
    {
     "name": "stderr",
     "output_type": "stream",
     "text": [
      "c:\\Users\\suriy\\miniconda3\\envs\\my_env\\lib\\site-packages\\xgboost\\core.py:158: UserWarning: [23:21:34] WARNING: C:\\buildkite-agent\\builds\\buildkite-windows-cpu-autoscaling-group-i-08cbc0333d8d4aae1-1\\xgboost\\xgboost-ci-windows\\src\\learner.cc:740: \n",
      "Parameters: { \"use_label_encoder\" } are not used.\n",
      "\n",
      "  warnings.warn(smsg, UserWarning)\n"
     ]
    },
    {
     "name": "stdout",
     "output_type": "stream",
     "text": [
      "Best Parameters for XGBoost: {'subsample': 0.8, 'n_estimators': 200, 'min_child_weight': 1, 'max_depth': 10, 'learning_rate': 0.05, 'gamma': 0.5, 'colsample_bytree': 0.7}\n",
      "Best Accuracy for XGBoost:  0.91\n",
      "\n"
     ]
    }
   ],
   "source": [
    "best_model = {}\n",
    "\n",
    "for model_name, model in models.items():\n",
    "    print(f\"Tuning {model_name}...\")\n",
    "\n",
    "    if model_name in hyperparameters:\n",
    "        param_distributions = hyperparameters[model_name]  # Using the parameter grid for RandomizedSearchCV\n",
    "    else:\n",
    "        print(f\"No hyperparameters defined for {model_name}. Skipping...\\n\")\n",
    "        continue\n",
    "\n",
    "    # Setting up StratifiedKFold for balanced splits\n",
    "    cv_strategy = StratifiedKFold(n_splits=5, shuffle=True, random_state=42)\n",
    "\n",
    "    # Setting up RandomizedSearchCV\n",
    "    random_search = RandomizedSearchCV(\n",
    "        estimator=model,\n",
    "        param_distributions=param_distributions,  # Parameter distributions for RandomizedSearchCV\n",
    "        n_iter=50,  # Number of random combinations to test\n",
    "        cv=cv_strategy,  # StratifiedKFold for cross-validation\n",
    "        scoring=\"accuracy\",  # Use accuracy as the scoring metric\n",
    "        n_jobs=-1,  # Use all available processors for parallel computation\n",
    "        random_state=42  # Ensures reproducibility\n",
    "    )\n",
    "\n",
    "    # Performing the RandomizedSearchCV\n",
    "    random_search.fit(X_train_smote, y_train_smote)\n",
    "\n",
    "    # Storing the best model and the parameters\n",
    "    best_model[model_name] = random_search.best_estimator_\n",
    "    print(f\"Best Parameters for {model_name}: {random_search.best_params_}\")\n",
    "    print(f\"Best Accuracy for {model_name}: {random_search.best_score_: .2f}\\n\")"
   ]
  },
  {
   "cell_type": "code",
   "execution_count": 79,
   "metadata": {
    "colab": {
     "base_uri": "https://localhost:8080/"
    },
    "executionInfo": {
     "elapsed": 40,
     "status": "ok",
     "timestamp": 1745851508872,
     "user": {
      "displayName": "Ebiyout Jerri",
      "userId": "17044078967953802273"
     },
     "user_tz": -330
    },
    "id": "GhGrwgCf6ckm",
    "outputId": "4807eab2-b778-469f-909b-cb20aeccc760"
   },
   "outputs": [
    {
     "data": {
      "text/plain": [
       "{'Logistic Regression': LogisticRegression(C=1, max_iter=1000),\n",
       " 'Random Forest': RandomForestClassifier(n_estimators=1000, random_state=42),\n",
       " 'CatBoost': <catboost.core.CatBoostClassifier at 0x21492062bb0>,\n",
       " 'LightGBM': LGBMClassifier(colsample_bytree=0.8, min_child_samples=10, n_estimators=300,\n",
       "                num_leaves=50, random_state=42, subsample=0.9),\n",
       " 'XGBoost': XGBClassifier(base_score=None, booster=None, callbacks=None,\n",
       "               colsample_bylevel=None, colsample_bynode=None,\n",
       "               colsample_bytree=0.7, device=None, early_stopping_rounds=None,\n",
       "               enable_categorical=False, eval_metric='logloss',\n",
       "               feature_types=None, gamma=0.5, grow_policy=None,\n",
       "               importance_type=None, interaction_constraints=None,\n",
       "               learning_rate=0.05, max_bin=None, max_cat_threshold=None,\n",
       "               max_cat_to_onehot=None, max_delta_step=None, max_depth=10,\n",
       "               max_leaves=None, min_child_weight=1, missing=nan,\n",
       "               monotone_constraints=None, multi_strategy=None, n_estimators=200,\n",
       "               n_jobs=None, num_parallel_tree=None, random_state=42, ...)}"
      ]
     },
     "execution_count": 79,
     "metadata": {},
     "output_type": "execute_result"
    }
   ],
   "source": [
    "best_model"
   ]
  },
  {
   "cell_type": "code",
   "execution_count": 112,
   "metadata": {
    "executionInfo": {
     "elapsed": 9,
     "status": "ok",
     "timestamp": 1745851508884,
     "user": {
      "displayName": "Ebiyout Jerri",
      "userId": "17044078967953802273"
     },
     "user_tz": -330
    },
    "id": "-2SnXICQ6ckn"
   },
   "outputs": [],
   "source": [
    "import pickle\n",
    "with open(\"best_model.pkl\",\"wb\") as f:\n",
    "  pickle.dump(best_model['LightGBM'],f)"
   ]
  },
  {
   "cell_type": "code",
   "execution_count": 113,
   "metadata": {
    "executionInfo": {
     "elapsed": 121,
     "status": "ok",
     "timestamp": 1745851509025,
     "user": {
      "displayName": "Ebiyout Jerri",
      "userId": "17044078967953802273"
     },
     "user_tz": -330
    },
    "id": "iJMeDtDD6ckn"
   },
   "outputs": [],
   "source": [
    "y_test_pred=best_model['LightGBM'].predict(X_test)\n",
    "y_test_prob=best_model['LightGBM'].predict_proba(X_test)[:,1]"
   ]
  },
  {
   "cell_type": "code",
   "execution_count": 114,
   "metadata": {
    "colab": {
     "base_uri": "https://localhost:8080/"
    },
    "executionInfo": {
     "elapsed": 40,
     "status": "ok",
     "timestamp": 1745851509076,
     "user": {
      "displayName": "Ebiyout Jerri",
      "userId": "17044078967953802273"
     },
     "user_tz": -330
    },
    "id": "J4dRDEAS6ckn",
    "outputId": "200f8c22-27ea-4bdc-e81b-8310da096efc"
   },
   "outputs": [
    {
     "data": {
      "text/plain": [
       "array([1, 0, 0, ..., 0, 0, 0], dtype=int64)"
      ]
     },
     "execution_count": 114,
     "metadata": {},
     "output_type": "execute_result"
    }
   ],
   "source": [
    "y_test_pred"
   ]
  },
  {
   "cell_type": "code",
   "execution_count": 115,
   "metadata": {
    "colab": {
     "base_uri": "https://localhost:8080/"
    },
    "executionInfo": {
     "elapsed": 25,
     "status": "ok",
     "timestamp": 1745851509104,
     "user": {
      "displayName": "Ebiyout Jerri",
      "userId": "17044078967953802273"
     },
     "user_tz": -330
    },
    "id": "kp-b1Ksd6cko",
    "outputId": "83822a1e-79f6-4feb-fdae-68ef79f4b658"
   },
   "outputs": [
    {
     "data": {
      "text/plain": [
       "array([0.99455004, 0.00343802, 0.02272547, ..., 0.03538434, 0.37340332,\n",
       "       0.01767675])"
      ]
     },
     "execution_count": 115,
     "metadata": {},
     "output_type": "execute_result"
    }
   ],
   "source": [
    "y_test_prob"
   ]
  },
  {
   "cell_type": "code",
   "execution_count": 116,
   "metadata": {
    "colab": {
     "base_uri": "https://localhost:8080/"
    },
    "executionInfo": {
     "elapsed": 108,
     "status": "ok",
     "timestamp": 1745851509215,
     "user": {
      "displayName": "Ebiyout Jerri",
      "userId": "17044078967953802273"
     },
     "user_tz": -330
    },
    "id": "4JyUELsE6cko",
    "outputId": "952a50c2-7472-49c0-c27e-b1f003c6d221"
   },
   "outputs": [
    {
     "name": "stdout",
     "output_type": "stream",
     "text": [
      "Accuracy:0.8552368245496998\n",
      "ROC-AUC Score:0.735890771175727\n",
      "Confusion Matrix:\n",
      "[[2232  141]\n",
      " [ 293  332]]\n",
      "Classification Report:\n",
      "              precision    recall  f1-score   support\n",
      "\n",
      "           0       0.88      0.94      0.91      2373\n",
      "           1       0.70      0.53      0.60       625\n",
      "\n",
      "    accuracy                           0.86      2998\n",
      "   macro avg       0.79      0.74      0.76      2998\n",
      "weighted avg       0.85      0.86      0.85      2998\n",
      "\n"
     ]
    }
   ],
   "source": [
    "print(f\"Accuracy:{accuracy_score(y_test,y_test_pred)}\")\n",
    "print(f\"ROC-AUC Score:{roc_auc_score(y_test,y_test_pred)}\")\n",
    "print(f\"Confusion Matrix:\\n{confusion_matrix(y_test,y_test_pred)}\")\n",
    "print(f\"Classification Report:\\n{classification_report(y_test,y_test_pred)}\")"
   ]
  },
  {
   "cell_type": "code",
   "execution_count": 117,
   "metadata": {
    "executionInfo": {
     "elapsed": 7,
     "status": "ok",
     "timestamp": 1745851509226,
     "user": {
      "displayName": "Ebiyout Jerri",
      "userId": "17044078967953802273"
     },
     "user_tz": -330
    },
    "id": "8slnObq26cko"
   },
   "outputs": [],
   "source": [
    "with open(\"best_model.pkl\",\"rb\") as f:\n",
    "  model=pickle.load(f)\n",
    "  with open(\"pipeline.pkl\",\"rb\")as f:\n",
    "    pipeline_loaded=pickle.load(f)"
   ]
  },
  {
   "cell_type": "code",
   "execution_count": 118,
   "metadata": {
    "colab": {
     "base_uri": "https://localhost:8080/"
    },
    "executionInfo": {
     "elapsed": 60,
     "status": "ok",
     "timestamp": 1745851509294,
     "user": {
      "displayName": "Ebiyout Jerri",
      "userId": "17044078967953802273"
     },
     "user_tz": -330
    },
    "id": "n4uE5xUU6cko",
    "outputId": "5f06e4c9-0352-47ad-bd25-c4fa047e60d9"
   },
   "outputs": [
    {
     "data": {
      "text/plain": [
       "Index(['CreditScore', 'Tenure', 'Balance', 'HasCrCard', 'IsActiveMember',\n",
       "       'EstimatedSalary', 'Churn', 'Gender_Female', 'Gender_Male',\n",
       "       'Location_France', 'Location_Germany', 'Location_Spain',\n",
       "       'NumOfProducts_log', 'Age_log'],\n",
       "      dtype='object')"
      ]
     },
     "execution_count": 118,
     "metadata": {},
     "output_type": "execute_result"
    }
   ],
   "source": [
    "df.columns"
   ]
  },
  {
   "cell_type": "code",
   "execution_count": 119,
   "metadata": {
    "executionInfo": {
     "elapsed": 32,
     "status": "ok",
     "timestamp": 1745851509298,
     "user": {
      "displayName": "Ebiyout Jerri",
      "userId": "17044078967953802273"
     },
     "user_tz": -330
    },
    "id": "KUgKPojg6ckp"
   },
   "outputs": [],
   "source": [
    "def make_prediction(input_data):\n",
    "    # Convert input data into a DataFrame\n",
    "    input_df = pd.DataFrame([input_data])\n",
    "\n",
    "    # Use the pipeline to preprocess the data\n",
    "    transformed_input = pipeline.transform(input_df)\n",
    "\n",
    "\n",
    "    # Use LightGBM for prediction\n",
    "    prediction = model.predict(transformed_input)[0]\n",
    "    probability = model.predict_proba(transformed_input)[0, 1]\n",
    "\n",
    "    # Return the result\n",
    "    return \"Churn\" if prediction == 1 else \"No Churn\", probability"
   ]
  },
  {
   "cell_type": "code",
   "execution_count": 120,
   "metadata": {
    "executionInfo": {
     "elapsed": 14,
     "status": "ok",
     "timestamp": 1745851592190,
     "user": {
      "displayName": "Ebiyout Jerri",
      "userId": "17044078967953802273"
     },
     "user_tz": -330
    },
    "id": "WWXPFVoyNPu3"
   },
   "outputs": [],
   "source": [
    "\n",
    "examp= {\n",
    "    'CreditScore': 680,\n",
    "    'Tenure': 1,\n",
    "    'Balance': 656,\n",
    "    'EstimatedSalary': 50000,\n",
    "    'NumOfProducts': 3,\n",
    "    'Age': 27,\n",
    "    'Gender': 'Male',\n",
    "    'Location': 'Spain',\n",
    "    'HasCrCard': 'Yes',\n",
    "    'IsActiveMember': 'No'\n",
    "}"
   ]
  },
  {
   "cell_type": "code",
   "execution_count": 121,
   "metadata": {
    "colab": {
     "base_uri": "https://localhost:8080/"
    },
    "executionInfo": {
     "elapsed": 107,
     "status": "ok",
     "timestamp": 1745851597268,
     "user": {
      "displayName": "Ebiyout Jerri",
      "userId": "17044078967953802273"
     },
     "user_tz": -330
    },
    "id": "yFJJPeC66ckp",
    "outputId": "9c48ade1-701d-4aa4-fdfd-aab5907d5a7d"
   },
   "outputs": [
    {
     "name": "stderr",
     "output_type": "stream",
     "text": [
      "C:\\Users\\suriy\\AppData\\Local\\Temp\\ipykernel_1368\\820614418.py:5: FutureWarning: DataFrame.applymap has been deprecated. Use DataFrame.map instead.\n",
      "  return df.applymap(lambda x: {'Yes': 1, 'No': 0}.get(x, x))\n",
      "c:\\Users\\suriy\\miniconda3\\envs\\my_env\\lib\\site-packages\\sklearn\\utils\\validation.py:2739: UserWarning: X does not have valid feature names, but LGBMClassifier was fitted with feature names\n",
      "  warnings.warn(\n",
      "c:\\Users\\suriy\\miniconda3\\envs\\my_env\\lib\\site-packages\\sklearn\\utils\\validation.py:2739: UserWarning: X does not have valid feature names, but LGBMClassifier was fitted with feature names\n",
      "  warnings.warn(\n"
     ]
    }
   ],
   "source": [
    "prediction,prob=make_prediction(examp)"
   ]
  },
  {
   "cell_type": "code",
   "execution_count": 122,
   "metadata": {
    "colab": {
     "base_uri": "https://localhost:8080/"
    },
    "executionInfo": {
     "elapsed": 75,
     "status": "ok",
     "timestamp": 1745851598609,
     "user": {
      "displayName": "Ebiyout Jerri",
      "userId": "17044078967953802273"
     },
     "user_tz": -330
    },
    "id": "w75Np3yw6ckp",
    "outputId": "dd3ae699-06c1-4d6d-813f-5a16aa5572a4"
   },
   "outputs": [
    {
     "name": "stdout",
     "output_type": "stream",
     "text": [
      "Prediction:No Churn\n",
      "Probability :0.38\n"
     ]
    }
   ],
   "source": [
    "print(f\"Prediction:{prediction}\\nProbability :{prob:.2f}\")"
   ]
  },
  {
   "cell_type": "code",
   "execution_count": 123,
   "metadata": {
    "colab": {
     "base_uri": "https://localhost:8080/",
     "height": 294
    },
    "executionInfo": {
     "elapsed": 428,
     "status": "ok",
     "timestamp": 1745855192386,
     "user": {
      "displayName": "Ebiyout Jerri",
      "userId": "17044078967953802273"
     },
     "user_tz": -330
    },
    "id": "p9pIb-sx1GPN",
    "outputId": "dea20d9c-ec0a-4f8b-dc6f-e73dd7949511"
   },
   "outputs": [
    {
     "name": "stderr",
     "output_type": "stream",
     "text": [
      "C:\\Users\\suriy\\AppData\\Local\\Temp\\ipykernel_1368\\820614418.py:5: FutureWarning: DataFrame.applymap has been deprecated. Use DataFrame.map instead.\n",
      "  return df.applymap(lambda x: {'Yes': 1, 'No': 0}.get(x, x))\n",
      "c:\\Users\\suriy\\miniconda3\\envs\\my_env\\lib\\site-packages\\sklearn\\utils\\validation.py:2739: UserWarning: X does not have valid feature names, but LGBMClassifier was fitted with feature names\n",
      "  warnings.warn(\n"
     ]
    },
    {
     "data": {
      "image/png": "[encoded data removed]",
      "text/plain": [
       "<Figure size 1000x600 with 1 Axes>"
      ]
     },
     "metadata": {},
     "output_type": "display_data"
    }
   ],
   "source": [
    "import pandas as pd\n",
    "import numpy as np\n",
    "import matplotlib.pyplot as plt\n",
    "import seaborn as sns\n",
    "import pickle\n",
    "# Create a dataset for future predictions\n",
    "# Example: Varying CreditScore while keeping other features constant\n",
    "future_data = pd.DataFrame({\n",
    "    'CreditScore': np.linspace(300, 850, 100),  # Range of credit scores\n",
    "    'Tenure': [10] * 100,  # Fixed value\n",
    "    'Balance': [50000] * 100,  # Fixed value\n",
    "    'EstimatedSalary': [75000] * 100,  # Fixed value\n",
    "    'NumOfProducts': [2] * 100,  # Fixed value\n",
    "    'Gender': ['Male'] * 100,  # Fixed value\n",
    "    'Location': ['Spain'] * 100,  # Fixed value\n",
    "\n",
    "    'Age': [35] * 100,  # Fixed value\n",
    "    'HasCrCard': ['Yes'] * 100,  # Fixed value\n",
    "    'IsActiveMember': ['Yes'] * 100  # Fixed value\n",
    "})\n",
    "\n",
    "# Preprocess the data using the pipeline\n",
    "future_data_transformed = pipeline.transform(future_data)\n",
    "\n",
    "# Predict using the trained model\n",
    "future_data['Prob'] = model.predict_proba(future_data_transformed)[:,1]\n",
    "\n",
    "# Plot the predictions\n",
    "plt.figure(figsize=(10, 6))\n",
    "sns.lineplot(x='CreditScore', y='Prob', data=future_data)\n",
    "plt.title('Effect of Credit Score on Churn')\n",
    "plt.xlabel('Credit Score')\n",
    "plt.ylabel('Churn')\n",
    "plt.grid(True)\n",
    "plt.show()"
   ]
  },
  {
   "cell_type": "code",
   "execution_count": 124,
   "metadata": {
    "colab": {
     "base_uri": "https://localhost:8080/",
     "height": 296
    },
    "executionInfo": {
     "elapsed": 847,
     "status": "ok",
     "timestamp": 1745855248540,
     "user": {
      "displayName": "Ebiyout Jerri",
      "userId": "17044078967953802273"
     },
     "user_tz": -330
    },
    "id": "zkJF4aXP55mo",
    "outputId": "21ef7b4a-2de5-4018-fed4-1560bda23cdf"
   },
   "outputs": [
    {
     "name": "stderr",
     "output_type": "stream",
     "text": [
      "C:\\Users\\suriy\\AppData\\Local\\Temp\\ipykernel_1368\\820614418.py:5: FutureWarning: DataFrame.applymap has been deprecated. Use DataFrame.map instead.\n",
      "  return df.applymap(lambda x: {'Yes': 1, 'No': 0}.get(x, x))\n",
      "c:\\Users\\suriy\\miniconda3\\envs\\my_env\\lib\\site-packages\\sklearn\\utils\\validation.py:2739: UserWarning: X does not have valid feature names, but LGBMClassifier was fitted with feature names\n",
      "  warnings.warn(\n"
     ]
    },
    {
     "data": {
      "image/png": "[encoded data removed]",
      "text/plain": [
       "<Figure size 1000x600 with 1 Axes>"
      ]
     },
     "metadata": {},
     "output_type": "display_data"
    }
   ],
   "source": [
    "# Create a dataset for future predictions with varying Tenure\n",
    "future_data = pd.DataFrame({\n",
    "    'CreditScore': [700] * 50,  # Fixed value\n",
    "    'Tenure': np.linspace(0, 50, 50),  # Range of Tenure\n",
    "    'Balance': [50000] * 50,  # Fixed value\n",
    "    'EstimatedSalary': [75000] * 50,  # Fixed value\n",
    "    'Gender': ['Male'] * 50,  # Fixed value\n",
    "    'Location': ['Spain'] * 50,  # Fixed value\n",
    "    'NumOfProducts': [2] * 50,  # Fixed value\n",
    "    'Age': [35] * 50,  # Fixed value\n",
    "    'HasCrCard': ['Yes'] * 50,  # Fixed value\n",
    "    'IsActiveMember': ['Yes'] * 50  # Fixed value\n",
    "})\n",
    "\n",
    "# Preprocess the data using the pipeline\n",
    "future_data_transformed = pipeline.transform(future_data)\n",
    "\n",
    "# Predict using the trained model\n",
    "future_data['Prediction'] = model.predict_proba(future_data_transformed)[:,1]\n",
    "\n",
    "# Plot the predictions\n",
    "plt.figure(figsize=(10, 6))\n",
    "sns.lineplot(x='Tenure', y='Prediction', data=future_data)\n",
    "plt.title('Effect of Tenure on Churn')\n",
    "plt.xlabel('Tenure')\n",
    "plt.ylabel('Churn')\n",
    "plt.grid(True)\n",
    "plt.show()"
   ]
  },
  {
   "cell_type": "code",
   "execution_count": 125,
   "metadata": {
    "colab": {
     "base_uri": "https://localhost:8080/",
     "height": 296
    },
    "executionInfo": {
     "elapsed": 545,
     "status": "ok",
     "timestamp": 1745855391835,
     "user": {
      "displayName": "Ebiyout Jerri",
      "userId": "17044078967953802273"
     },
     "user_tz": -330
    },
    "id": "3846zhN76SgQ",
    "outputId": "280aba3c-278a-4706-e694-a5c674414147"
   },
   "outputs": [
    {
     "name": "stderr",
     "output_type": "stream",
     "text": [
      "C:\\Users\\suriy\\AppData\\Local\\Temp\\ipykernel_1368\\820614418.py:5: FutureWarning: DataFrame.applymap has been deprecated. Use DataFrame.map instead.\n",
      "  return df.applymap(lambda x: {'Yes': 1, 'No': 0}.get(x, x))\n",
      "c:\\Users\\suriy\\miniconda3\\envs\\my_env\\lib\\site-packages\\sklearn\\utils\\validation.py:2739: UserWarning: X does not have valid feature names, but LGBMClassifier was fitted with feature names\n",
      "  warnings.warn(\n"
     ]
    },
    {
     "data": {
      "image/png": "[encoded data removed]",
      "text/plain": [
       "<Figure size 1000x600 with 1 Axes>"
      ]
     },
     "metadata": {},
     "output_type": "display_data"
    }
   ],
   "source": [
    "# Create a dataset for future predictions with varying Balance\n",
    "future_data = pd.DataFrame({\n",
    "    'CreditScore': [700] * 50,  # Fixed value\n",
    "    'Tenure': [10] * 50,  # Fixed value\n",
    "    'Balance': np.linspace(0, 200000, 50),  # Range of Balance\n",
    "    'EstimatedSalary': [75000] * 50,  # Fixed value\n",
    "    'Gender': ['Male'] * 50,  # Fixed value\n",
    "    'Location': ['Spain'] * 50,  # Fixed value\n",
    "    'NumOfProducts': [2] * 50,  # Fixed value\n",
    "    'Age': [35] * 50,  # Fixed value\n",
    "    'HasCrCard': ['Yes'] * 50,  # Fixed value\n",
    "    'IsActiveMember': ['Yes'] * 50  # Fixed value\n",
    "})\n",
    "\n",
    "# Preprocess the data using the pipeline\n",
    "future_data_transformed = pipeline.transform(future_data)\n",
    "\n",
    "# Predict using the trained model\n",
    "future_data['Prediction'] = model.predict_proba(future_data_transformed)[:,1]\n",
    "\n",
    "# Plot the predictions\n",
    "plt.figure(figsize=(10, 6))\n",
    "sns.lineplot(x='Balance', y='Prediction', data=future_data)\n",
    "plt.title('Effect of Balance on Churn')\n",
    "plt.xlabel('Balance')\n",
    "plt.ylabel('Churn')\n",
    "plt.grid(True)\n",
    "plt.show()"
   ]
  },
  {
   "cell_type": "code",
   "execution_count": 126,
   "metadata": {
    "colab": {
     "base_uri": "https://localhost:8080/",
     "height": 290
    },
    "executionInfo": {
     "elapsed": 1128,
     "status": "ok",
     "timestamp": 1745855440398,
     "user": {
      "displayName": "Ebiyout Jerri",
      "userId": "17044078967953802273"
     },
     "user_tz": -330
    },
    "id": "ikAPwksY6mmB",
    "outputId": "0c14b036-e52f-42c4-ed42-a33730abf278"
   },
   "outputs": [
    {
     "name": "stderr",
     "output_type": "stream",
     "text": [
      "C:\\Users\\suriy\\AppData\\Local\\Temp\\ipykernel_1368\\820614418.py:5: FutureWarning: DataFrame.applymap has been deprecated. Use DataFrame.map instead.\n",
      "  return df.applymap(lambda x: {'Yes': 1, 'No': 0}.get(x, x))\n",
      "c:\\Users\\suriy\\miniconda3\\envs\\my_env\\lib\\site-packages\\sklearn\\utils\\validation.py:2739: UserWarning: X does not have valid feature names, but LGBMClassifier was fitted with feature names\n",
      "  warnings.warn(\n"
     ]
    },
    {
     "data": {
      "image/png": "[encoded data removed]",
      "text/plain": [
       "<Figure size 1000x600 with 1 Axes>"
      ]
     },
     "metadata": {},
     "output_type": "display_data"
    }
   ],
   "source": [
    "\n",
    "\n",
    "# Create a dataset for future predictions with varying EstimatedSalary\n",
    "future_data = pd.DataFrame({\n",
    "    'CreditScore': [700] * 50,  # Fixed value\n",
    "    'Tenure': [10] * 50,  # Fixed value\n",
    "    'Balance': [50000] * 50,  # Fixed value\n",
    "    'EstimatedSalary': np.linspace(0, 200000, 50),  # Range of EstimatedSalary\n",
    "    'Gender': ['Male'] * 50,  # Fixed value\n",
    "    'Location': ['France'] * 50,  # Fixed value\n",
    "    'NumOfProducts': [2] * 50,  # Fixed value\n",
    "    'Age': [35] * 50,  # Fixed value\n",
    "    'HasCrCard': ['Yes'] * 50,  # Fixed value\n",
    "    'IsActiveMember': ['No'] * 50  # Fixed value\n",
    "})\n",
    "\n",
    "# Preprocess the data using the pipeline\n",
    "future_data_transformed = pipeline.transform(future_data)\n",
    "\n",
    "# Predict using the trained model\n",
    "future_data['Prediction'] = model.predict_proba(future_data_transformed)[:,1]\n",
    "\n",
    "\n",
    "# Plot the predictions\n",
    "plt.figure(figsize=(10, 6))\n",
    "sns.lineplot(x='EstimatedSalary', y='Prediction', data=future_data)\n",
    "plt.title('Effect of Estimated Salary on Churn')\n",
    "plt.xlabel('Estimated Salary')\n",
    "plt.ylabel('Churn')\n",
    "plt.grid(True)\n",
    "plt.show()"
   ]
  },
  {
   "cell_type": "code",
   "execution_count": 127,
   "metadata": {
    "colab": {
     "base_uri": "https://localhost:8080/",
     "height": 298
    },
    "executionInfo": {
     "elapsed": 1664,
     "status": "ok",
     "timestamp": 1745855472778,
     "user": {
      "displayName": "Ebiyout Jerri",
      "userId": "17044078967953802273"
     },
     "user_tz": -330
    },
    "id": "K1qXxNnD8ucW",
    "outputId": "7192728f-55b9-4505-d5f8-d8314e55e459"
   },
   "outputs": [
    {
     "name": "stderr",
     "output_type": "stream",
     "text": [
      "C:\\Users\\suriy\\AppData\\Local\\Temp\\ipykernel_1368\\820614418.py:5: FutureWarning: DataFrame.applymap has been deprecated. Use DataFrame.map instead.\n",
      "  return df.applymap(lambda x: {'Yes': 1, 'No': 0}.get(x, x))\n",
      "c:\\Users\\suriy\\miniconda3\\envs\\my_env\\lib\\site-packages\\sklearn\\utils\\validation.py:2739: UserWarning: X does not have valid feature names, but LGBMClassifier was fitted with feature names\n",
      "  warnings.warn(\n"
     ]
    },
    {
     "data": {
      "image/png": "[encoded data removed]",
      "text/plain": [
       "<Figure size 1000x600 with 1 Axes>"
      ]
     },
     "metadata": {},
     "output_type": "display_data"
    }
   ],
   "source": [
    "# Create a dataset for future predictions with varying NumberOfProducts\n",
    "future_data = pd.DataFrame({\n",
    "    'CreditScore': [700] * 10,  # Fixed value\n",
    "    'Tenure': [10] * 10,  # Fixed value\n",
    "    'Balance': [50000] * 10,  # Fixed value\n",
    "    'EstimatedSalary': [75000] * 10,  # Fixed value\n",
    "    'Gender': ['Male'] * 10,  # Fixed value\n",
    "    'Location': ['LocationA'] * 10,  # Fixed value\n",
    "    'NumOfProducts': np.arange(1, 11, 1),  # Range of NumberOfProducts (e.g., 1 to 10)\n",
    "    'Age': [35] * 10,  # Fixed value\n",
    "    'HasCrCard': ['Yes'] * 10,  # Fixed value\n",
    "    'IsActiveMember': ['Yes'] * 10  # Fixed value\n",
    "})\n",
    "\n",
    "# Preprocess the data using the pipeline\n",
    "future_data_transformed = pipeline.transform(future_data)\n",
    "\n",
    "# Predict using the trained model\n",
    "future_data['Prediction'] = model.predict_proba(future_data_transformed)[:,1]\n",
    "\n",
    "# Plot the predictions\n",
    "plt.figure(figsize=(10, 6))\n",
    "sns.lineplot(x='NumOfProducts', y='Prediction', data=future_data)\n",
    "plt.title('Effect of Number of Products on Churn')\n",
    "plt.xlabel('NumOfProducts')\n",
    "plt.ylabel('Churn')\n",
    "plt.grid(True)\n",
    "plt.show()"
   ]
  },
  {
   "cell_type": "code",
   "execution_count": 128,
   "metadata": {
    "colab": {
     "base_uri": "https://localhost:8080/",
     "height": 298
    },
    "executionInfo": {
     "elapsed": 470,
     "status": "ok",
     "timestamp": 1745855519699,
     "user": {
      "displayName": "Ebiyout Jerri",
      "userId": "17044078967953802273"
     },
     "user_tz": -330
    },
    "id": "j0SHm9jV9DnT",
    "outputId": "9ffbc4ab-ff7c-431f-eb1a-96490f3926aa"
   },
   "outputs": [
    {
     "name": "stderr",
     "output_type": "stream",
     "text": [
      "C:\\Users\\suriy\\AppData\\Local\\Temp\\ipykernel_1368\\820614418.py:5: FutureWarning: DataFrame.applymap has been deprecated. Use DataFrame.map instead.\n",
      "  return df.applymap(lambda x: {'Yes': 1, 'No': 0}.get(x, x))\n",
      "c:\\Users\\suriy\\miniconda3\\envs\\my_env\\lib\\site-packages\\sklearn\\utils\\validation.py:2739: UserWarning: X does not have valid feature names, but LGBMClassifier was fitted with feature names\n",
      "  warnings.warn(\n"
     ]
    },
    {
     "data": {
      "image/png": "[encoded data removed]",
      "text/plain": [
       "<Figure size 1000x600 with 1 Axes>"
      ]
     },
     "metadata": {},
     "output_type": "display_data"
    }
   ],
   "source": [
    "# Create a dataset for future predictions with varying Age\n",
    "future_data = pd.DataFrame({\n",
    "    'CreditScore': [700] * 50,  # Fixed value\n",
    "    'Tenure': [10] * 50,  # Fixed value\n",
    "    'Balance': [50000] * 50,  # Fixed value\n",
    "    'EstimatedSalary': [75000] * 50,  # Fixed value\n",
    "    'Gender': ['Male'] * 50,  # Fixed value\n",
    "    'Location': ['LocationA'] * 50,  # Fixed value\n",
    "    'NumOfProducts': [2] * 50,  # Fixed value\n",
    "    'Age': np.linspace(18, 70, 50),  # Range of Age from 18 to 70\n",
    "    'HasCrCard': ['Yes'] * 50,  # Fixed value\n",
    "    'IsActiveMember': ['Yes'] * 50  # Fixed value\n",
    "})\n",
    "\n",
    "# Preprocess the data using the pipeline\n",
    "future_data_transformed = pipeline.transform(future_data)\n",
    "\n",
    "# Predict using the trained model\n",
    "future_data['Prediction'] = model.predict_proba(future_data_transformed)[:,1]\n",
    "\n",
    "# Plot the predictions\n",
    "plt.figure(figsize=(10, 6))\n",
    "sns.lineplot(x='Age', y='Prediction', data=future_data)\n",
    "plt.title('Effect of Age on Churn')\n",
    "plt.xlabel('Age')\n",
    "plt.ylabel('Churn')\n",
    "plt.grid(True)\n",
    "plt.show()"
   ]
  }
 ],
 "metadata": {
  "colab": {
   "provenance": [
    {
     "file_id": "1hF4C07sp4th_7Ytan-PDsTcOvIv2gFyO",
     "timestamp": 1745855545345
    },
    {
     "file_id": "13DOXbxZ0lccg6JyQ3LSaYC9q3FK8B7j6",
     "timestamp": 1744706019065
    }
   ]
  },
  "kernelspec": {
   "display_name": "my_env",
   "language": "python",
   "name": "python3"
  },
  "language_info": {
   "codemirror_mode": {
    "name": "ipython",
    "version": 3
   },
   "file_extension": ".py",
   "mimetype": "text/x-python",
   "name": "python",
   "nbconvert_exporter": "python",
   "pygments_lexer": "ipython3",
   "version": "3.9.21"
  }
 },
 "nbformat": 4,
 "nbformat_minor": 0
}
